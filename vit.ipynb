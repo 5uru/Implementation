{
 "cells": [
  {
   "cell_type": "code",
   "id": "initial_id",
   "metadata": {
    "collapsed": true,
    "ExecuteTime": {
     "end_time": "2025-04-03T10:07:14.334821Z",
     "start_time": "2025-04-03T10:07:14.325507Z"
    }
   },
   "source": [
    "from flax import nnx\n",
    "import jax\n",
    "import jax.numpy as jnp\n",
    "import optax\n",
    "from typing import Optional, Tuple\n",
    "import math\n",
    "import torch.utils.data as data\n",
    "import torchvision\n",
    "from matplotlib import pyplot as plt\n",
    "import torch\n",
    "import tqdm\n",
    "from datetime import datetime\n",
    "from tqdm.notebook import tqdm_notebook\n",
    "from torch2jax import t2j"
   ],
   "outputs": [],
   "execution_count": 32
  },
  {
   "metadata": {},
   "cell_type": "markdown",
   "source": "Setting some parameters",
   "id": "88c655228a574d4c"
  },
  {
   "metadata": {
    "ExecuteTime": {
     "end_time": "2025-04-03T10:19:20.396568Z",
     "start_time": "2025-04-03T10:19:20.394538Z"
    }
   },
   "cell_type": "code",
   "source": [
    "image_size = 28\n",
    "embed_dim=256\n",
    "hidden_dim=embed_dim*3\n",
    "num_heads=8\n",
    "num_layers=6\n",
    "patch_size=7\n",
    "num_patches=16\n",
    "num_channels=1\n",
    "num_classes=10\n",
    "dropout=0.2"
   ],
   "id": "2861389881ff82ab",
   "outputs": [],
   "execution_count": 46
  },
  {
   "metadata": {},
   "cell_type": "markdown",
   "source": "Downloading MNIST from torchvision\n",
   "id": "19852ccc3b765310"
  },
  {
   "metadata": {
    "ExecuteTime": {
     "end_time": "2025-04-03T10:45:30.590297Z",
     "start_time": "2025-04-03T10:45:30.516561Z"
    }
   },
   "cell_type": "code",
   "source": [
    "# Set preprocess operations with channel reordering\n",
    "MNIST_preprocess = torchvision.transforms.Compose([\n",
    "        torchvision.transforms.ToTensor(),\n",
    "        torchvision.transforms.Normalize((0.5,), (0.5,)),\n",
    "        # Convert from (C, H, W) to (H, W, C) format\n",
    "        torchvision.transforms.Lambda(lambda x: x.permute(1, 2, 0))\n",
    "])\n",
    "\n",
    "# Download datasets with corrected preprocessing\n",
    "train_dataset = torchvision.datasets.MNIST(\n",
    "        root='data/MNIST',\n",
    "        train=True,\n",
    "        download=True,\n",
    "        transform=MNIST_preprocess  # <-- Now includes channel reordering\n",
    ")\n",
    "\n",
    "# Split and create loaders (no changes needed here)\n",
    "train_set, val_set = data.random_split(train_dataset, [50000, 10000])\n",
    "test_set = torchvision.datasets.MNIST(\n",
    "        root='data/MNIST',\n",
    "        train=False,\n",
    "        download=True,\n",
    "        transform=MNIST_preprocess  # <-- Same corrected transform\n",
    ")\n",
    "\n",
    "# Data loaders remain unchanged\n",
    "train_loader = data.DataLoader(dataset=train_set, batch_size=128, shuffle=True)\n",
    "val_loader = data.DataLoader(dataset=val_set, batch_size=128, shuffle=False)\n",
    "test_loader = data.DataLoader(dataset=test_set, batch_size=128, shuffle=False)"
   ],
   "id": "1a481c4c20ca32e9",
   "outputs": [],
   "execution_count": 65
  },
  {
   "metadata": {},
   "cell_type": "markdown",
   "source": "VisionTransformer with LayerNorm",
   "id": "48b0aee51954e0b9"
  },
  {
   "metadata": {
    "ExecuteTime": {
     "end_time": "2025-04-03T08:19:36.223855Z",
     "start_time": "2025-04-03T08:19:36.214170Z"
    }
   },
   "cell_type": "code",
   "source": [
    "class TransformerEncoderWithLayerNorm(nnx.Module):\n",
    "    def __init__(\n",
    "            self,\n",
    "            hidden_size: int,\n",
    "            mlp_dim: int,\n",
    "            num_heads: int,\n",
    "            dropout_rate: float = 0.0,\n",
    "            *,\n",
    "            rngs: nnx.Rngs = nnx.Rngs(0),\n",
    "    ) -> None:\n",
    "\n",
    "        self.norm1 = nnx.LayerNorm(hidden_size, rngs=rngs)\n",
    "        self.attn = nnx.MultiHeadAttention(\n",
    "                num_heads=num_heads,\n",
    "                in_features=hidden_size,\n",
    "                dropout_rate=dropout_rate,\n",
    "                broadcast_dropout=False,\n",
    "                decode=False,\n",
    "                deterministic=False,\n",
    "                rngs=rngs,\n",
    "        )\n",
    "        self.norm2 = nnx.LayerNorm(hidden_size, rngs=rngs)\n",
    "\n",
    "        self.mlp = nnx.Sequential(\n",
    "                nnx.Linear(hidden_size, mlp_dim, rngs=rngs),\n",
    "                nnx.gelu,\n",
    "                nnx.Dropout(dropout_rate, rngs=rngs),\n",
    "                nnx.Linear(mlp_dim, hidden_size, rngs=rngs),\n",
    "                nnx.Dropout(dropout_rate, rngs=rngs),\n",
    "        )\n",
    "\n",
    "    def __call__(self, x: jax.Array) -> jax.Array:\n",
    "        x = x + self.attn(self.norm1(x))\n",
    "        x = x + self.mlp(self.norm2(x))\n",
    "        return x"
   ],
   "id": "870f4135836a5972",
   "outputs": [],
   "execution_count": 11
  },
  {
   "metadata": {
    "ExecuteTime": {
     "end_time": "2025-04-03T08:20:11.051077Z",
     "start_time": "2025-04-03T08:20:11.028141Z"
    }
   },
   "cell_type": "code",
   "source": [
    "class VisionTransformerWithLayerNorm(nnx.Module):\n",
    "\n",
    "    def __init__(\n",
    "            self,\n",
    "            num_classes: int = 1000,\n",
    "            in_channels: int = 3,\n",
    "            img_size: int = 224,\n",
    "            patch_size: int = 16,\n",
    "            num_layers: int = 12,\n",
    "            num_heads: int = 12,\n",
    "            mlp_dim: int = 3072,\n",
    "            hidden_size: int = 768,\n",
    "            dropout_rate: float = 0.1,\n",
    "            *,\n",
    "            rngs: nnx.Rngs = nnx.Rngs(0),\n",
    "    ):\n",
    "        # Patch and position embedding\n",
    "        n_patches = (img_size // patch_size) ** 2\n",
    "        self.patch_embeddings = nnx.Conv(\n",
    "                in_channels,\n",
    "                hidden_size,\n",
    "                kernel_size=(patch_size, patch_size),\n",
    "                strides=(patch_size, patch_size),\n",
    "                padding=\"VALID\",\n",
    "                use_bias=True,\n",
    "                rngs=rngs,\n",
    "        )\n",
    "\n",
    "        initializer = jax.nn.initializers.truncated_normal(stddev=0.02)\n",
    "        self.position_embeddings = nnx.Param(\n",
    "                initializer(rngs.params(), (1, n_patches + 1, hidden_size), jnp.float32)\n",
    "        )\n",
    "        self.dropout = nnx.Dropout(dropout_rate, rngs=rngs)\n",
    "\n",
    "        self.cls_token = nnx.Param(jnp.zeros((1, 1, hidden_size)))\n",
    "\n",
    "        # Transformer Encoder blocks\n",
    "        self.encoder = nnx.Sequential(*[\n",
    "                TransformerEncoderWithLayerNorm(hidden_size, mlp_dim, num_heads, dropout_rate, rngs=rngs)\n",
    "                for i in range(num_layers)\n",
    "        ])\n",
    "        self.final_norm = nnx.LayerNorm(hidden_size, rngs=rngs)\n",
    "\n",
    "        # Classification head\n",
    "        self.classifier = nnx.Linear(hidden_size, num_classes, rngs=rngs)\n",
    "\n",
    "    def __call__(self, x: jax.Array) -> jax.Array:\n",
    "        # Patch and position embedding\n",
    "        patches = self.patch_embeddings(x)\n",
    "        batch_size = patches.shape[0]\n",
    "        patches = patches.reshape(batch_size, -1, patches.shape[-1])\n",
    "\n",
    "        cls_token = jnp.tile(self.cls_token, [batch_size, 1, 1])\n",
    "        x = jnp.concat([cls_token, patches], axis=1)\n",
    "        embeddings = x + self.position_embeddings\n",
    "        embeddings = self.dropout(embeddings)\n",
    "\n",
    "        # Encoder blocks\n",
    "        x = self.encoder(embeddings)\n",
    "        x = self.final_norm(x)\n",
    "\n",
    "        # fetch the first token\n",
    "        x = x[:, 0]\n",
    "\n",
    "        # Classification\n",
    "        return self.classifier(x)"
   ],
   "id": "ba68c27ab3702171",
   "outputs": [],
   "execution_count": 12
  },
  {
   "metadata": {},
   "cell_type": "markdown",
   "source": "Initializing the model",
   "id": "5372acb19a2a63a7"
  },
  {
   "metadata": {
    "ExecuteTime": {
     "end_time": "2025-04-03T10:45:51.588772Z",
     "start_time": "2025-04-03T10:45:51.045387Z"
    }
   },
   "cell_type": "code",
   "source": "model_with_layer_norm = VisionTransformerWithLayerNorm(num_classes=10, img_size=28, in_channels= 1)",
   "id": "3e8c5b980028e815",
   "outputs": [],
   "execution_count": 66
  },
  {
   "metadata": {
    "ExecuteTime": {
     "end_time": "2025-04-03T10:46:01.055035Z",
     "start_time": "2025-04-03T10:46:00.635789Z"
    }
   },
   "cell_type": "code",
   "source": [
    "learning_rate = 0.005\n",
    "momentum = 0.9\n",
    "\n",
    "optimizer_with_layer_norm = nnx.Optimizer(model_with_layer_norm, optax.adamw(learning_rate, momentum))\n",
    "\n"
   ],
   "id": "3e5be681150c79c6",
   "outputs": [],
   "execution_count": 69
  },
  {
   "metadata": {},
   "cell_type": "markdown",
   "source": " Define training step functions",
   "id": "d29550b6bea1a349"
  },
  {
   "metadata": {
    "ExecuteTime": {
     "end_time": "2025-04-03T10:46:01.692074Z",
     "start_time": "2025-04-03T10:46:01.689089Z"
    }
   },
   "cell_type": "code",
   "source": [
    "def compute_loss(logits, labels):\n",
    "    loss = optax.softmax_cross_entropy_with_integer_labels(logits=logits, labels=labels)\n",
    "    return jnp.mean(loss)"
   ],
   "id": "7ffe7a978d894564",
   "outputs": [],
   "execution_count": 70
  },
  {
   "metadata": {
    "ExecuteTime": {
     "end_time": "2025-04-03T10:46:02.311883Z",
     "start_time": "2025-04-03T10:46:02.309187Z"
    }
   },
   "cell_type": "code",
   "source": [
    "@nnx.jit\n",
    "def train_step(model, optimizer, inputs, outputs):\n",
    "    def loss_fn(model, train_input, target_input):\n",
    "        logits = model(train_input)\n",
    "        loss = compute_loss(logits, target_input)\n",
    "        return loss\n",
    "\n",
    "    grad_fn = nnx.value_and_grad(loss_fn)\n",
    "    loss, grads = grad_fn(model, inputs, outputs)\n",
    "    optimizer.update(grads)\n",
    "    return loss"
   ],
   "id": "6d9ef1d7694fa4b0",
   "outputs": [],
   "execution_count": 71
  },
  {
   "metadata": {
    "ExecuteTime": {
     "end_time": "2025-04-03T10:46:02.854066Z",
     "start_time": "2025-04-03T10:46:02.851617Z"
    }
   },
   "cell_type": "code",
   "source": [
    "@nnx.jit\n",
    "def eval_step(model, inputs, outputs, eval_metrics):\n",
    "    logits = model(inputs)\n",
    "    loss = compute_loss(logits, outputs)\n",
    "\n",
    "    eval_metrics.update(\n",
    "            loss=loss,\n",
    "            logits=logits,\n",
    "            labels=outputs,\n",
    "    )"
   ],
   "id": "84ef6ac7e3a14fa4",
   "outputs": [],
   "execution_count": 72
  },
  {
   "metadata": {
    "ExecuteTime": {
     "end_time": "2025-04-03T10:46:35.350099Z",
     "start_time": "2025-04-03T10:46:35.346002Z"
    }
   },
   "cell_type": "code",
   "source": [
    "eval_metrics = nnx.MultiMetric(\n",
    "        loss=nnx.metrics.Average('loss'),\n",
    "        accuracy=nnx.metrics.Accuracy(),\n",
    ")\n",
    "\n",
    "train_metrics_history = {\n",
    "        \"train_loss\": [],\n",
    "}\n",
    "\n",
    "eval_metrics_history = {\n",
    "        \"test_loss\": [],\n",
    "        \"test_accuracy\": [],\n",
    "}"
   ],
   "id": "6b059c2dcc8611b8",
   "outputs": [],
   "execution_count": 78
  },
  {
   "metadata": {
    "ExecuteTime": {
     "end_time": "2025-04-03T10:46:36.338681Z",
     "start_time": "2025-04-03T10:46:36.336137Z"
    }
   },
   "cell_type": "code",
   "source": [
    "bar_format = \"{desc}[{n_fmt}/{total_fmt}]{postfix} [{elapsed}<{remaining}]\"\n",
    "train_total_steps = len(train_loader) // 32"
   ],
   "id": "cb5f09b48f10d0f8",
   "outputs": [],
   "execution_count": 79
  },
  {
   "metadata": {
    "ExecuteTime": {
     "end_time": "2025-04-03T10:46:37.192868Z",
     "start_time": "2025-04-03T10:46:37.189901Z"
    }
   },
   "cell_type": "code",
   "source": [
    "def train_one_epoch(model, optimizer, num_epochs,epoch):\n",
    "    model.train()  # Set model to the training mode: e.g. update batch statistics\n",
    "    with tqdm.tqdm(\n",
    "            desc=f\"[train] epoch: {epoch}/{num_epochs}, \",\n",
    "            total=train_total_steps,\n",
    "            bar_format=bar_format,\n",
    "            leave=True,\n",
    "    ) as pbar:\n",
    "        for input_batch, target_batch in train_loader:\n",
    "            input_batch, target_batch = t2j(input_batch), t2j(target_batch)\n",
    "            loss = train_step(model, optimizer, input_batch, target_batch)\n",
    "            train_metrics_history[\"train_loss\"].append(loss.item())\n",
    "            pbar.set_postfix({\"loss\": loss.item()})\n",
    "            pbar.update(1)\n"
   ],
   "id": "907345dff1cb72ae",
   "outputs": [],
   "execution_count": 80
  },
  {
   "metadata": {
    "ExecuteTime": {
     "end_time": "2025-04-03T10:46:41.111708Z",
     "start_time": "2025-04-03T10:46:41.108671Z"
    }
   },
   "cell_type": "code",
   "source": [
    "def evaluate_model(model, num_epochs, epoch):\n",
    "    # Compute the metrics on the train and val sets after each training epoch.\n",
    "    model.eval()  # Set model to evaluation model: e.g. use stored batch statistics\n",
    "\n",
    "    eval_metrics.reset()  # Reset the eval metrics\n",
    "    for val_input, val_target in val_loader:\n",
    "        val_input, val_target = t2j(val_input), t2j(val_target)\n",
    "        eval_step(model, val_input, val_target, eval_metrics)\n",
    "\n",
    "    for metric, value in eval_metrics.compute().items():\n",
    "        eval_metrics_history[f'test_{metric}'].append(value)\n",
    "\n",
    "    print(f\"[test] epoch: {epoch + 1}/{num_epochs}\")\n",
    "    print(f\"- total loss: {eval_metrics_history['test_loss'][-1]:0.4f}\")\n",
    "    print(f\"- Accuracy: {eval_metrics_history['test_accuracy'][-1]:0.4f}\")"
   ],
   "id": "98b8b199e257b558",
   "outputs": [],
   "execution_count": 81
  },
  {
   "metadata": {
    "jupyter": {
     "is_executing": true
    },
    "ExecuteTime": {
     "start_time": "2025-04-03T10:46:51.512186Z"
    }
   },
   "cell_type": "code",
   "source": [
    "# Model with LayerNorm\n",
    "num_epochs = 10\n",
    "for epoch in range(num_epochs):\n",
    "    train_one_epoch(model_with_layer_norm, optimizer_with_layer_norm, num_epochs, epoch)\n",
    "    evaluate_model(model_with_layer_norm, num_epochs, epoch)"
   ],
   "id": "b0490d33bb6c3e75",
   "outputs": [
    {
     "name": "stderr",
     "output_type": "stream",
     "text": [
      "[train] epoch: 0/10, [20/?], loss=2.61 [00:14<00:00] "
     ]
    }
   ],
   "execution_count": null
  },
  {
   "metadata": {
    "ExecuteTime": {
     "end_time": "2025-04-03T10:44:57.259993Z",
     "start_time": "2025-04-03T10:44:57.141265Z"
    }
   },
   "cell_type": "code",
   "source": [
    "import matplotlib.pyplot as plt\n",
    "\n",
    "plt.plot(train_metrics_history[\"train_loss\"], label=\"Loss value during the training for model with layer norm\")\n",
    "plt.yscale('log')\n",
    "plt.legend()"
   ],
   "id": "c6b0d97e7ff9bef",
   "outputs": [
    {
     "data": {
      "text/plain": [
       "<matplotlib.legend.Legend at 0x3196267e0>"
      ]
     },
     "execution_count": 64,
     "metadata": {},
     "output_type": "execute_result"
    },
    {
     "data": {
      "text/plain": [
       "<Figure size 640x480 with 1 Axes>"
      ],
      "image/png": "[encoded data removed]"
     },
     "metadata": {},
     "output_type": "display_data"
    }
   ],
   "execution_count": 64
  },
  {
   "metadata": {
    "ExecuteTime": {
     "end_time": "2025-04-03T10:44:25.516197Z",
     "start_time": "2025-04-03T10:44:25.401291Z"
    }
   },
   "cell_type": "code",
   "source": [
    "fig, axs = plt.subplots(1, 2, figsize=(10, 10))\n",
    "axs[0].set_title(\"Loss value on eval set\")\n",
    "axs[0].plot(eval_metrics_history[\"test_loss\"])\n",
    "axs[1].set_title(\"Accuracy on eval set\")\n",
    "axs[1].plot(eval_metrics_history[\"test_accuracy\"])"
   ],
   "id": "f4163ca98113b3a3",
   "outputs": [
    {
     "data": {
      "text/plain": [
       "[<matplotlib.lines.Line2D at 0x31d033650>]"
      ]
     },
     "execution_count": 63,
     "metadata": {},
     "output_type": "execute_result"
    },
    {
     "data": {
      "text/plain": [
       "<Figure size 1000x1000 with 2 Axes>"
      ],
      "image/png": "[encoded data removed]"
     },
     "metadata": {},
     "output_type": "display_data"
    }
   ],
   "execution_count": 63
  },
  {
   "metadata": {},
   "cell_type": "code",
   "outputs": [],
   "execution_count": null,
   "source": "",
   "id": "ab4943a4352e3194"
  }
 ],
 "metadata": {
  "kernelspec": {
   "display_name": "Python 3",
   "language": "python",
   "name": "python3"
  },
  "language_info": {
   "codemirror_mode": {
    "name": "ipython",
    "version": 2
   },
   "file_extension": ".py",
   "mimetype": "text/x-python",
   "name": "python",
   "nbconvert_exporter": "python",
   "pygments_lexer": "ipython2",
   "version": "2.7.6"
  }
 },
 "nbformat": 4,
 "nbformat_minor": 5
}
