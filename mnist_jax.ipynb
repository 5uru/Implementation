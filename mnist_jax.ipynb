{
 "cells": [
  {
   "cell_type": "code",
   "id": "initial_id",
   "metadata": {
    "collapsed": true,
    "ExecuteTime": {
     "end_time": "2025-02-25T17:25:01.210771Z",
     "start_time": "2025-02-25T17:25:00.916822Z"
    }
   },
   "source": [
    "import jax\n",
    "from jax import random\n",
    "import jax.numpy as jnp\n",
    "from jax import jit, value_and_grad, lax\n",
    "from tqdm import tqdm"
   ],
   "outputs": [],
   "execution_count": 1
  },
  {
   "metadata": {
    "ExecuteTime": {
     "end_time": "2025-02-25T17:25:02.961459Z",
     "start_time": "2025-02-25T17:25:01.217535Z"
    }
   },
   "cell_type": "code",
   "source": [
    "from torchvision.datasets import MNIST\n",
    "from torchvision import transforms\n",
    "from torch.utils.data import DataLoader\n",
    "from torch.utils.data import Subset\n",
    "import matplotlib.pyplot as plt\n",
    "import numpy as np\n"
   ],
   "id": "6e6dafe421fa3b67",
   "outputs": [],
   "execution_count": 2
  },
  {
   "metadata": {
    "ExecuteTime": {
     "end_time": "2025-02-25T17:25:03.053757Z",
     "start_time": "2025-02-25T17:25:03.051466Z"
    }
   },
   "cell_type": "code",
   "source": [
    "seed = 42\n",
    "\n",
    "image_size = 28\n",
    "input_shape = (1, image_size, image_size)\n",
    "input_channels, input_height, input_width = input_shape\n",
    "\n",
    "kernel_size = 3\n",
    "num_kernels = 16    # Number of output channels\n",
    "stride = 1\n",
    "padding = 1\n",
    "num_classes = 10"
   ],
   "id": "bf728f108cc7ef29",
   "outputs": [],
   "execution_count": 3
  },
  {
   "metadata": {
    "ExecuteTime": {
     "end_time": "2025-02-25T17:25:18.844033Z",
     "start_time": "2025-02-25T17:25:18.796496Z"
    }
   },
   "cell_type": "code",
   "source": [
    "\n",
    "mean, std = [0.5], [0.5]\n",
    "\n",
    "\n",
    "train_dataset = MNIST(\n",
    "        root='data',\n",
    "        download=True,\n",
    "        transform=transforms.Compose([  transforms.ToTensor(), transforms.Normalize(mean, std)])\n",
    ")\n",
    "train_subset = Subset(train_dataset, range(20000))\n",
    "train_loader = DataLoader(train_subset, batch_size=256, shuffle=True)\n",
    "\n",
    "\n",
    "test_dataset = MNIST(\n",
    "        root='data',\n",
    "        download=False,\n",
    "        transform=transforms.Compose([ transforms.ToTensor(), transforms.Normalize(mean, std)])\n",
    ")\n",
    "test_subset = Subset(test_dataset, range(2000))\n",
    "test_loader = DataLoader(test_subset, batch_size=256, shuffle=False)"
   ],
   "id": "2c12de2835a91f22",
   "outputs": [],
   "execution_count": 4
  },
  {
   "metadata": {
    "ExecuteTime": {
     "end_time": "2025-02-25T17:25:21.129503Z",
     "start_time": "2025-02-25T17:25:20.885170Z"
    }
   },
   "cell_type": "code",
   "source": [
    "\n",
    "# Update mean and std for a single channel (grayscale)\n",
    "mean, std = [0.5], [0.5]\n",
    "\n",
    "# Get one batch of images and labels\n",
    "for images, labels in train_loader:\n",
    "    # Loop through the first 10 images in the batch\n",
    "    for i in range(10):\n",
    "        # Convert the image to a numpy array\n",
    "        image = np.asarray(images[i])\n",
    "        # Denormalize the image\n",
    "        image = image * np.array(std) + np.array(mean)\n",
    "        # Clip the values to be between 0 and 1\n",
    "        image = np.clip(image, 0, 1)\n",
    "        # Plot the image\n",
    "        plt.subplot(2, 5, i + 1)\n",
    "        plt.imshow(image[0], cmap='gray')\n",
    "        plt.title(f\"Label: {labels[i].item()}\")\n",
    "        plt.axis('off')\n",
    "    plt.show()\n",
    "    break"
   ],
   "id": "57f0c4472527f4cb",
   "outputs": [
    {
     "data": {
      "text/plain": [
       "<Figure size 640x480 with 10 Axes>"
      ],
      "image/png": "[encoded data removed]"
     },
     "metadata": {},
     "output_type": "display_data"
    }
   ],
   "execution_count": 5
  },
  {
   "metadata": {
    "ExecuteTime": {
     "end_time": "2025-02-25T17:25:22.079762Z",
     "start_time": "2025-02-25T17:25:22.075651Z"
    }
   },
   "cell_type": "code",
   "source": [
    "def initialize_Conv2D(w_key, input_channels, kernel_size, num_kernels):\n",
    "    fan_in = input_channels * kernel_size**2\n",
    "    fan_out = num_kernels * kernel_size**2\n",
    "    limit = jnp.sqrt(6.0 / (fan_in + fan_out))\n",
    "\n",
    "    kernels = random.uniform(\n",
    "            w_key,\n",
    "            (kernel_size, kernel_size, input_channels, num_kernels),\n",
    "            minval=-limit,\n",
    "            maxval=limit\n",
    "    )\n",
    "    biases = jnp.zeros(num_kernels)\n",
    "    return kernels, biases\n",
    "\n",
    "def Conv2D(params, inputs, kernel_size, stride, padding):\n",
    "    kernels, biases = params\n",
    "    input_height, input_width, input_channels = inputs.shape\n",
    "\n",
    "    # Calculate output dimensions\n",
    "    output_height = (input_height - kernel_size + 2 * padding) // stride + 1\n",
    "    output_width = (input_width - kernel_size + 2 * padding) // stride + 1\n",
    "\n",
    "    # Add padding to input\n",
    "    padded_input = jnp.pad(\n",
    "            inputs,\n",
    "            ((padding, padding), (padding, padding), (0, 0)),\n",
    "            mode='constant'\n",
    "    )\n",
    "\n",
    "    # Precompute all window positions using vectorized indexing\n",
    "    y_indices = (jnp.arange(output_height)[:, None] * stride) + jnp.arange(kernel_size)\n",
    "    x_indices = (jnp.arange(output_width)[:, None] * stride) + jnp.arange(kernel_size)\n",
    "\n",
    "    # Extract all windows at once [H_out, W_out, K, K, C_in]\n",
    "    windows = padded_input[y_indices[:, None, :, None],\n",
    "              x_indices[None, :, None, :],\n",
    "              :]\n",
    "    windows = windows.reshape(output_height, output_width, kernel_size, kernel_size, input_channels)\n",
    "\n",
    "    # Prepare parameters for parallel processing\n",
    "    kernel_bias_pairs = (jnp.moveaxis(kernels, -1, 0), biases)  # [num_k, K, K, C_in]\n",
    "\n",
    "    # Vectorized channel computation using lax.map\n",
    "    def compute_channel(args):\n",
    "        kernel, bias = args\n",
    "        return jnp.sum(windows * kernel, axis=(2, 3, 4)) + bias\n",
    "\n",
    "    # Map over output channels\n",
    "    output = lax.map(compute_channel, kernel_bias_pairs)\n",
    "\n",
    "    # Reorganize dimensions to [H_out, W_out, C_out]\n",
    "    return jnp.transpose(output, (1, 2, 0))"
   ],
   "id": "fadaae5b27055956",
   "outputs": [],
   "execution_count": 6
  },
  {
   "metadata": {
    "ExecuteTime": {
     "end_time": "2025-02-25T17:25:23.674527Z",
     "start_time": "2025-02-25T17:25:22.881351Z"
    }
   },
   "cell_type": "code",
   "source": [
    "inputs = random.uniform(random.PRNGKey(0), (input_height, input_width, input_channels))\n",
    "\n",
    "# Initialize convolution layer\n",
    "conv_params = initialize_Conv2D(\n",
    "        w_key=random.PRNGKey(0),\n",
    "        input_channels=input_channels,\n",
    "        kernel_size=kernel_size,\n",
    "        num_kernels=num_kernels\n",
    ")\n",
    "\n",
    "# Perform convolution\n",
    "output = Conv2D(\n",
    "        params=conv_params,\n",
    "        inputs=inputs,\n",
    "        kernel_size=kernel_size,\n",
    "        stride=stride,\n",
    "        padding=padding\n",
    ")\n",
    "\n",
    "print(\"Input shape:\", inputs.shape)\n",
    "print(\"Kernel shape:\", conv_params[0].shape)\n",
    "print(\"Output shape:\", output.shape)"
   ],
   "id": "82c6eaf5cb765edb",
   "outputs": [
    {
     "name": "stdout",
     "output_type": "stream",
     "text": [
      "Input shape: (28, 28, 1)\n",
      "Kernel shape: (3, 3, 1, 16)\n",
      "Output shape: (28, 28, 16)\n"
     ]
    }
   ],
   "execution_count": 7
  },
  {
   "metadata": {
    "ExecuteTime": {
     "end_time": "2025-02-25T17:25:23.861042Z",
     "start_time": "2025-02-25T17:25:23.858022Z"
    }
   },
   "cell_type": "code",
   "source": [
    "def avg_pool(input_data, window_shape=(2, 2), strides=(2, 2)):\n",
    "    # Extract dimensions with channel support (H, W, C)\n",
    "    input_height, input_width, num_channels = input_data.shape\n",
    "    window_height, window_width = window_shape\n",
    "    stride_height, stride_width = strides\n",
    "\n",
    "    # Calculate output dimensions\n",
    "    output_height = (input_height - window_height) // stride_height + 1\n",
    "    output_width = (input_width - window_width) // stride_width + 1\n",
    "\n",
    "    # Initialize output with the proper channel dimension\n",
    "    output = jnp.zeros((output_height, output_width, num_channels))\n",
    "\n",
    "    # Perform a pooling operation\n",
    "    for y in range(output_height):\n",
    "        for x in range(output_width):\n",
    "            # Calculate window boundaries\n",
    "            y_start = y * stride_height\n",
    "            y_end = y_start + window_height\n",
    "            x_start = x * stride_width\n",
    "            x_end = x_start + window_width\n",
    "\n",
    "            # Extract window with channel preservation\n",
    "            window = input_data[y_start:y_end, x_start:x_end, :]\n",
    "\n",
    "            # Calculate mean over spatial dimensions only (H, W)\n",
    "            output = output.at[y, x, :].set(jnp.mean(window, axis=(0, 1)))\n",
    "\n",
    "    return output"
   ],
   "id": "a992ded47c050268",
   "outputs": [],
   "execution_count": 8
  },
  {
   "metadata": {
    "ExecuteTime": {
     "end_time": "2025-02-25T17:25:25.440514Z",
     "start_time": "2025-02-25T17:25:24.897719Z"
    }
   },
   "cell_type": "code",
   "source": [
    "# Test 1: Simple 2x2 single-channel input\n",
    "input_2x2 = jnp.ones((2, 2, 1))\n",
    "output = avg_pool(input_2x2)\n",
    "print(\"Test 1 (2x2 input):\")\n",
    "print(f\"Input shape: {input_2x2.shape}, Output shape: {output.shape}\")\n",
    "print(f\"Output values:\\n{output.squeeze()}\\n\")\n",
    "\n",
    "# Test 2: Multi-channel input\n",
    "input_multi = jnp.ones((2, 2, 3)) * jnp.array([1, 2, 3])\n",
    "output = avg_pool(input_multi)\n",
    "print(\"Test 2 (Multi-channel):\")\n",
    "print(f\"Output channel means: {output[0,0,:]}\\n\")\n",
    "\n",
    "# Test 3: 4x4 input with pattern\n",
    "input_4x4 = jnp.arange(16).reshape(4, 4, 1).astype(float)\n",
    "output = avg_pool(input_4x4)\n",
    "print(\"Test 3 (4x4 input):\")\n",
    "print(\"Input:\")\n",
    "print(input_4x4[:, :, 0])\n",
    "print(\"\\nOutput:\")\n",
    "print(output[:, :, 0])\n",
    "print()\n",
    "\n",
    "# Test 4: Non-square window and stride\n",
    "input_5x5 = jnp.arange(25).reshape(5, 5, 1).astype(float)\n",
    "output = avg_pool(input_5x5, window_shape=(3, 2), strides=(2, 1))\n",
    "print(\"Test 4 (Non-square parameters):\")\n",
    "print(f\"Output shape: {output.shape}\")\n",
    "print(\"First row values:\")\n",
    "print(output[0, :, 0].round(2))"
   ],
   "id": "cca572150f0f00fc",
   "outputs": [
    {
     "name": "stdout",
     "output_type": "stream",
     "text": [
      "Test 1 (2x2 input):\n",
      "Input shape: (2, 2, 1), Output shape: (1, 1, 1)\n",
      "Output values:\n",
      "1.0\n",
      "\n",
      "Test 2 (Multi-channel):\n",
      "Output channel means: [1. 2. 3.]\n",
      "\n",
      "Test 3 (4x4 input):\n",
      "Input:\n",
      "[[ 0.  1.  2.  3.]\n",
      " [ 4.  5.  6.  7.]\n",
      " [ 8.  9. 10. 11.]\n",
      " [12. 13. 14. 15.]]\n",
      "\n",
      "Output:\n",
      "[[ 2.5  4.5]\n",
      " [10.5 12.5]]\n",
      "\n",
      "Test 4 (Non-square parameters):\n",
      "Output shape: (2, 4, 1)\n",
      "First row values:\n",
      "[5.5 6.5 7.5 8.5]\n"
     ]
    }
   ],
   "execution_count": 9
  },
  {
   "metadata": {
    "ExecuteTime": {
     "end_time": "2025-02-25T17:25:26.143683Z",
     "start_time": "2025-02-25T17:25:26.140827Z"
    }
   },
   "cell_type": "code",
   "source": [
    "# Dense Layer\n",
    "\n",
    "def initialize_dense_layer(key, input_dim, output_dim):\n",
    "    w_key, b_key = random.split(key)\n",
    "    # Xavier uniform limit for W and b\n",
    "    limit = jnp.sqrt(6.0/(input_dim + output_dim))\n",
    "\n",
    "    # Xavier uniform initialization for weights and biases\n",
    "    w = random.uniform(w_key, (input_dim, output_dim), minval=-limit, maxval=limit)\n",
    "    b = random.uniform(b_key, (output_dim,), minval=-limit, maxval=limit)\n",
    "    return w, b\n",
    "\n",
    "def dense_layer(params, x):\n",
    "    w, b = params\n",
    "    return jnp.dot(x, w) + b"
   ],
   "id": "19ab1c93f48530f2",
   "outputs": [],
   "execution_count": 10
  },
  {
   "metadata": {
    "ExecuteTime": {
     "end_time": "2025-02-25T17:25:27.570920Z",
     "start_time": "2025-02-25T17:25:27.568687Z"
    }
   },
   "cell_type": "code",
   "source": [
    "# initialize CNN parameters\n",
    "cnn_parameters = {\n",
    "    'conv1': None,\n",
    "    'conv2':None,\n",
    "    'dense1': None,\n",
    "    'dense2': None,\n",
    "}"
   ],
   "id": "898b7ca310b5aa31",
   "outputs": [],
   "execution_count": 11
  },
  {
   "metadata": {
    "ExecuteTime": {
     "end_time": "2025-02-25T17:25:28.597328Z",
     "start_time": "2025-02-25T17:25:28.595282Z"
    }
   },
   "cell_type": "code",
   "source": [
    "def relu(input):\n",
    "    return jnp.maximum(0, input)"
   ],
   "id": "93c6e4aeb8e021dd",
   "outputs": [],
   "execution_count": 12
  },
  {
   "metadata": {
    "ExecuteTime": {
     "end_time": "2025-02-25T17:26:52.438438Z",
     "start_time": "2025-02-25T17:26:52.314159Z"
    }
   },
   "cell_type": "code",
   "source": [
    " # Initialize CNN parameters\n",
    "key = random.PRNGKey(seed)\n",
    "# Split the key into 4 keys\n",
    "key, *subkeys = random.split(key, 5)\n",
    "\n",
    "# Initialize Conv2D parameters\n",
    "cnn_parameters['conv1'] = initialize_Conv2D(\n",
    "    subkeys[0], input_channels=1, kernel_size=3, num_kernels=32\n",
    ")\n",
    "cnn_parameters['conv2'] = initialize_Conv2D(\n",
    "    subkeys[1], input_channels=32, kernel_size=3, num_kernels=64\n",
    ")\n",
    "\n",
    "# Initialize Dense parameters\n",
    "cnn_parameters['dense1'] = initialize_dense_layer(\n",
    "    subkeys[2], input_dim=3136, output_dim=256\n",
    ")\n",
    "cnn_parameters['dense2'] = initialize_dense_layer(\n",
    "    subkeys[3], input_dim=256, output_dim=10\n",
    ")"
   ],
   "id": "afd4feb41923c724",
   "outputs": [],
   "execution_count": 18
  },
  {
   "metadata": {
    "ExecuteTime": {
     "end_time": "2025-02-25T17:26:53.668519Z",
     "start_time": "2025-02-25T17:26:53.662527Z"
    }
   },
   "cell_type": "code",
   "source": "cnn_parameters",
   "id": "4dbc547fd3c5c714",
   "outputs": [
    {
     "data": {
      "text/plain": [
       "{'conv1': (Array([[[[ 0.06130156,  0.10298502,  0.12773335, -0.12020013,\n",
       "            -0.1106156 ,  0.05658929, -0.11158824,  0.00480411,\n",
       "            -0.07413754, -0.09107427, -0.00965071, -0.1413933 ,\n",
       "             0.07867394,  0.00460499,  0.02903989, -0.12259136,\n",
       "             0.07537765,  0.11838994,  0.13455874,  0.0149634 ,\n",
       "            -0.02369132,  0.11786553,  0.11510632, -0.05537548,\n",
       "             0.11000025,  0.08896282, -0.1052632 , -0.11990894,\n",
       "             0.08227593,  0.04579935,  0.08461778, -0.10708146]],\n",
       "  \n",
       "          [[-0.02075522,  0.1222046 ,  0.04091551, -0.01691751,\n",
       "            -0.09923952, -0.08089976, -0.09553215,  0.12800737,\n",
       "             0.07336596, -0.07390206,  0.09250624, -0.103805  ,\n",
       "            -0.04804883, -0.03511525,  0.04099531, -0.09054081,\n",
       "             0.09813304, -0.0787982 , -0.06124303,  0.02246341,\n",
       "             0.08859317,  0.0025322 , -0.14015543,  0.04263834,\n",
       "             0.06350237,  0.08941091, -0.04329016,  0.04354266,\n",
       "            -0.07717463, -0.08086351, -0.00358538, -0.12718076]],\n",
       "  \n",
       "          [[-0.05802004,  0.09095383, -0.09336247,  0.0619342 ,\n",
       "             0.08106984,  0.06470246, -0.04523811,  0.10018322,\n",
       "             0.0334706 ,  0.02157272, -0.09706315, -0.08119638,\n",
       "            -0.02347281, -0.10991685,  0.12256648,  0.02036816,\n",
       "            -0.05137328, -0.1336366 ,  0.135064  , -0.09875019,\n",
       "            -0.00684511, -0.05978354, -0.0247236 , -0.12522511,\n",
       "             0.07631799,  0.09810762,  0.09257151, -0.06429276,\n",
       "            -0.11908039, -0.04581653,  0.03053463,  0.03870684]]],\n",
       "  \n",
       "  \n",
       "         [[[-0.04173569, -0.0607393 ,  0.0938535 , -0.00634385,\n",
       "            -0.019633  ,  0.06452557, -0.08790193,  0.08447037,\n",
       "             0.09351209, -0.09602527, -0.08531037,  0.07193263,\n",
       "             0.09259225, -0.05024697, -0.09680539, -0.00910993,\n",
       "            -0.1061968 ,  0.11526058, -0.06445891, -0.08083283,\n",
       "            -0.09169997, -0.02801758, -0.05740824,  0.03807124,\n",
       "             0.07809223, -0.04023726,  0.13150552,  0.00893935,\n",
       "             0.07220512,  0.14066073,  0.06245624,  0.03508275]],\n",
       "  \n",
       "          [[ 0.12284447,  0.09696142,  0.11034183, -0.0243286 ,\n",
       "            -0.06464339,  0.05630507, -0.02177123, -0.05328605,\n",
       "            -0.02996061,  0.11384337, -0.05819866,  0.01287817,\n",
       "             0.03239051, -0.06525187,  0.08300799,  0.06964537,\n",
       "            -0.10831574,  0.12414028, -0.08129191, -0.06086712,\n",
       "             0.0021126 ,  0.06369475,  0.04208903,  0.11904404,\n",
       "            -0.01333538,  0.1359857 , -0.0442527 , -0.1402732 ,\n",
       "            -0.00826099, -0.00321764,  0.04227836, -0.0387498 ]],\n",
       "  \n",
       "          [[-0.0796115 , -0.06701266,  0.09157187, -0.04408659,\n",
       "            -0.07315861,  0.08368316,  0.09332906, -0.07701715,\n",
       "            -0.06626294, -0.06766719, -0.11775912, -0.03954175,\n",
       "             0.01674048, -0.08275326, -0.1184446 , -0.03322552,\n",
       "             0.05056042,  0.02922031,  0.07992889,  0.09262871,\n",
       "             0.00617095,  0.13625744, -0.05849813, -0.06861011,\n",
       "             0.06814595,  0.12225499, -0.03722104,  0.03684635,\n",
       "            -0.01929234,  0.01112589, -0.08051663, -0.09001648]]],\n",
       "  \n",
       "  \n",
       "         [[[-0.0468644 ,  0.05687323, -0.13082308,  0.03943894,\n",
       "             0.04240079, -0.03101695, -0.08650628, -0.13375826,\n",
       "            -0.12143488,  0.13601081, -0.05290878,  0.00814374,\n",
       "             0.10199338,  0.10122441,  0.05888549,  0.05906022,\n",
       "            -0.11810749,  0.11910649,  0.03475591, -0.00164411,\n",
       "            -0.08076953,  0.06562463,  0.07173514,  0.07273559,\n",
       "            -0.0458855 , -0.00713393,  0.10721037, -0.10492121,\n",
       "             0.14018022,  0.12655327, -0.07391118, -0.06760386]],\n",
       "  \n",
       "          [[ 0.00558975, -0.00116356,  0.09040584,  0.09866232,\n",
       "             0.04200851,  0.00017391, -0.12796697, -0.06491459,\n",
       "             0.01333484,  0.01957082,  0.12600815, -0.05966663,\n",
       "            -0.10967509, -0.12499387,  0.1378001 ,  0.10205295,\n",
       "            -0.09534868,  0.12658843, -0.10207871,  0.08261792,\n",
       "             0.01333708, -0.02203707, -0.03581672, -0.12371703,\n",
       "             0.04378624,  0.05053233,  0.0570042 , -0.07415235,\n",
       "            -0.08652611,  0.00685798,  0.03027011,  0.12813014]],\n",
       "  \n",
       "          [[-0.12857458,  0.11588743,  0.05108253, -0.05526792,\n",
       "             0.03020972,  0.12980229,  0.05745026,  0.09391365,\n",
       "             0.09367902, -0.07007577, -0.08324829, -0.06229568,\n",
       "            -0.06373779,  0.12148216,  0.00629407,  0.11119786,\n",
       "            -0.0909519 , -0.04563151,  0.13974792, -0.13486502,\n",
       "             0.09325485, -0.03302034,  0.01532423,  0.00343523,\n",
       "             0.05114908,  0.11229937,  0.05904751,  0.07768863,\n",
       "            -0.12021586,  0.04788031,  0.06194369, -0.13658486]]]],      dtype=float32),\n",
       "  Array([0., 0., 0., 0., 0., 0., 0., 0., 0., 0., 0., 0., 0., 0., 0., 0., 0.,\n",
       "         0., 0., 0., 0., 0., 0., 0., 0., 0., 0., 0., 0., 0., 0., 0.],      dtype=float32)),\n",
       " 'conv2': (Array([[[[ 0.03710197, -0.07667969,  0.00271883, ..., -0.05489139,\n",
       "             0.00984766, -0.02590877],\n",
       "           [-0.02177978, -0.04510896,  0.03062223, ...,  0.02981861,\n",
       "             0.02874392,  0.00718468],\n",
       "           [ 0.05578566,  0.00536587, -0.03415132, ..., -0.07160288,\n",
       "             0.02177843,  0.06861317],\n",
       "           ...,\n",
       "           [-0.07013106,  0.0271942 , -0.04186559, ...,  0.03239384,\n",
       "             0.03785112, -0.00360602],\n",
       "           [ 0.01940294, -0.06688547,  0.0725865 , ..., -0.02508269,\n",
       "             0.08237052,  0.02697235],\n",
       "           [ 0.04747997,  0.03542117, -0.07137271, ..., -0.06084673,\n",
       "            -0.05999708,  0.07683321]],\n",
       "  \n",
       "          [[ 0.07080548,  0.06440469,  0.06228884, ..., -0.02070781,\n",
       "             0.06509157, -0.06166045],\n",
       "           [ 0.05786395, -0.05310309, -0.01828174, ...,  0.05818238,\n",
       "            -0.07541808, -0.0594975 ],\n",
       "           [-0.02807931, -0.02618386, -0.06210109, ...,  0.07108591,\n",
       "             0.0011458 , -0.04057714],\n",
       "           ...,\n",
       "           [-0.03092929, -0.05165579, -0.06856718, ..., -0.06503101,\n",
       "             0.00801778, -0.08080866],\n",
       "           [-0.07440027,  0.02014413,  0.00719804, ...,  0.00913467,\n",
       "            -0.00639105, -0.00210925],\n",
       "           [ 0.05640435,  0.00212558,  0.01398979, ..., -0.03261517,\n",
       "            -0.0459259 , -0.02055277]],\n",
       "  \n",
       "          [[ 0.04240273, -0.05469277, -0.04129841, ...,  0.07183211,\n",
       "             0.01265746, -0.0166107 ],\n",
       "           [ 0.01187873,  0.06736332, -0.06174872, ...,  0.04532347,\n",
       "            -0.00481415, -0.00286573],\n",
       "           [-0.01676482,  0.04456701,  0.07740802, ...,  0.01211458,\n",
       "            -0.07519259,  0.05348333],\n",
       "           ...,\n",
       "           [-0.02060946,  0.05754912, -0.03604078, ..., -0.05443899,\n",
       "             0.06827663, -0.06531586],\n",
       "           [-0.02893428,  0.00659541,  0.08203918, ..., -0.06669645,\n",
       "            -0.06483819, -0.04840396],\n",
       "           [-0.06999384,  0.03929679,  0.035682  , ...,  0.0524835 ,\n",
       "             0.08079972,  0.06737377]]],\n",
       "  \n",
       "  \n",
       "         [[[-0.07165264,  0.04592397, -0.04837302, ...,  0.06545772,\n",
       "            -0.05990909, -0.05152003],\n",
       "           [ 0.05591498, -0.07845889, -0.02124592, ...,  0.04653861,\n",
       "             0.04913126,  0.01464053],\n",
       "           [ 0.07643491, -0.0800971 , -0.03448371, ...,  0.03184146,\n",
       "             0.0587977 ,  0.01735898],\n",
       "           ...,\n",
       "           [-0.00470686, -0.05942516,  0.03004799, ..., -0.06090023,\n",
       "            -0.04028606, -0.06511726],\n",
       "           [-0.07986367,  0.04205505,  0.02691281, ...,  0.00728963,\n",
       "             0.0405583 ,  0.04122714],\n",
       "           [ 0.00080725,  0.02327325,  0.02734302, ..., -0.08258247,\n",
       "             0.01819869,  0.08157784]],\n",
       "  \n",
       "          [[-0.02454545, -0.00116489, -0.07572864, ...,  0.02548762,\n",
       "             0.02489267, -0.05151948],\n",
       "           [-0.04620966, -0.02225218, -0.08328819, ..., -0.07087811,\n",
       "            -0.05798519,  0.03161269],\n",
       "           [-0.07108378,  0.05142415, -0.03653672, ...,  0.07476058,\n",
       "             0.00604902,  0.04039574],\n",
       "           ...,\n",
       "           [ 0.03615483, -0.06444439,  0.00873985, ...,  0.03227943,\n",
       "             0.02363175,  0.08027099],\n",
       "           [ 0.01131847,  0.02749413,  0.07617178, ...,  0.03552642,\n",
       "            -0.03679999,  0.07940881],\n",
       "           [ 0.02492929,  0.06119645,  0.05319081, ..., -0.06413305,\n",
       "            -0.02957352,  0.00092661]],\n",
       "  \n",
       "          [[ 0.07542916, -0.06434157,  0.07014599, ..., -0.02415276,\n",
       "            -0.06070306, -0.08190181],\n",
       "           [ 0.05970305,  0.02047167, -0.05302217, ...,  0.02875988,\n",
       "            -0.07590161, -0.00486547],\n",
       "           [ 0.02924512,  0.07711884,  0.03406268, ..., -0.04916217,\n",
       "             0.02353565,  0.06556243],\n",
       "           ...,\n",
       "           [ 0.01122298, -0.02731689, -0.06075299, ..., -0.00721683,\n",
       "             0.02020514,  0.00715486],\n",
       "           [ 0.07258111,  0.06901979,  0.06004705, ..., -0.03978091,\n",
       "            -0.04904282, -0.04516737],\n",
       "           [ 0.01887159, -0.02145016,  0.04947102, ...,  0.0469864 ,\n",
       "             0.03037602,  0.0443339 ]]],\n",
       "  \n",
       "  \n",
       "         [[[-0.02905806, -0.0062951 , -0.00400486, ...,  0.03250607,\n",
       "             0.00360521,  0.03543107],\n",
       "           [ 0.07205407, -0.00402474,  0.01003782, ..., -0.03459112,\n",
       "            -0.03598326,  0.03550891],\n",
       "           [-0.05016687,  0.03764999,  0.01080761, ...,  0.04587344,\n",
       "            -0.07561757,  0.04236285],\n",
       "           ...,\n",
       "           [-0.01901988, -0.01516175,  0.05329552, ..., -0.00465119,\n",
       "             0.0371111 ,  0.02720825],\n",
       "           [-0.04237648,  0.07363103, -0.04488969, ...,  0.00158592,\n",
       "             0.03462607,  0.0781514 ],\n",
       "           [ 0.07856822,  0.00936107,  0.07086079, ...,  0.03545378,\n",
       "             0.003196  , -0.0785573 ]],\n",
       "  \n",
       "          [[-0.06334828,  0.07614075,  0.00624786, ...,  0.0530775 ,\n",
       "            -0.07628836,  0.05825394],\n",
       "           [ 0.04536685, -0.021257  ,  0.01733704, ...,  0.07294375,\n",
       "             0.06348746, -0.02166222],\n",
       "           [ 0.05012922,  0.0551675 ,  0.06909325, ...,  0.05779433,\n",
       "             0.00097493, -0.05501086],\n",
       "           ...,\n",
       "           [-0.0200063 ,  0.07287125,  0.04104692, ...,  0.07262858,\n",
       "            -0.04737532, -0.06290108],\n",
       "           [-0.01735457,  0.01925548,  0.05859049, ..., -0.04696212,\n",
       "            -0.00421252, -0.02585942],\n",
       "           [-0.00381953,  0.00703267, -0.0829699 , ..., -0.06457637,\n",
       "             0.02702628, -0.01740394]],\n",
       "  \n",
       "          [[-0.02223533, -0.0467822 ,  0.00375986, ..., -0.05455709,\n",
       "             0.03987851, -0.02298429],\n",
       "           [-0.0588949 ,  0.04488822, -0.01178753, ...,  0.06014427,\n",
       "            -0.0626853 , -0.01503637],\n",
       "           [-0.02780678, -0.07832655,  0.0224086 , ..., -0.06408878,\n",
       "            -0.05500023, -0.02127504],\n",
       "           ...,\n",
       "           [ 0.07546151, -0.05302129, -0.00301987, ...,  0.01881133,\n",
       "             0.06039789, -0.01507157],\n",
       "           [-0.02774179, -0.00776013,  0.02079741, ...,  0.01271798,\n",
       "            -0.06775876, -0.04863169],\n",
       "           [ 0.03562393, -0.03719703, -0.06299083, ..., -0.02158237,\n",
       "             0.03191348, -0.05347812]]]], dtype=float32),\n",
       "  Array([0., 0., 0., 0., 0., 0., 0., 0., 0., 0., 0., 0., 0., 0., 0., 0., 0.,\n",
       "         0., 0., 0., 0., 0., 0., 0., 0., 0., 0., 0., 0., 0., 0., 0., 0., 0.,\n",
       "         0., 0., 0., 0., 0., 0., 0., 0., 0., 0., 0., 0., 0., 0., 0., 0., 0.,\n",
       "         0., 0., 0., 0., 0., 0., 0., 0., 0., 0., 0., 0., 0.], dtype=float32)),\n",
       " 'dense1': (Array([[-0.02152542, -0.02705251, -0.0261467 , ..., -0.03651718,\n",
       "           0.02511834, -0.00865003],\n",
       "         [ 0.01254718,  0.00502013, -0.00686525, ...,  0.01579475,\n",
       "          -0.00049092, -0.00169227],\n",
       "         [-0.02141957, -0.03883422,  0.00945106, ...,  0.03604936,\n",
       "          -0.03990675, -0.03112555],\n",
       "         ...,\n",
       "         [ 0.00468851, -0.02011294, -0.03267099, ...,  0.02986434,\n",
       "          -0.01409335,  0.00296791],\n",
       "         [-0.01848046, -0.02240782,  0.0027124 , ...,  0.0155646 ,\n",
       "           0.02528661, -0.02692719],\n",
       "         [-0.04010561, -0.02262395,  0.03927403, ...,  0.00838958,\n",
       "           0.00651165, -0.02950016]], dtype=float32),\n",
       "  Array([-0.02646216,  0.03132627, -0.00234574,  0.02781496,  0.01616185,\n",
       "          0.04059915,  0.00373529,  0.00221661, -0.02641381, -0.01442873,\n",
       "          0.00046626,  0.02606807, -0.02322182,  0.00457963,  0.00919259,\n",
       "          0.02547109, -0.01203171, -0.00041164,  0.02139415,  0.00498631,\n",
       "         -0.01028152,  0.02133898,  0.02674325, -0.03479695,  0.0245973 ,\n",
       "          0.02170423, -0.00836593, -0.00091943,  0.01296088, -0.00718434,\n",
       "         -0.00533463,  0.01737858, -0.00410749, -0.01146452, -0.02820008,\n",
       "          0.00534751, -0.01910224,  0.03870704,  0.00403053, -0.02085588,\n",
       "         -0.02312349, -0.00258923,  0.01503029,  0.0105878 , -0.03514054,\n",
       "          0.03643226, -0.01013422,  0.01602105,  0.00543187,  0.02468019,\n",
       "          0.0233474 ,  0.03954489,  0.01450831, -0.01824803, -0.03550899,\n",
       "         -0.04066304, -0.01988524,  0.01278741,  0.00532278, -0.02168826,\n",
       "         -0.02908373,  0.03861931, -0.00936318,  0.03107751,  0.01238596,\n",
       "          0.02125722,  0.03297238, -0.02975491,  0.02358092, -0.03809325,\n",
       "          0.02744515,  0.02823507,  0.02456858,  0.0199421 ,  0.03562244,\n",
       "          0.03186947, -0.02207545,  0.00921413, -0.00721659,  0.02645655,\n",
       "         -0.03537602,  0.03233747,  0.01971227, -0.01827069, -0.00436283,\n",
       "         -0.00134516, -0.01523031, -0.01970166, -0.0193974 , -0.01293342,\n",
       "         -0.01794191, -0.03862654, -0.02861867, -0.03107088,  0.03044283,\n",
       "         -0.01743524, -0.00058359, -0.00198914, -0.00416162,  0.02364655,\n",
       "         -0.04188213,  0.03145945,  0.01069903, -0.01300097,  0.04190564,\n",
       "          0.03775508, -0.03267479, -0.01760218, -0.00642978,  0.00818838,\n",
       "          0.02241861, -0.02745603, -0.00640124,  0.04018348,  0.02496452,\n",
       "         -0.02161963,  0.01669381, -0.00499493, -0.01843809,  0.02324874,\n",
       "          0.01168339, -0.00013179, -0.0129558 , -0.00864585,  0.04105953,\n",
       "          0.02789424, -0.00489902, -0.01625971, -0.02995779,  0.00145126,\n",
       "         -0.00569382, -0.01993581, -0.00771823, -0.03095283, -0.01282308,\n",
       "          0.03424644, -0.03720915,  0.004181  ,  0.03122544,  0.01390764,\n",
       "          0.02221294, -0.00496549,  0.02908716, -0.01543194,  0.00533693,\n",
       "          0.02341695, -0.03758651,  0.01370678, -0.0168182 ,  0.0207048 ,\n",
       "         -0.02238692, -0.03134145, -0.03613498,  0.01330572,  0.00080164,\n",
       "         -0.02848687,  0.02334018,  0.01127838,  0.01532903, -0.03873112,\n",
       "         -0.00250253, -0.00193471, -0.02479601, -0.02722466,  0.01661124,\n",
       "         -0.01833446,  0.00586821, -0.03575261, -0.0413962 ,  0.0027383 ,\n",
       "          0.02834169,  0.04068075, -0.02159831, -0.0198295 ,  0.00139084,\n",
       "          0.02177001,  0.01740496, -0.03175374, -0.02627309,  0.02884982,\n",
       "         -0.00101341, -0.02214179, -0.00319096,  0.01453598,  0.02984041,\n",
       "         -0.01030244,  0.01834285,  0.04035817,  0.02978823, -0.01764832,\n",
       "          0.03498339, -0.00397583,  0.01467792,  0.01320435, -0.03955851,\n",
       "          0.02341381, -0.00495042,  0.00010319, -0.04194152, -0.00234285,\n",
       "         -0.03447239,  0.018714  ,  0.02991925,  0.00195237,  0.00763823,\n",
       "          0.00061039,  0.03272402,  0.01838627, -0.0285563 , -0.03089399,\n",
       "         -0.02867065, -0.01580352,  0.03404582,  0.01084624, -0.00430882,\n",
       "         -0.00402117, -0.02650547, -0.02204353,  0.03863202, -0.01935739,\n",
       "          0.0079878 ,  0.00818462, -0.00197755, -0.00794846, -0.04146197,\n",
       "         -0.03624723, -0.00751882, -0.04053977,  0.01743708,  0.03113078,\n",
       "          0.03229595,  0.01493868, -0.00353634,  0.00874432,  0.01241   ,\n",
       "         -0.03532457, -0.03877189, -0.01801171,  0.03498223,  0.01415062,\n",
       "          0.01062893, -0.03898887, -0.01371195, -0.02921306,  0.00809487,\n",
       "          0.0280918 ,  0.0263197 , -0.02376529,  0.02788657, -0.03880265,\n",
       "         -0.01391791, -0.00146152,  0.03361024,  0.04052062, -0.00801252,\n",
       "         -0.00929855], dtype=float32)),\n",
       " 'dense2': (Array([[ 0.07229832,  0.04959471, -0.0596513 , ...,  0.05783904,\n",
       "           0.04482833,  0.1244267 ],\n",
       "         [-0.00304028, -0.02926653,  0.13513786, ..., -0.0014974 ,\n",
       "           0.05593773,  0.04475943],\n",
       "         [-0.11252165, -0.0428327 ,  0.03099457, ..., -0.06268878,\n",
       "          -0.1384399 , -0.10460656],\n",
       "         ...,\n",
       "         [-0.12404932,  0.06931304, -0.03095343, ...,  0.10696124,\n",
       "          -0.09121743,  0.12546104],\n",
       "         [ 0.07230101, -0.05093151, -0.08700979, ...,  0.11595979,\n",
       "           0.07167093,  0.12113806],\n",
       "         [ 0.10439827, -0.01831135, -0.07086681, ..., -0.11954276,\n",
       "          -0.05534927, -0.13263866]], dtype=float32),\n",
       "  Array([ 0.08464903, -0.14656878, -0.04925067,  0.14427677, -0.07287568,\n",
       "         -0.00017807, -0.09643237, -0.14667732, -0.13704517,  0.11768048],      dtype=float32))}"
      ]
     },
     "execution_count": 19,
     "metadata": {},
     "output_type": "execute_result"
    }
   ],
   "execution_count": 19
  },
  {
   "metadata": {
    "ExecuteTime": {
     "end_time": "2025-02-25T17:27:07.645721Z",
     "start_time": "2025-02-25T17:27:07.152013Z"
    }
   },
   "cell_type": "code",
   "source": [
    "def cnn(inputs, cnn_parameters):\n",
    "    # Convert from (C, H, W) to (H, W, C) format\n",
    "    x = jnp.transpose(inputs, (1, 2, 0))  # Now shape (64, 64, 1)\n",
    "\n",
    "    # First Conv + Pool\n",
    "    x = Conv2D(cnn_parameters['conv1'], x, kernel_size=3, stride=1, padding=1)\n",
    "    x = avg_pool(x, window_shape=(2, 2), strides=(2, 2))  # Shape: (32, 32, 32)\n",
    "\n",
    "    # Second Conv + Pool\n",
    "    x = Conv2D(cnn_parameters['conv2'], x, kernel_size=3, stride=1, padding=1)\n",
    "    x = avg_pool(x, window_shape=(2, 2), strides=(2, 2))  # Shape: (16, 16, 64)\n",
    "\n",
    "    # Flatten\n",
    "    x = jnp.reshape(x, (-1,))  # Flatten to 7*7*64 = 3136\n",
    "\n",
    "    # Dense layers\n",
    "    x = dense_layer(cnn_parameters['dense1'], x)\n",
    "    x = relu(x)\n",
    "    x = dense_layer(cnn_parameters['dense2'], x)\n",
    "    return x\n",
    "\n",
    "# Create input with shape (1, 64, 64) - single channel image\n",
    "sample_image = random.normal(key, (1, 28, 28))\n",
    "prediction = cnn(sample_image, cnn_parameters)\n",
    "print(\"Output shape:\", prediction.shape)  # Should be (10,)"
   ],
   "id": "62af7f41cd025b67",
   "outputs": [
    {
     "name": "stdout",
     "output_type": "stream",
     "text": [
      "Output shape: (10,)\n"
     ]
    }
   ],
   "execution_count": 21
  },
  {
   "metadata": {
    "ExecuteTime": {
     "end_time": "2025-02-25T17:27:09.421050Z",
     "start_time": "2025-02-25T17:27:09.418009Z"
    }
   },
   "cell_type": "code",
   "source": [
    "bsize = 5\n",
    "sample_images = random.normal(key, (bsize, 1 ,image_size, image_size))"
   ],
   "id": "a9aed6b2cc8bc1a7",
   "outputs": [],
   "execution_count": 22
  },
  {
   "metadata": {
    "ExecuteTime": {
     "end_time": "2025-02-25T17:27:11.076267Z",
     "start_time": "2025-02-25T17:27:10.708029Z"
    }
   },
   "cell_type": "code",
   "source": [
    "prediction = jax.vmap(cnn, in_axes=(0, None))(sample_images, cnn_parameters)\n",
    "print(\"Prediction shape:\", prediction.shape)"
   ],
   "id": "2644e395dcfd5bb",
   "outputs": [
    {
     "name": "stdout",
     "output_type": "stream",
     "text": [
      "Prediction shape: (5, 10)\n"
     ]
    }
   ],
   "execution_count": 23
  },
  {
   "metadata": {
    "ExecuteTime": {
     "end_time": "2025-02-25T16:24:12.412129Z",
     "start_time": "2025-02-25T16:24:12.408748Z"
    }
   },
   "cell_type": "code",
   "source": [
    "@jax.jit\n",
    "def cross_entropy_loss(patches, cnn_parameters, ground_truth):\n",
    "    prediction = jax.vmap(cnn, in_axes=(0, None))(patches, cnn_parameters)\n",
    "    log_probs = jax.nn.log_softmax(prediction)\n",
    "    l = -jnp.mean(jnp.sum(ground_truth * log_probs, axis=-1))\n",
    "    return l"
   ],
   "id": "516ed5e39ad44cf5",
   "outputs": [],
   "execution_count": 18
  },
  {
   "metadata": {
    "ExecuteTime": {
     "end_time": "2025-02-25T16:24:23.030182Z",
     "start_time": "2025-02-25T16:24:13.934091Z"
    }
   },
   "cell_type": "code",
   "source": [
    "l = cross_entropy_loss(sample_images, cnn_parameters, jnp.zeros((bsize, 10)).at[0, 1].set(1))\n",
    "print(\"Loss:\", l)"
   ],
   "id": "32de1e6364438829",
   "outputs": [
    {
     "name": "stdout",
     "output_type": "stream",
     "text": [
      "Loss: 0.4792119\n"
     ]
    }
   ],
   "execution_count": 19
  },
  {
   "metadata": {
    "ExecuteTime": {
     "end_time": "2025-02-25T16:25:21.452231Z",
     "start_time": "2025-02-25T16:24:39.777176Z"
    }
   },
   "cell_type": "code",
   "source": [
    "# fake labels and images\n",
    "sample_images = random.normal(key, (bsize, 3 ,image_size, image_size))\n",
    "sample_target = jnp.zeros((bsize, 10)).at[0, 1].set(1)\n",
    "current_loss, grads = value_and_grad(cross_entropy_loss, argnums=1)(sample_images, cnn_parameters, sample_target)\n",
    "\n",
    "print(\"Current loss:\", current_loss)\n",
    "print(\"Gradients:\", grads.keys())"
   ],
   "id": "528648aa33074618",
   "outputs": [
    {
     "name": "stdout",
     "output_type": "stream",
     "text": [
      "Current loss: 0.50334865\n",
      "Gradients: dict_keys(['conv1', 'conv2', 'dense1', 'dense2'])\n"
     ]
    }
   ],
   "execution_count": 20
  },
  {
   "metadata": {
    "ExecuteTime": {
     "end_time": "2025-02-25T16:25:37.038118Z",
     "start_time": "2025-02-25T16:25:26.485650Z"
    }
   },
   "cell_type": "code",
   "source": [
    "def eval(cnn_parameters):\n",
    "\n",
    "    correct = 0\n",
    "\n",
    "    for(img, target) in tqdm(test_loader, desc=\"Eval\", unit=\"item\"):\n",
    "\n",
    "        img = jnp.asarray(img, dtype=jnp.float32)\n",
    "        target = jnp.asarray(target)\n",
    "\n",
    "        logits = jax.vmap(cnn, in_axes=(0, None))(img, cnn_parameters)\n",
    "        prediction = jnp.argmax(logits, axis=-1)\n",
    "        correct += jnp.sum(prediction == target).item()\n",
    "\n",
    "\n",
    "    acc = correct / len(test_dataset)\n",
    "\n",
    "    return acc\n",
    "\n",
    "accuracy = eval(cnn_parameters)\n",
    "print(\"Accuracy before training\", accuracy)"
   ],
   "id": "a9c8f045b4378648",
   "outputs": [
    {
     "name": "stderr",
     "output_type": "stream",
     "text": [
      "Eval: 100%|██████████| 4/4 [00:10<00:00,  2.63s/item]"
     ]
    },
    {
     "name": "stdout",
     "output_type": "stream",
     "text": [
      "Accuracy before training 0.00125\n"
     ]
    },
    {
     "name": "stderr",
     "output_type": "stream",
     "text": [
      "\n"
     ]
    }
   ],
   "execution_count": 21
  },
  {
   "metadata": {
    "ExecuteTime": {
     "end_time": "2025-02-25T16:25:48.261328Z",
     "start_time": "2025-02-25T16:25:48.258595Z"
    }
   },
   "cell_type": "code",
   "source": [
    "@jit\n",
    "def train_step(patches, cnn_parameters, target):\n",
    "    # compute gradients\n",
    "    current_loss, grads = value_and_grad(cross_entropy_loss, argnums=1)(\n",
    "            patches,\n",
    "            cnn_parameters,\n",
    "            target)\n",
    "\n",
    "    # update parameters\n",
    "    updated_params = jax.tree.map(lambda p, g: p - 0.01 * g, cnn_parameters, grads)\n",
    "\n",
    "    return current_loss, updated_params"
   ],
   "id": "806050db0bf048cf",
   "outputs": [],
   "execution_count": 22
  },
  {
   "metadata": {
    "jupyter": {
     "is_executing": true
    },
    "ExecuteTime": {
     "end_time": "2025-02-25T16:28:24.997528Z",
     "start_time": "2025-02-25T16:25:54.874661Z"
    }
   },
   "cell_type": "code",
   "source": [
    "\n",
    "num_epochs = 20\n",
    "\n",
    "\n",
    "for epoch in range(num_epochs):\n",
    "\n",
    "    progress_bar = tqdm(enumerate(train_loader), total=len(train_loader), desc=f\"Epoch {epoch+1}/{num_epochs}\")\n",
    "    #for (data, target) in tqdm(train_loader, desc=f'Train epoch {epoch}'):\n",
    "    for i, (data, target) in progress_bar:\n",
    "\n",
    "        # convert to numpy\n",
    "        data = jnp.asarray(data.numpy(), dtype=jnp.float32)\n",
    "        target = jnp.asarray(target.numpy(), dtype=jnp.float32)\n",
    "\n",
    "        # reshape and get one hot fot loss\n",
    "        target_one_hot = jax.nn.one_hot(target, num_classes)\n",
    "\n",
    "        current_loss, cnn_parameters = train_step(data, cnn_parameters, target_one_hot)\n",
    "\n",
    "        progress_bar.set_postfix({'loss': current_loss})\n",
    "\n",
    "\n",
    "    eval_acc = eval(cnn_parameters)\n",
    "    print(f'Epoch: {epoch}, Eval acc: {eval_acc}')"
   ],
   "id": "9b81020e4d0d9723",
   "outputs": [
    {
     "name": "stderr",
     "output_type": "stream",
     "text": [
      "Epoch 1/20:   4%|▍         | 1/24 [01:35<36:38, 95.60s/it, loss=2.3444693]"
     ]
    }
   ],
   "execution_count": null
  },
  {
   "metadata": {},
   "cell_type": "code",
   "outputs": [],
   "execution_count": null,
   "source": "",
   "id": "b3b330c3989e89a7"
  }
 ],
 "metadata": {
  "kernelspec": {
   "display_name": "Python 3",
   "language": "python",
   "name": "python3"
  },
  "language_info": {
   "codemirror_mode": {
    "name": "ipython",
    "version": 2
   },
   "file_extension": ".py",
   "mimetype": "text/x-python",
   "name": "python",
   "nbconvert_exporter": "python",
   "pygments_lexer": "ipython2",
   "version": "2.7.6"
  }
 },
 "nbformat": 4,
 "nbformat_minor": 5
}
