{
 "cells": [
  {
   "cell_type": "code",
   "id": "initial_id",
   "metadata": {
    "collapsed": true,
    "ExecuteTime": {
     "end_time": "2025-04-06T11:17:16.997925Z",
     "start_time": "2025-04-06T11:17:14.634204Z"
    }
   },
   "source": [
    "import pandas as pd\n",
    "from sklearn.model_selection import train_test_split\n",
    "from datasets import Dataset, DatasetDict\n",
    "from huggingface_hub import login"
   ],
   "outputs": [],
   "execution_count": 16
  },
  {
   "metadata": {
    "ExecuteTime": {
     "end_time": "2025-04-06T11:12:47.562806Z",
     "start_time": "2025-04-06T11:12:43.984116Z"
    }
   },
   "cell_type": "code",
   "source": "df1 = pd.read_csv(\"hf://datasets/FrancophonIA/Fon_French_Daily_Dialogues_Parallel_Data/train.csv\")\n",
   "id": "10fd6c8c2bc63b6",
   "outputs": [],
   "execution_count": 2
  },
  {
   "metadata": {
    "ExecuteTime": {
     "end_time": "2025-04-06T11:12:52.473700Z",
     "start_time": "2025-04-06T11:12:47.568251Z"
    }
   },
   "cell_type": "code",
   "source": [
    "splits = {'train': 'data/train-00000-of-00001.parquet', 'test': 'data/test-00000-of-00001.parquet'}\n",
    "train2 = pd.read_parquet(\"hf://datasets/beethogedeon/fr_fon/\" + splits[\"train\"])"
   ],
   "id": "146403cacbf6b1b7",
   "outputs": [],
   "execution_count": 3
  },
  {
   "metadata": {
    "ExecuteTime": {
     "end_time": "2025-04-06T11:12:56.653866Z",
     "start_time": "2025-04-06T11:12:54.301513Z"
    }
   },
   "cell_type": "code",
   "source": "test2 = pd.read_parquet(\"hf://datasets/beethogedeon/fr_fon/\" + splits[\"test\"])",
   "id": "6e1323bae545978f",
   "outputs": [],
   "execution_count": 4
  },
  {
   "metadata": {
    "ExecuteTime": {
     "end_time": "2025-04-06T11:13:02.745594Z",
     "start_time": "2025-04-06T11:13:02.733141Z"
    }
   },
   "cell_type": "code",
   "source": "df1",
   "id": "b62f72989f3495e0",
   "outputs": [
    {
     "data": {
      "text/plain": [
       "                    Fon_Sentence                        French_Translation\n",
       "0                é ɖò ayìjúnjɔ́n                            elle est assis\n",
       "1               mí ɖò ayìjúnjɔ́n                         nous sommes assis\n",
       "2                     e ɖo azɔmɛ                        elle est à l'école\n",
       "3                    mí ɖo azɔmɛ                     nous sommes à l'école\n",
       "4                   e ɖo xwe gbe                      elle est à la maison\n",
       "...                          ...                                       ...\n",
       "25372  fi bi fa amɔ gbɛ ɔ mɛ nyɔ  il fait froid mais le temps est agréable\n",
       "25373         ali wegɔ ɔ aɖisimε                 la deuxième voie à droite\n",
       "25374        vodún tɛ́ a nɔ sɛ̀n            quel est le vodoun que tu sers\n",
       "25375                    un gbɛ̆                                       non\n",
       "25376                    un gbɛ̆                                 je refuse\n",
       "\n",
       "[25377 rows x 2 columns]"
      ],
      "text/html": [
       "<div>\n",
       "<style scoped>\n",
       "    .dataframe tbody tr th:only-of-type {\n",
       "        vertical-align: middle;\n",
       "    }\n",
       "\n",
       "    .dataframe tbody tr th {\n",
       "        vertical-align: top;\n",
       "    }\n",
       "\n",
       "    .dataframe thead th {\n",
       "        text-align: right;\n",
       "    }\n",
       "</style>\n",
       "<table border=\"1\" class=\"dataframe\">\n",
       "  <thead>\n",
       "    <tr style=\"text-align: right;\">\n",
       "      <th></th>\n",
       "      <th>Fon_Sentence</th>\n",
       "      <th>French_Translation</th>\n",
       "    </tr>\n",
       "  </thead>\n",
       "  <tbody>\n",
       "    <tr>\n",
       "      <th>0</th>\n",
       "      <td>é ɖò ayìjúnjɔ́n</td>\n",
       "      <td>elle est assis</td>\n",
       "    </tr>\n",
       "    <tr>\n",
       "      <th>1</th>\n",
       "      <td>mí ɖò ayìjúnjɔ́n</td>\n",
       "      <td>nous sommes assis</td>\n",
       "    </tr>\n",
       "    <tr>\n",
       "      <th>2</th>\n",
       "      <td>e ɖo azɔmɛ</td>\n",
       "      <td>elle est à l'école</td>\n",
       "    </tr>\n",
       "    <tr>\n",
       "      <th>3</th>\n",
       "      <td>mí ɖo azɔmɛ</td>\n",
       "      <td>nous sommes à l'école</td>\n",
       "    </tr>\n",
       "    <tr>\n",
       "      <th>4</th>\n",
       "      <td>e ɖo xwe gbe</td>\n",
       "      <td>elle est à la maison</td>\n",
       "    </tr>\n",
       "    <tr>\n",
       "      <th>...</th>\n",
       "      <td>...</td>\n",
       "      <td>...</td>\n",
       "    </tr>\n",
       "    <tr>\n",
       "      <th>25372</th>\n",
       "      <td>fi bi fa amɔ gbɛ ɔ mɛ nyɔ</td>\n",
       "      <td>il fait froid mais le temps est agréable</td>\n",
       "    </tr>\n",
       "    <tr>\n",
       "      <th>25373</th>\n",
       "      <td>ali wegɔ ɔ aɖisimε</td>\n",
       "      <td>la deuxième voie à droite</td>\n",
       "    </tr>\n",
       "    <tr>\n",
       "      <th>25374</th>\n",
       "      <td>vodún tɛ́ a nɔ sɛ̀n</td>\n",
       "      <td>quel est le vodoun que tu sers</td>\n",
       "    </tr>\n",
       "    <tr>\n",
       "      <th>25375</th>\n",
       "      <td>un gbɛ̆</td>\n",
       "      <td>non</td>\n",
       "    </tr>\n",
       "    <tr>\n",
       "      <th>25376</th>\n",
       "      <td>un gbɛ̆</td>\n",
       "      <td>je refuse</td>\n",
       "    </tr>\n",
       "  </tbody>\n",
       "</table>\n",
       "<p>25377 rows × 2 columns</p>\n",
       "</div>"
      ]
     },
     "execution_count": 5,
     "metadata": {},
     "output_type": "execute_result"
    }
   ],
   "execution_count": 5
  },
  {
   "metadata": {
    "ExecuteTime": {
     "end_time": "2025-04-06T11:13:11.078627Z",
     "start_time": "2025-04-06T11:13:11.072362Z"
    }
   },
   "cell_type": "code",
   "source": "train2",
   "id": "7ebd6423404a33fd",
   "outputs": [
    {
     "data": {
      "text/plain": [
       "                                                 french  \\\n",
       "0     Évitez de ne pas laisser le tissu surchauffer ...   \n",
       "1     Le centre de la méditation tibétaine est le yo...   \n",
       "2     Madagascar est de loin le plus grand pays, et ...   \n",
       "3     Comme exemple, les citoyens américains au Moye...   \n",
       "4     Les scientifiques du Centre national des ourag...   \n",
       "...                                                 ...   \n",
       "3321  Les accusés s'appellent Baba Kanjar, Bhutha Ka...   \n",
       "3322  Alors qu'ils patientaient sous une chaleur de ...   \n",
       "3323  Les troupes renforçant les positions avancées ...   \n",
       "3324  Les plages sont nombreuses, car Auckland est à...   \n",
       "3325  En réalité, la plupart des boomerangs disponib...   \n",
       "\n",
       "                                                    fon  \n",
       "0     Ma lɔn nú avɔ ɔ ni xú zɛ xwé wu ó (enɛ sixu zɔ...  \n",
       "1     Nǔ e jí è nɔ lin tamɛ dó ɖò Tibet é wɛ nyí nǔm...  \n",
       "2     Madagascar wɛ nyí tò ɖaxó hugǎn ɔ, bo tlɛ nyí ...  \n",
       "3     Ði kpɔ́ndéwú ɔ, toví Amɛlika tɔn e ɖò Moyen-Or...  \n",
       "4     Nǔnywɛ xwitixwitizɔ́watɔ́ e ɖò Centre National...  \n",
       "...                                                 ...  \n",
       "3321  Mɛ e è dóhwɛ lɛ é wɛ nyí Baba Kanjar, Bhutha K...  \n",
       "3322  Hwenu e ye ɖò te kpɔ́n wɛ ɖò zozo 32°C tɔn mɛ ...  \n",
       "3323  Ahwanfuntɔ́ ɖěɖee nɔ hɛn tɛn nukɔntɔn lɛ lidǒ ...  \n",
       "3324  Xùtó lɛ sukpɔ́, ɖó Auckland gbɔn tɔjihunglintɛ...  \n",
       "3325  Nugbǒ ɔ, boomerang e ɖò Australie lɛ é gègě nɔ...  \n",
       "\n",
       "[3326 rows x 2 columns]"
      ],
      "text/html": [
       "<div>\n",
       "<style scoped>\n",
       "    .dataframe tbody tr th:only-of-type {\n",
       "        vertical-align: middle;\n",
       "    }\n",
       "\n",
       "    .dataframe tbody tr th {\n",
       "        vertical-align: top;\n",
       "    }\n",
       "\n",
       "    .dataframe thead th {\n",
       "        text-align: right;\n",
       "    }\n",
       "</style>\n",
       "<table border=\"1\" class=\"dataframe\">\n",
       "  <thead>\n",
       "    <tr style=\"text-align: right;\">\n",
       "      <th></th>\n",
       "      <th>french</th>\n",
       "      <th>fon</th>\n",
       "    </tr>\n",
       "  </thead>\n",
       "  <tbody>\n",
       "    <tr>\n",
       "      <th>0</th>\n",
       "      <td>Évitez de ne pas laisser le tissu surchauffer ...</td>\n",
       "      <td>Ma lɔn nú avɔ ɔ ni xú zɛ xwé wu ó (enɛ sixu zɔ...</td>\n",
       "    </tr>\n",
       "    <tr>\n",
       "      <th>1</th>\n",
       "      <td>Le centre de la méditation tibétaine est le yo...</td>\n",
       "      <td>Nǔ e jí è nɔ lin tamɛ dó ɖò Tibet é wɛ nyí nǔm...</td>\n",
       "    </tr>\n",
       "    <tr>\n",
       "      <th>2</th>\n",
       "      <td>Madagascar est de loin le plus grand pays, et ...</td>\n",
       "      <td>Madagascar wɛ nyí tò ɖaxó hugǎn ɔ, bo tlɛ nyí ...</td>\n",
       "    </tr>\n",
       "    <tr>\n",
       "      <th>3</th>\n",
       "      <td>Comme exemple, les citoyens américains au Moye...</td>\n",
       "      <td>Ði kpɔ́ndéwú ɔ, toví Amɛlika tɔn e ɖò Moyen-Or...</td>\n",
       "    </tr>\n",
       "    <tr>\n",
       "      <th>4</th>\n",
       "      <td>Les scientifiques du Centre national des ourag...</td>\n",
       "      <td>Nǔnywɛ xwitixwitizɔ́watɔ́ e ɖò Centre National...</td>\n",
       "    </tr>\n",
       "    <tr>\n",
       "      <th>...</th>\n",
       "      <td>...</td>\n",
       "      <td>...</td>\n",
       "    </tr>\n",
       "    <tr>\n",
       "      <th>3321</th>\n",
       "      <td>Les accusés s'appellent Baba Kanjar, Bhutha Ka...</td>\n",
       "      <td>Mɛ e è dóhwɛ lɛ é wɛ nyí Baba Kanjar, Bhutha K...</td>\n",
       "    </tr>\n",
       "    <tr>\n",
       "      <th>3322</th>\n",
       "      <td>Alors qu'ils patientaient sous une chaleur de ...</td>\n",
       "      <td>Hwenu e ye ɖò te kpɔ́n wɛ ɖò zozo 32°C tɔn mɛ ...</td>\n",
       "    </tr>\n",
       "    <tr>\n",
       "      <th>3323</th>\n",
       "      <td>Les troupes renforçant les positions avancées ...</td>\n",
       "      <td>Ahwanfuntɔ́ ɖěɖee nɔ hɛn tɛn nukɔntɔn lɛ lidǒ ...</td>\n",
       "    </tr>\n",
       "    <tr>\n",
       "      <th>3324</th>\n",
       "      <td>Les plages sont nombreuses, car Auckland est à...</td>\n",
       "      <td>Xùtó lɛ sukpɔ́, ɖó Auckland gbɔn tɔjihunglintɛ...</td>\n",
       "    </tr>\n",
       "    <tr>\n",
       "      <th>3325</th>\n",
       "      <td>En réalité, la plupart des boomerangs disponib...</td>\n",
       "      <td>Nugbǒ ɔ, boomerang e ɖò Australie lɛ é gègě nɔ...</td>\n",
       "    </tr>\n",
       "  </tbody>\n",
       "</table>\n",
       "<p>3326 rows × 2 columns</p>\n",
       "</div>"
      ]
     },
     "execution_count": 6,
     "metadata": {},
     "output_type": "execute_result"
    }
   ],
   "execution_count": 6
  },
  {
   "metadata": {
    "ExecuteTime": {
     "end_time": "2025-04-06T11:14:33.123634Z",
     "start_time": "2025-04-06T11:14:33.119973Z"
    }
   },
   "cell_type": "code",
   "source": [
    "# replace Fon_Sentence with fon and French_Translation with french\n",
    "df1 = df1.rename(columns={\"Fon_Sentence\": \"fon\", \"French_Translation\": \"french\"})"
   ],
   "id": "3e61816149f41352",
   "outputs": [],
   "execution_count": 7
  },
  {
   "metadata": {
    "ExecuteTime": {
     "end_time": "2025-04-06T11:14:36.544924Z",
     "start_time": "2025-04-06T11:14:36.539924Z"
    }
   },
   "cell_type": "code",
   "source": "df1",
   "id": "74f508c0f7c4787e",
   "outputs": [
    {
     "data": {
      "text/plain": [
       "                             fon                                    french\n",
       "0                é ɖò ayìjúnjɔ́n                            elle est assis\n",
       "1               mí ɖò ayìjúnjɔ́n                         nous sommes assis\n",
       "2                     e ɖo azɔmɛ                        elle est à l'école\n",
       "3                    mí ɖo azɔmɛ                     nous sommes à l'école\n",
       "4                   e ɖo xwe gbe                      elle est à la maison\n",
       "...                          ...                                       ...\n",
       "25372  fi bi fa amɔ gbɛ ɔ mɛ nyɔ  il fait froid mais le temps est agréable\n",
       "25373         ali wegɔ ɔ aɖisimε                 la deuxième voie à droite\n",
       "25374        vodún tɛ́ a nɔ sɛ̀n            quel est le vodoun que tu sers\n",
       "25375                    un gbɛ̆                                       non\n",
       "25376                    un gbɛ̆                                 je refuse\n",
       "\n",
       "[25377 rows x 2 columns]"
      ],
      "text/html": [
       "<div>\n",
       "<style scoped>\n",
       "    .dataframe tbody tr th:only-of-type {\n",
       "        vertical-align: middle;\n",
       "    }\n",
       "\n",
       "    .dataframe tbody tr th {\n",
       "        vertical-align: top;\n",
       "    }\n",
       "\n",
       "    .dataframe thead th {\n",
       "        text-align: right;\n",
       "    }\n",
       "</style>\n",
       "<table border=\"1\" class=\"dataframe\">\n",
       "  <thead>\n",
       "    <tr style=\"text-align: right;\">\n",
       "      <th></th>\n",
       "      <th>fon</th>\n",
       "      <th>french</th>\n",
       "    </tr>\n",
       "  </thead>\n",
       "  <tbody>\n",
       "    <tr>\n",
       "      <th>0</th>\n",
       "      <td>é ɖò ayìjúnjɔ́n</td>\n",
       "      <td>elle est assis</td>\n",
       "    </tr>\n",
       "    <tr>\n",
       "      <th>1</th>\n",
       "      <td>mí ɖò ayìjúnjɔ́n</td>\n",
       "      <td>nous sommes assis</td>\n",
       "    </tr>\n",
       "    <tr>\n",
       "      <th>2</th>\n",
       "      <td>e ɖo azɔmɛ</td>\n",
       "      <td>elle est à l'école</td>\n",
       "    </tr>\n",
       "    <tr>\n",
       "      <th>3</th>\n",
       "      <td>mí ɖo azɔmɛ</td>\n",
       "      <td>nous sommes à l'école</td>\n",
       "    </tr>\n",
       "    <tr>\n",
       "      <th>4</th>\n",
       "      <td>e ɖo xwe gbe</td>\n",
       "      <td>elle est à la maison</td>\n",
       "    </tr>\n",
       "    <tr>\n",
       "      <th>...</th>\n",
       "      <td>...</td>\n",
       "      <td>...</td>\n",
       "    </tr>\n",
       "    <tr>\n",
       "      <th>25372</th>\n",
       "      <td>fi bi fa amɔ gbɛ ɔ mɛ nyɔ</td>\n",
       "      <td>il fait froid mais le temps est agréable</td>\n",
       "    </tr>\n",
       "    <tr>\n",
       "      <th>25373</th>\n",
       "      <td>ali wegɔ ɔ aɖisimε</td>\n",
       "      <td>la deuxième voie à droite</td>\n",
       "    </tr>\n",
       "    <tr>\n",
       "      <th>25374</th>\n",
       "      <td>vodún tɛ́ a nɔ sɛ̀n</td>\n",
       "      <td>quel est le vodoun que tu sers</td>\n",
       "    </tr>\n",
       "    <tr>\n",
       "      <th>25375</th>\n",
       "      <td>un gbɛ̆</td>\n",
       "      <td>non</td>\n",
       "    </tr>\n",
       "    <tr>\n",
       "      <th>25376</th>\n",
       "      <td>un gbɛ̆</td>\n",
       "      <td>je refuse</td>\n",
       "    </tr>\n",
       "  </tbody>\n",
       "</table>\n",
       "<p>25377 rows × 2 columns</p>\n",
       "</div>"
      ]
     },
     "execution_count": 8,
     "metadata": {},
     "output_type": "execute_result"
    }
   ],
   "execution_count": 8
  },
  {
   "metadata": {
    "ExecuteTime": {
     "end_time": "2025-04-06T11:14:58.890904Z",
     "start_time": "2025-04-06T11:14:58.885194Z"
    }
   },
   "cell_type": "code",
   "source": [
    "# concatenate df1, train2 and test2\n",
    "df = pd.concat([df1, train2, test2])"
   ],
   "id": "ebbafd4cf86c81d4",
   "outputs": [],
   "execution_count": 9
  },
  {
   "metadata": {
    "ExecuteTime": {
     "end_time": "2025-04-06T11:15:01.002565Z",
     "start_time": "2025-04-06T11:15:00.997174Z"
    }
   },
   "cell_type": "code",
   "source": "df",
   "id": "6a9381d1b260b60b",
   "outputs": [
    {
     "data": {
      "text/plain": [
       "                                                   fon  \\\n",
       "0                                      é ɖò ayìjúnjɔ́n   \n",
       "1                                     mí ɖò ayìjúnjɔ́n   \n",
       "2                                           e ɖo azɔmɛ   \n",
       "3                                          mí ɖo azɔmɛ   \n",
       "4                                         e ɖo xwe gbe   \n",
       "..                                                 ...   \n",
       "827  Ɖo Kundalini Yoga mɛ ɔ, Kundalini hlɔnhlɔn (hl...   \n",
       "828        Zayat gán ɖò alitawoví ɔ mɛ bo ma gblewu ǎ.   \n",
       "829  Azɔn enɛ ɔ zɔ́n bɔ acɛkpikpa Inde tɔn bló tuto...   \n",
       "830  Ðó hwǐ ɔ sín dò nɔ kɔ́n kpɛɖé wutu ɔ, enyi hwǐ...   \n",
       "831  Ðó é nyí zinkponɔ nú Wěɖegbɛ́ E Nɔ Kpé Nukún D...   \n",
       "\n",
       "                                                french  \n",
       "0                                       elle est assis  \n",
       "1                                    nous sommes assis  \n",
       "2                                   elle est à l'école  \n",
       "3                                nous sommes à l'école  \n",
       "4                                 elle est à la maison  \n",
       "..                                                 ...  \n",
       "827  Avec le Kundalini Yoga, l’énergie Kundalini (é...  \n",
       "828             Zayat est sorti indemne de l'accident.  \n",
       "829  L’épidémie a incité le gouvernement indien à p...  \n",
       "830  Comme le bas de la lame est légèrement incurvé...  \n",
       "831  En sa qualité de président de la sous-commissi...  \n",
       "\n",
       "[29535 rows x 2 columns]"
      ],
      "text/html": [
       "<div>\n",
       "<style scoped>\n",
       "    .dataframe tbody tr th:only-of-type {\n",
       "        vertical-align: middle;\n",
       "    }\n",
       "\n",
       "    .dataframe tbody tr th {\n",
       "        vertical-align: top;\n",
       "    }\n",
       "\n",
       "    .dataframe thead th {\n",
       "        text-align: right;\n",
       "    }\n",
       "</style>\n",
       "<table border=\"1\" class=\"dataframe\">\n",
       "  <thead>\n",
       "    <tr style=\"text-align: right;\">\n",
       "      <th></th>\n",
       "      <th>fon</th>\n",
       "      <th>french</th>\n",
       "    </tr>\n",
       "  </thead>\n",
       "  <tbody>\n",
       "    <tr>\n",
       "      <th>0</th>\n",
       "      <td>é ɖò ayìjúnjɔ́n</td>\n",
       "      <td>elle est assis</td>\n",
       "    </tr>\n",
       "    <tr>\n",
       "      <th>1</th>\n",
       "      <td>mí ɖò ayìjúnjɔ́n</td>\n",
       "      <td>nous sommes assis</td>\n",
       "    </tr>\n",
       "    <tr>\n",
       "      <th>2</th>\n",
       "      <td>e ɖo azɔmɛ</td>\n",
       "      <td>elle est à l'école</td>\n",
       "    </tr>\n",
       "    <tr>\n",
       "      <th>3</th>\n",
       "      <td>mí ɖo azɔmɛ</td>\n",
       "      <td>nous sommes à l'école</td>\n",
       "    </tr>\n",
       "    <tr>\n",
       "      <th>4</th>\n",
       "      <td>e ɖo xwe gbe</td>\n",
       "      <td>elle est à la maison</td>\n",
       "    </tr>\n",
       "    <tr>\n",
       "      <th>...</th>\n",
       "      <td>...</td>\n",
       "      <td>...</td>\n",
       "    </tr>\n",
       "    <tr>\n",
       "      <th>827</th>\n",
       "      <td>Ɖo Kundalini Yoga mɛ ɔ, Kundalini hlɔnhlɔn (hl...</td>\n",
       "      <td>Avec le Kundalini Yoga, l’énergie Kundalini (é...</td>\n",
       "    </tr>\n",
       "    <tr>\n",
       "      <th>828</th>\n",
       "      <td>Zayat gán ɖò alitawoví ɔ mɛ bo ma gblewu ǎ.</td>\n",
       "      <td>Zayat est sorti indemne de l'accident.</td>\n",
       "    </tr>\n",
       "    <tr>\n",
       "      <th>829</th>\n",
       "      <td>Azɔn enɛ ɔ zɔ́n bɔ acɛkpikpa Inde tɔn bló tuto...</td>\n",
       "      <td>L’épidémie a incité le gouvernement indien à p...</td>\n",
       "    </tr>\n",
       "    <tr>\n",
       "      <th>830</th>\n",
       "      <td>Ðó hwǐ ɔ sín dò nɔ kɔ́n kpɛɖé wutu ɔ, enyi hwǐ...</td>\n",
       "      <td>Comme le bas de la lame est légèrement incurvé...</td>\n",
       "    </tr>\n",
       "    <tr>\n",
       "      <th>831</th>\n",
       "      <td>Ðó é nyí zinkponɔ nú Wěɖegbɛ́ E Nɔ Kpé Nukún D...</td>\n",
       "      <td>En sa qualité de président de la sous-commissi...</td>\n",
       "    </tr>\n",
       "  </tbody>\n",
       "</table>\n",
       "<p>29535 rows × 2 columns</p>\n",
       "</div>"
      ]
     },
     "execution_count": 10,
     "metadata": {},
     "output_type": "execute_result"
    }
   ],
   "execution_count": 10
  },
  {
   "metadata": {
    "ExecuteTime": {
     "end_time": "2025-04-06T11:15:14.218426Z",
     "start_time": "2025-04-06T11:15:14.192983Z"
    }
   },
   "cell_type": "code",
   "source": [
    "# remove duplicates\n",
    "df = df.drop_duplicates(subset=[\"fon\", \"french\"])\n",
    "df"
   ],
   "id": "b668d4caf7667d07",
   "outputs": [
    {
     "data": {
      "text/plain": [
       "                                                   fon  \\\n",
       "0                                      é ɖò ayìjúnjɔ́n   \n",
       "1                                     mí ɖò ayìjúnjɔ́n   \n",
       "2                                           e ɖo azɔmɛ   \n",
       "3                                          mí ɖo azɔmɛ   \n",
       "4                                         e ɖo xwe gbe   \n",
       "..                                                 ...   \n",
       "762  Angel (2006) xlɛ Continuum sín ali ɔ ɖi wlɛnwí...   \n",
       "779  É nyɔ́ wà ɔ, ninɔmɛ nǔ lɛ tɔn ɛnɛ lɛ wɛ (ɖò tu...   \n",
       "800  Ðò toxo gègě ɖevo lɛ mɛ ɖò Italie kpo gbɛ̀ ɔ b...   \n",
       "816  Nǔkplɔnmɛ ɔ xlɛ́ ɖɔ linkpɔ́nzɔn, xɛsi kpo nǔ b...   \n",
       "831  Ðó é nyí zinkponɔ nú Wěɖegbɛ́ E Nɔ Kpé Nukún D...   \n",
       "\n",
       "                                                french  \n",
       "0                                       elle est assis  \n",
       "1                                    nous sommes assis  \n",
       "2                                   elle est à l'école  \n",
       "3                                nous sommes à l'école  \n",
       "4                                 elle est à la maison  \n",
       "..                                                 ...  \n",
       "762  Angel (2006) présente l'approche Continuum com...  \n",
       "779  Il s'agissait plutôt des quatre états de la ma...  \n",
       "800  Dans de nombreuses autres villes d'Italie et d...  \n",
       "816  L'étude a révélé que la dépression, la peur et...  \n",
       "831  En sa qualité de président de la sous-commissi...  \n",
       "\n",
       "[25508 rows x 2 columns]"
      ],
      "text/html": [
       "<div>\n",
       "<style scoped>\n",
       "    .dataframe tbody tr th:only-of-type {\n",
       "        vertical-align: middle;\n",
       "    }\n",
       "\n",
       "    .dataframe tbody tr th {\n",
       "        vertical-align: top;\n",
       "    }\n",
       "\n",
       "    .dataframe thead th {\n",
       "        text-align: right;\n",
       "    }\n",
       "</style>\n",
       "<table border=\"1\" class=\"dataframe\">\n",
       "  <thead>\n",
       "    <tr style=\"text-align: right;\">\n",
       "      <th></th>\n",
       "      <th>fon</th>\n",
       "      <th>french</th>\n",
       "    </tr>\n",
       "  </thead>\n",
       "  <tbody>\n",
       "    <tr>\n",
       "      <th>0</th>\n",
       "      <td>é ɖò ayìjúnjɔ́n</td>\n",
       "      <td>elle est assis</td>\n",
       "    </tr>\n",
       "    <tr>\n",
       "      <th>1</th>\n",
       "      <td>mí ɖò ayìjúnjɔ́n</td>\n",
       "      <td>nous sommes assis</td>\n",
       "    </tr>\n",
       "    <tr>\n",
       "      <th>2</th>\n",
       "      <td>e ɖo azɔmɛ</td>\n",
       "      <td>elle est à l'école</td>\n",
       "    </tr>\n",
       "    <tr>\n",
       "      <th>3</th>\n",
       "      <td>mí ɖo azɔmɛ</td>\n",
       "      <td>nous sommes à l'école</td>\n",
       "    </tr>\n",
       "    <tr>\n",
       "      <th>4</th>\n",
       "      <td>e ɖo xwe gbe</td>\n",
       "      <td>elle est à la maison</td>\n",
       "    </tr>\n",
       "    <tr>\n",
       "      <th>...</th>\n",
       "      <td>...</td>\n",
       "      <td>...</td>\n",
       "    </tr>\n",
       "    <tr>\n",
       "      <th>762</th>\n",
       "      <td>Angel (2006) xlɛ Continuum sín ali ɔ ɖi wlɛnwí...</td>\n",
       "      <td>Angel (2006) présente l'approche Continuum com...</td>\n",
       "    </tr>\n",
       "    <tr>\n",
       "      <th>779</th>\n",
       "      <td>É nyɔ́ wà ɔ, ninɔmɛ nǔ lɛ tɔn ɛnɛ lɛ wɛ (ɖò tu...</td>\n",
       "      <td>Il s'agissait plutôt des quatre états de la ma...</td>\n",
       "    </tr>\n",
       "    <tr>\n",
       "      <th>800</th>\n",
       "      <td>Ðò toxo gègě ɖevo lɛ mɛ ɖò Italie kpo gbɛ̀ ɔ b...</td>\n",
       "      <td>Dans de nombreuses autres villes d'Italie et d...</td>\n",
       "    </tr>\n",
       "    <tr>\n",
       "      <th>816</th>\n",
       "      <td>Nǔkplɔnmɛ ɔ xlɛ́ ɖɔ linkpɔ́nzɔn, xɛsi kpo nǔ b...</td>\n",
       "      <td>L'étude a révélé que la dépression, la peur et...</td>\n",
       "    </tr>\n",
       "    <tr>\n",
       "      <th>831</th>\n",
       "      <td>Ðó é nyí zinkponɔ nú Wěɖegbɛ́ E Nɔ Kpé Nukún D...</td>\n",
       "      <td>En sa qualité de président de la sous-commissi...</td>\n",
       "    </tr>\n",
       "  </tbody>\n",
       "</table>\n",
       "<p>25508 rows × 2 columns</p>\n",
       "</div>"
      ]
     },
     "execution_count": 11,
     "metadata": {},
     "output_type": "execute_result"
    }
   ],
   "execution_count": 11
  },
  {
   "metadata": {
    "ExecuteTime": {
     "end_time": "2025-04-06T11:15:49.740977Z",
     "start_time": "2025-04-06T11:15:49.729959Z"
    }
   },
   "cell_type": "code",
   "source": [
    "# remove rows with empty fon or french\n",
    "df = df.dropna(subset=[\"fon\", \"french\"])\n",
    "df"
   ],
   "id": "86e20b68c84de5ef",
   "outputs": [
    {
     "data": {
      "text/plain": [
       "                                                   fon  \\\n",
       "0                                      é ɖò ayìjúnjɔ́n   \n",
       "1                                     mí ɖò ayìjúnjɔ́n   \n",
       "2                                           e ɖo azɔmɛ   \n",
       "3                                          mí ɖo azɔmɛ   \n",
       "4                                         e ɖo xwe gbe   \n",
       "..                                                 ...   \n",
       "762  Angel (2006) xlɛ Continuum sín ali ɔ ɖi wlɛnwí...   \n",
       "779  É nyɔ́ wà ɔ, ninɔmɛ nǔ lɛ tɔn ɛnɛ lɛ wɛ (ɖò tu...   \n",
       "800  Ðò toxo gègě ɖevo lɛ mɛ ɖò Italie kpo gbɛ̀ ɔ b...   \n",
       "816  Nǔkplɔnmɛ ɔ xlɛ́ ɖɔ linkpɔ́nzɔn, xɛsi kpo nǔ b...   \n",
       "831  Ðó é nyí zinkponɔ nú Wěɖegbɛ́ E Nɔ Kpé Nukún D...   \n",
       "\n",
       "                                                french  \n",
       "0                                       elle est assis  \n",
       "1                                    nous sommes assis  \n",
       "2                                   elle est à l'école  \n",
       "3                                nous sommes à l'école  \n",
       "4                                 elle est à la maison  \n",
       "..                                                 ...  \n",
       "762  Angel (2006) présente l'approche Continuum com...  \n",
       "779  Il s'agissait plutôt des quatre états de la ma...  \n",
       "800  Dans de nombreuses autres villes d'Italie et d...  \n",
       "816  L'étude a révélé que la dépression, la peur et...  \n",
       "831  En sa qualité de président de la sous-commissi...  \n",
       "\n",
       "[25508 rows x 2 columns]"
      ],
      "text/html": [
       "<div>\n",
       "<style scoped>\n",
       "    .dataframe tbody tr th:only-of-type {\n",
       "        vertical-align: middle;\n",
       "    }\n",
       "\n",
       "    .dataframe tbody tr th {\n",
       "        vertical-align: top;\n",
       "    }\n",
       "\n",
       "    .dataframe thead th {\n",
       "        text-align: right;\n",
       "    }\n",
       "</style>\n",
       "<table border=\"1\" class=\"dataframe\">\n",
       "  <thead>\n",
       "    <tr style=\"text-align: right;\">\n",
       "      <th></th>\n",
       "      <th>fon</th>\n",
       "      <th>french</th>\n",
       "    </tr>\n",
       "  </thead>\n",
       "  <tbody>\n",
       "    <tr>\n",
       "      <th>0</th>\n",
       "      <td>é ɖò ayìjúnjɔ́n</td>\n",
       "      <td>elle est assis</td>\n",
       "    </tr>\n",
       "    <tr>\n",
       "      <th>1</th>\n",
       "      <td>mí ɖò ayìjúnjɔ́n</td>\n",
       "      <td>nous sommes assis</td>\n",
       "    </tr>\n",
       "    <tr>\n",
       "      <th>2</th>\n",
       "      <td>e ɖo azɔmɛ</td>\n",
       "      <td>elle est à l'école</td>\n",
       "    </tr>\n",
       "    <tr>\n",
       "      <th>3</th>\n",
       "      <td>mí ɖo azɔmɛ</td>\n",
       "      <td>nous sommes à l'école</td>\n",
       "    </tr>\n",
       "    <tr>\n",
       "      <th>4</th>\n",
       "      <td>e ɖo xwe gbe</td>\n",
       "      <td>elle est à la maison</td>\n",
       "    </tr>\n",
       "    <tr>\n",
       "      <th>...</th>\n",
       "      <td>...</td>\n",
       "      <td>...</td>\n",
       "    </tr>\n",
       "    <tr>\n",
       "      <th>762</th>\n",
       "      <td>Angel (2006) xlɛ Continuum sín ali ɔ ɖi wlɛnwí...</td>\n",
       "      <td>Angel (2006) présente l'approche Continuum com...</td>\n",
       "    </tr>\n",
       "    <tr>\n",
       "      <th>779</th>\n",
       "      <td>É nyɔ́ wà ɔ, ninɔmɛ nǔ lɛ tɔn ɛnɛ lɛ wɛ (ɖò tu...</td>\n",
       "      <td>Il s'agissait plutôt des quatre états de la ma...</td>\n",
       "    </tr>\n",
       "    <tr>\n",
       "      <th>800</th>\n",
       "      <td>Ðò toxo gègě ɖevo lɛ mɛ ɖò Italie kpo gbɛ̀ ɔ b...</td>\n",
       "      <td>Dans de nombreuses autres villes d'Italie et d...</td>\n",
       "    </tr>\n",
       "    <tr>\n",
       "      <th>816</th>\n",
       "      <td>Nǔkplɔnmɛ ɔ xlɛ́ ɖɔ linkpɔ́nzɔn, xɛsi kpo nǔ b...</td>\n",
       "      <td>L'étude a révélé que la dépression, la peur et...</td>\n",
       "    </tr>\n",
       "    <tr>\n",
       "      <th>831</th>\n",
       "      <td>Ðó é nyí zinkponɔ nú Wěɖegbɛ́ E Nɔ Kpé Nukún D...</td>\n",
       "      <td>En sa qualité de président de la sous-commissi...</td>\n",
       "    </tr>\n",
       "  </tbody>\n",
       "</table>\n",
       "<p>25508 rows × 2 columns</p>\n",
       "</div>"
      ]
     },
     "execution_count": 13,
     "metadata": {},
     "output_type": "execute_result"
    }
   ],
   "execution_count": 13
  },
  {
   "metadata": {
    "ExecuteTime": {
     "end_time": "2025-04-06T11:16:37.690421Z",
     "start_time": "2025-04-06T11:16:37.681397Z"
    }
   },
   "cell_type": "code",
   "source": [
    "# Split the data into train, test, and validation sets\n",
    "train, test = train_test_split(df, test_size=0.2, random_state=42)\n",
    "train, val = train_test_split(train, test_size=0.2, random_state=42)"
   ],
   "id": "d71cf6096d9f90a5",
   "outputs": [],
   "execution_count": 15
  },
  {
   "metadata": {
    "ExecuteTime": {
     "end_time": "2025-04-06T11:21:12.907361Z",
     "start_time": "2025-04-06T11:21:12.902561Z"
    }
   },
   "cell_type": "code",
   "source": [
    "#  Delete the index column\n",
    "train = train.reset_index(drop=True)\n",
    "test = test.reset_index(drop=True)\n",
    "val = val.reset_index(drop=True)"
   ],
   "id": "7a6959cd70903574",
   "outputs": [],
   "execution_count": 23
  },
  {
   "metadata": {
    "ExecuteTime": {
     "end_time": "2025-04-06T11:21:32.593232Z",
     "start_time": "2025-04-06T11:21:13.653606Z"
    }
   },
   "cell_type": "code",
   "source": [
    "# Publish the datasets(train, test, val) to the huggingface hub\n",
    "train_dataset = Dataset.from_pandas(train)\n",
    "test_dataset = Dataset.from_pandas(test)\n",
    "val_dataset = Dataset.from_pandas(val)\n",
    "dataset_dict = DatasetDict({\"train\": train_dataset, \"test\": test_dataset, \"validation\": val_dataset})\n",
    "dataset_dict.push_to_hub(\"jonathansuru/fr_fon\")"
   ],
   "id": "ade0c93dc2fd6a22",
   "outputs": [
    {
     "data": {
      "text/plain": [
       "Pushing dataset shards to the dataset hub:   0%|          | 0/1 [00:00<?, ?it/s]"
      ],
      "application/vnd.jupyter.widget-view+json": {
       "version_major": 2,
       "version_minor": 0,
       "model_id": "ec4045efeb12424cb1a4c145c5daea34"
      }
     },
     "metadata": {},
     "output_type": "display_data"
    },
    {
     "data": {
      "text/plain": [
       "Creating parquet from Arrow format:   0%|          | 0/17 [00:00<?, ?ba/s]"
      ],
      "application/vnd.jupyter.widget-view+json": {
       "version_major": 2,
       "version_minor": 0,
       "model_id": "48fb9f9c9ef5412e8e35b5c43dfeefde"
      }
     },
     "metadata": {},
     "output_type": "display_data"
    },
    {
     "data": {
      "text/plain": [
       "Deleting unused files from dataset repository:   0%|          | 0/1 [00:00<?, ?it/s]"
      ],
      "application/vnd.jupyter.widget-view+json": {
       "version_major": 2,
       "version_minor": 0,
       "model_id": "6818db36780b480e8f614a9780ba26c7"
      }
     },
     "metadata": {},
     "output_type": "display_data"
    },
    {
     "data": {
      "text/plain": [
       "Pushing dataset shards to the dataset hub:   0%|          | 0/1 [00:00<?, ?it/s]"
      ],
      "application/vnd.jupyter.widget-view+json": {
       "version_major": 2,
       "version_minor": 0,
       "model_id": "df7b609b5ae94779a30c464d12a0edeb"
      }
     },
     "metadata": {},
     "output_type": "display_data"
    },
    {
     "data": {
      "text/plain": [
       "Creating parquet from Arrow format:   0%|          | 0/6 [00:00<?, ?ba/s]"
      ],
      "application/vnd.jupyter.widget-view+json": {
       "version_major": 2,
       "version_minor": 0,
       "model_id": "6df919e15ade4e38814def30cfb6f5b6"
      }
     },
     "metadata": {},
     "output_type": "display_data"
    },
    {
     "data": {
      "text/plain": [
       "Deleting unused files from dataset repository:   0%|          | 0/1 [00:00<?, ?it/s]"
      ],
      "application/vnd.jupyter.widget-view+json": {
       "version_major": 2,
       "version_minor": 0,
       "model_id": "21a62e1aae1c4a4391fe9e4494d4495b"
      }
     },
     "metadata": {},
     "output_type": "display_data"
    },
    {
     "data": {
      "text/plain": [
       "Pushing dataset shards to the dataset hub:   0%|          | 0/1 [00:00<?, ?it/s]"
      ],
      "application/vnd.jupyter.widget-view+json": {
       "version_major": 2,
       "version_minor": 0,
       "model_id": "9413e1fa1f7c42e1aef8661dd7a786af"
      }
     },
     "metadata": {},
     "output_type": "display_data"
    },
    {
     "data": {
      "text/plain": [
       "Creating parquet from Arrow format:   0%|          | 0/5 [00:00<?, ?ba/s]"
      ],
      "application/vnd.jupyter.widget-view+json": {
       "version_major": 2,
       "version_minor": 0,
       "model_id": "c93036bca4144750908bdbff06b00e1c"
      }
     },
     "metadata": {},
     "output_type": "display_data"
    },
    {
     "data": {
      "text/plain": [
       "Deleting unused files from dataset repository:   0%|          | 0/1 [00:00<?, ?it/s]"
      ],
      "application/vnd.jupyter.widget-view+json": {
       "version_major": 2,
       "version_minor": 0,
       "model_id": "45a46efee5ab4443a91ec00499e44da0"
      }
     },
     "metadata": {},
     "output_type": "display_data"
    },
    {
     "data": {
      "text/plain": [
       "Downloading metadata:   0%|          | 0.00/728 [00:00<?, ?B/s]"
      ],
      "application/vnd.jupyter.widget-view+json": {
       "version_major": 2,
       "version_minor": 0,
       "model_id": "9c2356a566244939be954221adbb012c"
      }
     },
     "metadata": {},
     "output_type": "display_data"
    }
   ],
   "execution_count": 24
  },
  {
   "metadata": {},
   "cell_type": "code",
   "outputs": [],
   "execution_count": null,
   "source": "",
   "id": "c8f284577b0048d8"
  }
 ],
 "metadata": {
  "kernelspec": {
   "display_name": "Python 3",
   "language": "python",
   "name": "python3"
  },
  "language_info": {
   "codemirror_mode": {
    "name": "ipython",
    "version": 2
   },
   "file_extension": ".py",
   "mimetype": "text/x-python",
   "name": "python",
   "nbconvert_exporter": "python",
   "pygments_lexer": "ipython2",
   "version": "2.7.6"
  }
 },
 "nbformat": 4,
 "nbformat_minor": 5
}
