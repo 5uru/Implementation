{
 "cells": [
  {
   "cell_type": "code",
   "id": "initial_id",
   "metadata": {
    "collapsed": true,
    "ExecuteTime": {
     "end_time": "2025-04-06T18:38:32.854642Z",
     "start_time": "2025-04-06T18:38:32.849430Z"
    }
   },
   "source": [
    "import pandas as pd\n",
    "from sklearn.model_selection import train_test_split\n",
    "from datasets import Dataset, DatasetDict\n",
    "from huggingface_hub import login\n",
    "import re\n",
    "import string\n",
    "import time\n",
    "import unicodedata"
   ],
   "outputs": [],
   "execution_count": 34
  },
  {
   "metadata": {
    "ExecuteTime": {
     "end_time": "2025-04-06T18:30:32.361321Z",
     "start_time": "2025-04-06T18:30:32.324835Z"
    }
   },
   "cell_type": "code",
   "source": [
    "# open the txt file\n",
    "with open(\"ffr_dataset_v2.txt\", \"r\") as f:\n",
    "    lines = f.readlines()\n",
    "    for line in lines[:10]:\n",
    "        print(line)\n"
   ],
   "id": "146403cacbf6b1b7",
   "outputs": [
    {
     "name": "stdout",
     "output_type": "stream",
     "text": [
      "xota ðò akpà ɔ jí é etɛwu mǐ ðó nɔ ðɔ nugbǒ\tcouverture pourquoi être honnête\n",
      "\n",
      "hitoshi nɔ ɖò tɔn ɖò nɔ nú mɛ é ɖé ɖò japon\thitoshi travaillait dans le comptabilité agence au japon\n",
      "\n",
      "hwenu é ɖò akwɛzinzan ɖé xá gǎn tɔn wɛ é ɔ gǎn ɔ ɖɔ ɖɔ sɔgbe ǎ é ɖó nukún wɛ emi ɖè ɖò así tɔn\talors examinait avec responsable celui ci lui demandé le\n",
      "\n",
      "hitoshi tinmɛ ɖɔ ayixa emitɔn kún yí gbè bonu emi wà byɔ nugbǒmaɖɔ é ó\thitoshi expliqué que lui permettait pas malhonnête\n",
      "\n",
      "é sín enɛ wu bɔ gǎn ɔ adǎn ɖɔ emi nya ɛ sín bɔ ɖò gudo mɛ ɔ gblé dó è nugbǒ\til alors été menacé licenciement\n",
      "\n",
      "ðò bɔ lɛ é mɛ ɔ awakanmɛ wá kú hitoshi bǐ dó é wà é biba wu\tfinalement il emploi\n",
      "\n",
      "ði ɔ hwenu hitoshi ɖò wɛ gbè ɖokpo bɔ è ɖò nǔ kanbyɔ ɛ wɛ é ɔ é ɖɔ ɖɔ emi kún sixu wà nugbǒmaɖɔ é ó\tdans les mois qui ont suivi hitoshi découragé il pensait jamais retrouver\n",
      "\n",
      "mɛ ɖò nǔ kanbyɔ ɛ wɛ é ɖɔ ɖɔ linlin towe lɛ bú dò mɛ\tentretien exemple après avoir précisé pouvait pas montrer malhonnête il entendu votre façon voir les choses est étrange\n",
      "\n",
      "hɛnnumɔ hitoshi tɔn lɛ kpo tɔn lɛ kpo dó wusyɛn lanmɛ ɖɔ é zunfan kú é kudeji ɖɔ emi nɔ ɖɔ nugbǒ é é ɖò có é wá jɛ jí kpɛɖé kpɛɖé\tfamille et ses amis encouragé à tenir résolution honnête\n",
      "\n",
      "ði ɔ é ɖɔ nɔ wá kanbyɔ nyiɖée ɖɔ gbejininɔ nú nùɖiɖi nyí nǔ ɖagbe à jí\tmalgré cela il commencé à avoir des doutes\n",
      "\n"
     ]
    }
   ],
   "execution_count": 23
  },
  {
   "metadata": {
    "ExecuteTime": {
     "end_time": "2025-04-06T18:31:53.234810Z",
     "start_time": "2025-04-06T18:31:53.142164Z"
    }
   },
   "cell_type": "code",
   "source": [
    "# convert the txt file to a dataframe\n",
    "data = []\n",
    "with open(\"ffr_dataset_v2.txt\", \"r\") as f:\n",
    "    lines = f.readlines()\n",
    "    for line in lines:\n",
    "        # Split on the first tab occurrence only\n",
    "        parts = line.strip().split(\"\\t\", 1)\n",
    "        if len(parts) == 2:\n",
    "            fon, french = parts\n",
    "            data.append({\"fon\": fon.strip(), \"french\": french.strip()})\n",
    "        else:\n",
    "            # Handle lines that don't split correctly (optional)\n",
    "            print(f\"Skipping malformed line: {line}\")"
   ],
   "id": "6e1323bae545978f",
   "outputs": [],
   "execution_count": 25
  },
  {
   "metadata": {
    "ExecuteTime": {
     "end_time": "2025-04-06T18:31:54.760147Z",
     "start_time": "2025-04-06T18:31:54.757397Z"
    }
   },
   "cell_type": "code",
   "source": "len(data)",
   "id": "b62f72989f3495e0",
   "outputs": [
    {
     "data": {
      "text/plain": [
       "54749"
      ]
     },
     "execution_count": 26,
     "metadata": {},
     "output_type": "execute_result"
    }
   ],
   "execution_count": 26
  },
  {
   "metadata": {
    "ExecuteTime": {
     "end_time": "2025-04-06T18:31:56.566642Z",
     "start_time": "2025-04-06T18:31:56.544971Z"
    }
   },
   "cell_type": "code",
   "source": "df = pd.DataFrame(data)",
   "id": "7ebd6423404a33fd",
   "outputs": [],
   "execution_count": 27
  },
  {
   "metadata": {
    "ExecuteTime": {
     "end_time": "2025-04-06T18:31:57.339665Z",
     "start_time": "2025-04-06T18:31:57.334031Z"
    }
   },
   "cell_type": "code",
   "source": "df",
   "id": "6a9381d1b260b60b",
   "outputs": [
    {
     "data": {
      "text/plain": [
       "                                                     fon  \\\n",
       "0            xota ðò akpà ɔ jí é etɛwu mǐ ðó nɔ ðɔ nugbǒ   \n",
       "1            hitoshi nɔ ɖò tɔn ɖò nɔ nú mɛ é ɖé ɖò japon   \n",
       "2      hwenu é ɖò akwɛzinzan ɖé xá gǎn tɔn wɛ é ɔ gǎn...   \n",
       "3      hitoshi tinmɛ ɖɔ ayixa emitɔn kún yí gbè bonu ...   \n",
       "4      é sín enɛ wu bɔ gǎn ɔ adǎn ɖɔ emi nya ɛ sín bɔ...   \n",
       "...                                                  ...   \n",
       "54744                      Keze ɔ mɛ ni nyɔ nu mibi sese   \n",
       "54745                        Keze ɔ mɛ ni nyɔ nu wé sese   \n",
       "54746                        Keze ɔ mɛ ni nyɔ nu wé sese   \n",
       "54747                        Keze ɔ mɛ ni nyɔ nu wé sese   \n",
       "54748                        Keze ɔ mɛ ni nyɔ nu wé sese   \n",
       "\n",
       "                                                  french  \n",
       "0                       couverture pourquoi être honnête  \n",
       "1      hitoshi travaillait dans le comptabilité agenc...  \n",
       "2      alors examinait avec responsable celui ci lui ...  \n",
       "3      hitoshi expliqué que lui permettait pas malhon...  \n",
       "4                       il alors été menacé licenciement  \n",
       "...                                                  ...  \n",
       "54744                           Passez une belle journée  \n",
       "54745                       Que la journée te soit belle  \n",
       "54746                                      Bonne journée  \n",
       "54747                           Passes une bonne journée  \n",
       "54748                           Passes une belle journée  \n",
       "\n",
       "[54749 rows x 2 columns]"
      ],
      "text/html": [
       "<div>\n",
       "<style scoped>\n",
       "    .dataframe tbody tr th:only-of-type {\n",
       "        vertical-align: middle;\n",
       "    }\n",
       "\n",
       "    .dataframe tbody tr th {\n",
       "        vertical-align: top;\n",
       "    }\n",
       "\n",
       "    .dataframe thead th {\n",
       "        text-align: right;\n",
       "    }\n",
       "</style>\n",
       "<table border=\"1\" class=\"dataframe\">\n",
       "  <thead>\n",
       "    <tr style=\"text-align: right;\">\n",
       "      <th></th>\n",
       "      <th>fon</th>\n",
       "      <th>french</th>\n",
       "    </tr>\n",
       "  </thead>\n",
       "  <tbody>\n",
       "    <tr>\n",
       "      <th>0</th>\n",
       "      <td>xota ðò akpà ɔ jí é etɛwu mǐ ðó nɔ ðɔ nugbǒ</td>\n",
       "      <td>couverture pourquoi être honnête</td>\n",
       "    </tr>\n",
       "    <tr>\n",
       "      <th>1</th>\n",
       "      <td>hitoshi nɔ ɖò tɔn ɖò nɔ nú mɛ é ɖé ɖò japon</td>\n",
       "      <td>hitoshi travaillait dans le comptabilité agenc...</td>\n",
       "    </tr>\n",
       "    <tr>\n",
       "      <th>2</th>\n",
       "      <td>hwenu é ɖò akwɛzinzan ɖé xá gǎn tɔn wɛ é ɔ gǎn...</td>\n",
       "      <td>alors examinait avec responsable celui ci lui ...</td>\n",
       "    </tr>\n",
       "    <tr>\n",
       "      <th>3</th>\n",
       "      <td>hitoshi tinmɛ ɖɔ ayixa emitɔn kún yí gbè bonu ...</td>\n",
       "      <td>hitoshi expliqué que lui permettait pas malhon...</td>\n",
       "    </tr>\n",
       "    <tr>\n",
       "      <th>4</th>\n",
       "      <td>é sín enɛ wu bɔ gǎn ɔ adǎn ɖɔ emi nya ɛ sín bɔ...</td>\n",
       "      <td>il alors été menacé licenciement</td>\n",
       "    </tr>\n",
       "    <tr>\n",
       "      <th>...</th>\n",
       "      <td>...</td>\n",
       "      <td>...</td>\n",
       "    </tr>\n",
       "    <tr>\n",
       "      <th>54744</th>\n",
       "      <td>Keze ɔ mɛ ni nyɔ nu mibi sese</td>\n",
       "      <td>Passez une belle journée</td>\n",
       "    </tr>\n",
       "    <tr>\n",
       "      <th>54745</th>\n",
       "      <td>Keze ɔ mɛ ni nyɔ nu wé sese</td>\n",
       "      <td>Que la journée te soit belle</td>\n",
       "    </tr>\n",
       "    <tr>\n",
       "      <th>54746</th>\n",
       "      <td>Keze ɔ mɛ ni nyɔ nu wé sese</td>\n",
       "      <td>Bonne journée</td>\n",
       "    </tr>\n",
       "    <tr>\n",
       "      <th>54747</th>\n",
       "      <td>Keze ɔ mɛ ni nyɔ nu wé sese</td>\n",
       "      <td>Passes une bonne journée</td>\n",
       "    </tr>\n",
       "    <tr>\n",
       "      <th>54748</th>\n",
       "      <td>Keze ɔ mɛ ni nyɔ nu wé sese</td>\n",
       "      <td>Passes une belle journée</td>\n",
       "    </tr>\n",
       "  </tbody>\n",
       "</table>\n",
       "<p>54749 rows × 2 columns</p>\n",
       "</div>"
      ]
     },
     "execution_count": 28,
     "metadata": {},
     "output_type": "execute_result"
    }
   ],
   "execution_count": 28
  },
  {
   "metadata": {
    "ExecuteTime": {
     "end_time": "2025-04-06T18:32:03.704643Z",
     "start_time": "2025-04-06T18:32:03.661649Z"
    }
   },
   "cell_type": "code",
   "source": [
    "# remove duplicates\n",
    "df = df.drop_duplicates(subset=[\"fon\", \"french\"])\n",
    "df"
   ],
   "id": "b668d4caf7667d07",
   "outputs": [
    {
     "data": {
      "text/plain": [
       "                                                     fon  \\\n",
       "0            xota ðò akpà ɔ jí é etɛwu mǐ ðó nɔ ðɔ nugbǒ   \n",
       "1            hitoshi nɔ ɖò tɔn ɖò nɔ nú mɛ é ɖé ɖò japon   \n",
       "2      hwenu é ɖò akwɛzinzan ɖé xá gǎn tɔn wɛ é ɔ gǎn...   \n",
       "3      hitoshi tinmɛ ɖɔ ayixa emitɔn kún yí gbè bonu ...   \n",
       "4      é sín enɛ wu bɔ gǎn ɔ adǎn ɖɔ emi nya ɛ sín bɔ...   \n",
       "...                                                  ...   \n",
       "54744                      Keze ɔ mɛ ni nyɔ nu mibi sese   \n",
       "54745                        Keze ɔ mɛ ni nyɔ nu wé sese   \n",
       "54746                        Keze ɔ mɛ ni nyɔ nu wé sese   \n",
       "54747                        Keze ɔ mɛ ni nyɔ nu wé sese   \n",
       "54748                        Keze ɔ mɛ ni nyɔ nu wé sese   \n",
       "\n",
       "                                                  french  \n",
       "0                       couverture pourquoi être honnête  \n",
       "1      hitoshi travaillait dans le comptabilité agenc...  \n",
       "2      alors examinait avec responsable celui ci lui ...  \n",
       "3      hitoshi expliqué que lui permettait pas malhon...  \n",
       "4                       il alors été menacé licenciement  \n",
       "...                                                  ...  \n",
       "54744                           Passez une belle journée  \n",
       "54745                       Que la journée te soit belle  \n",
       "54746                                      Bonne journée  \n",
       "54747                           Passes une bonne journée  \n",
       "54748                           Passes une belle journée  \n",
       "\n",
       "[54749 rows x 2 columns]"
      ],
      "text/html": [
       "<div>\n",
       "<style scoped>\n",
       "    .dataframe tbody tr th:only-of-type {\n",
       "        vertical-align: middle;\n",
       "    }\n",
       "\n",
       "    .dataframe tbody tr th {\n",
       "        vertical-align: top;\n",
       "    }\n",
       "\n",
       "    .dataframe thead th {\n",
       "        text-align: right;\n",
       "    }\n",
       "</style>\n",
       "<table border=\"1\" class=\"dataframe\">\n",
       "  <thead>\n",
       "    <tr style=\"text-align: right;\">\n",
       "      <th></th>\n",
       "      <th>fon</th>\n",
       "      <th>french</th>\n",
       "    </tr>\n",
       "  </thead>\n",
       "  <tbody>\n",
       "    <tr>\n",
       "      <th>0</th>\n",
       "      <td>xota ðò akpà ɔ jí é etɛwu mǐ ðó nɔ ðɔ nugbǒ</td>\n",
       "      <td>couverture pourquoi être honnête</td>\n",
       "    </tr>\n",
       "    <tr>\n",
       "      <th>1</th>\n",
       "      <td>hitoshi nɔ ɖò tɔn ɖò nɔ nú mɛ é ɖé ɖò japon</td>\n",
       "      <td>hitoshi travaillait dans le comptabilité agenc...</td>\n",
       "    </tr>\n",
       "    <tr>\n",
       "      <th>2</th>\n",
       "      <td>hwenu é ɖò akwɛzinzan ɖé xá gǎn tɔn wɛ é ɔ gǎn...</td>\n",
       "      <td>alors examinait avec responsable celui ci lui ...</td>\n",
       "    </tr>\n",
       "    <tr>\n",
       "      <th>3</th>\n",
       "      <td>hitoshi tinmɛ ɖɔ ayixa emitɔn kún yí gbè bonu ...</td>\n",
       "      <td>hitoshi expliqué que lui permettait pas malhon...</td>\n",
       "    </tr>\n",
       "    <tr>\n",
       "      <th>4</th>\n",
       "      <td>é sín enɛ wu bɔ gǎn ɔ adǎn ɖɔ emi nya ɛ sín bɔ...</td>\n",
       "      <td>il alors été menacé licenciement</td>\n",
       "    </tr>\n",
       "    <tr>\n",
       "      <th>...</th>\n",
       "      <td>...</td>\n",
       "      <td>...</td>\n",
       "    </tr>\n",
       "    <tr>\n",
       "      <th>54744</th>\n",
       "      <td>Keze ɔ mɛ ni nyɔ nu mibi sese</td>\n",
       "      <td>Passez une belle journée</td>\n",
       "    </tr>\n",
       "    <tr>\n",
       "      <th>54745</th>\n",
       "      <td>Keze ɔ mɛ ni nyɔ nu wé sese</td>\n",
       "      <td>Que la journée te soit belle</td>\n",
       "    </tr>\n",
       "    <tr>\n",
       "      <th>54746</th>\n",
       "      <td>Keze ɔ mɛ ni nyɔ nu wé sese</td>\n",
       "      <td>Bonne journée</td>\n",
       "    </tr>\n",
       "    <tr>\n",
       "      <th>54747</th>\n",
       "      <td>Keze ɔ mɛ ni nyɔ nu wé sese</td>\n",
       "      <td>Passes une bonne journée</td>\n",
       "    </tr>\n",
       "    <tr>\n",
       "      <th>54748</th>\n",
       "      <td>Keze ɔ mɛ ni nyɔ nu wé sese</td>\n",
       "      <td>Passes une belle journée</td>\n",
       "    </tr>\n",
       "  </tbody>\n",
       "</table>\n",
       "<p>54749 rows × 2 columns</p>\n",
       "</div>"
      ]
     },
     "execution_count": 29,
     "metadata": {},
     "output_type": "execute_result"
    }
   ],
   "execution_count": 29
  },
  {
   "metadata": {
    "ExecuteTime": {
     "end_time": "2025-04-06T18:32:04.593087Z",
     "start_time": "2025-04-06T18:32:04.578457Z"
    }
   },
   "cell_type": "code",
   "source": [
    "# remove rows with empty fon or french\n",
    "df = df.dropna(subset=[\"fon\", \"french\"])\n",
    "df"
   ],
   "id": "86e20b68c84de5ef",
   "outputs": [
    {
     "data": {
      "text/plain": [
       "                                                     fon  \\\n",
       "0            xota ðò akpà ɔ jí é etɛwu mǐ ðó nɔ ðɔ nugbǒ   \n",
       "1            hitoshi nɔ ɖò tɔn ɖò nɔ nú mɛ é ɖé ɖò japon   \n",
       "2      hwenu é ɖò akwɛzinzan ɖé xá gǎn tɔn wɛ é ɔ gǎn...   \n",
       "3      hitoshi tinmɛ ɖɔ ayixa emitɔn kún yí gbè bonu ...   \n",
       "4      é sín enɛ wu bɔ gǎn ɔ adǎn ɖɔ emi nya ɛ sín bɔ...   \n",
       "...                                                  ...   \n",
       "54744                      Keze ɔ mɛ ni nyɔ nu mibi sese   \n",
       "54745                        Keze ɔ mɛ ni nyɔ nu wé sese   \n",
       "54746                        Keze ɔ mɛ ni nyɔ nu wé sese   \n",
       "54747                        Keze ɔ mɛ ni nyɔ nu wé sese   \n",
       "54748                        Keze ɔ mɛ ni nyɔ nu wé sese   \n",
       "\n",
       "                                                  french  \n",
       "0                       couverture pourquoi être honnête  \n",
       "1      hitoshi travaillait dans le comptabilité agenc...  \n",
       "2      alors examinait avec responsable celui ci lui ...  \n",
       "3      hitoshi expliqué que lui permettait pas malhon...  \n",
       "4                       il alors été menacé licenciement  \n",
       "...                                                  ...  \n",
       "54744                           Passez une belle journée  \n",
       "54745                       Que la journée te soit belle  \n",
       "54746                                      Bonne journée  \n",
       "54747                           Passes une bonne journée  \n",
       "54748                           Passes une belle journée  \n",
       "\n",
       "[54749 rows x 2 columns]"
      ],
      "text/html": [
       "<div>\n",
       "<style scoped>\n",
       "    .dataframe tbody tr th:only-of-type {\n",
       "        vertical-align: middle;\n",
       "    }\n",
       "\n",
       "    .dataframe tbody tr th {\n",
       "        vertical-align: top;\n",
       "    }\n",
       "\n",
       "    .dataframe thead th {\n",
       "        text-align: right;\n",
       "    }\n",
       "</style>\n",
       "<table border=\"1\" class=\"dataframe\">\n",
       "  <thead>\n",
       "    <tr style=\"text-align: right;\">\n",
       "      <th></th>\n",
       "      <th>fon</th>\n",
       "      <th>french</th>\n",
       "    </tr>\n",
       "  </thead>\n",
       "  <tbody>\n",
       "    <tr>\n",
       "      <th>0</th>\n",
       "      <td>xota ðò akpà ɔ jí é etɛwu mǐ ðó nɔ ðɔ nugbǒ</td>\n",
       "      <td>couverture pourquoi être honnête</td>\n",
       "    </tr>\n",
       "    <tr>\n",
       "      <th>1</th>\n",
       "      <td>hitoshi nɔ ɖò tɔn ɖò nɔ nú mɛ é ɖé ɖò japon</td>\n",
       "      <td>hitoshi travaillait dans le comptabilité agenc...</td>\n",
       "    </tr>\n",
       "    <tr>\n",
       "      <th>2</th>\n",
       "      <td>hwenu é ɖò akwɛzinzan ɖé xá gǎn tɔn wɛ é ɔ gǎn...</td>\n",
       "      <td>alors examinait avec responsable celui ci lui ...</td>\n",
       "    </tr>\n",
       "    <tr>\n",
       "      <th>3</th>\n",
       "      <td>hitoshi tinmɛ ɖɔ ayixa emitɔn kún yí gbè bonu ...</td>\n",
       "      <td>hitoshi expliqué que lui permettait pas malhon...</td>\n",
       "    </tr>\n",
       "    <tr>\n",
       "      <th>4</th>\n",
       "      <td>é sín enɛ wu bɔ gǎn ɔ adǎn ɖɔ emi nya ɛ sín bɔ...</td>\n",
       "      <td>il alors été menacé licenciement</td>\n",
       "    </tr>\n",
       "    <tr>\n",
       "      <th>...</th>\n",
       "      <td>...</td>\n",
       "      <td>...</td>\n",
       "    </tr>\n",
       "    <tr>\n",
       "      <th>54744</th>\n",
       "      <td>Keze ɔ mɛ ni nyɔ nu mibi sese</td>\n",
       "      <td>Passez une belle journée</td>\n",
       "    </tr>\n",
       "    <tr>\n",
       "      <th>54745</th>\n",
       "      <td>Keze ɔ mɛ ni nyɔ nu wé sese</td>\n",
       "      <td>Que la journée te soit belle</td>\n",
       "    </tr>\n",
       "    <tr>\n",
       "      <th>54746</th>\n",
       "      <td>Keze ɔ mɛ ni nyɔ nu wé sese</td>\n",
       "      <td>Bonne journée</td>\n",
       "    </tr>\n",
       "    <tr>\n",
       "      <th>54747</th>\n",
       "      <td>Keze ɔ mɛ ni nyɔ nu wé sese</td>\n",
       "      <td>Passes une bonne journée</td>\n",
       "    </tr>\n",
       "    <tr>\n",
       "      <th>54748</th>\n",
       "      <td>Keze ɔ mɛ ni nyɔ nu wé sese</td>\n",
       "      <td>Passes une belle journée</td>\n",
       "    </tr>\n",
       "  </tbody>\n",
       "</table>\n",
       "<p>54749 rows × 2 columns</p>\n",
       "</div>"
      ]
     },
     "execution_count": 30,
     "metadata": {},
     "output_type": "execute_result"
    }
   ],
   "execution_count": 30
  },
  {
   "metadata": {
    "ExecuteTime": {
     "end_time": "2025-04-06T18:38:36.254831Z",
     "start_time": "2025-04-06T18:38:36.252054Z"
    }
   },
   "cell_type": "code",
   "source": [
    "# Converts the unicode file to ascii\n",
    "def unicode_to_ascii(s):\n",
    "    return ''.join(c for c in unicodedata.normalize('NFD', s)\n",
    "                   if unicodedata.category(c) != 'Mn')\n",
    "\n",
    "def normalize_diacritics_text(text_string):\n",
    "    \"\"\"Convenience wrapper to abstract away unicode & NFC\"\"\"\n",
    "    return unicodedata.normalize(\"NFC\", text_string)"
   ],
   "id": "acb589a100792930",
   "outputs": [],
   "execution_count": 35
  },
  {
   "metadata": {
    "ExecuteTime": {
     "end_time": "2025-04-06T18:39:03.745974Z",
     "start_time": "2025-04-06T18:39:03.742544Z"
    }
   },
   "cell_type": "code",
   "source": [
    "def preprocess_sentence(w):\n",
    "    w = normalize_diacritics_text(w.lower().strip())\n",
    "    w = re.sub(r\"([?.!,¿])\", r\" \\1 \", w)\n",
    "    w = re.sub(r'[\" \"]+', \" \", w)\n",
    "    re_punc = re.compile('[%s]' % re.escape(string.punctuation))\n",
    "    w = re_punc.sub('', w)\n",
    "\n",
    "    lines_str = w.replace(\"”\", \"\")\n",
    "    lines_str = lines_str.replace(\"“\", \"\")\n",
    "    lines_str = lines_str.replace(\"’\", \"'\")\n",
    "    lines_str = lines_str.replace(\"«\", \"\")\n",
    "    lines_str = lines_str.replace(\"»\", \"\")\n",
    "    lines_str = ' '.join([word for word in lines_str.split() if word.isalpha()])\n",
    "    return lines_str\n"
   ],
   "id": "df346afb5403733a",
   "outputs": [],
   "execution_count": 37
  },
  {
   "metadata": {
    "ExecuteTime": {
     "end_time": "2025-04-06T18:39:04.184796Z",
     "start_time": "2025-04-06T18:39:04.181776Z"
    }
   },
   "cell_type": "code",
   "source": [
    "def preprocess_sentence_1(w):\n",
    "    w = unicode_to_ascii(w.lower().strip())\n",
    "\n",
    "    w = re.sub(r\"([?.!,¿])\", r\" \\1 \", w)\n",
    "    w = re.sub(r'[\" \"]+', \" \", w)\n",
    "    # w = re.sub(r\"[^a-zA-Z?.!,¿]+\", \" \", w)\n",
    "\n",
    "    re_punc = re.compile('[%s]' % re.escape(string.punctuation))\n",
    "    w = re_punc.sub('', w)\n",
    "\n",
    "    lines_str = w.replace(\"”\", \"\")\n",
    "    lines_str = lines_str.replace(\"“\", \"\")\n",
    "    lines_str = lines_str.replace(\"’\", \"'\")\n",
    "    lines_str = lines_str.replace(\"«\", \"\")\n",
    "    lines_str = lines_str.replace(\"»\", \"\")\n",
    "    lines_str = ' '.join([word for word in lines_str.split() if word.isalpha()])\n",
    "    return lines_str"
   ],
   "id": "6f27869a5e858a6c",
   "outputs": [],
   "execution_count": 38
  },
  {
   "metadata": {
    "ExecuteTime": {
     "end_time": "2025-04-06T18:39:17.762605Z",
     "start_time": "2025-04-06T18:39:16.892303Z"
    }
   },
   "cell_type": "code",
   "source": [
    "df[\"fon\"] = df[\"fon\"].apply(preprocess_sentence)\n",
    "df[\"french\"] = df[\"french\"].apply(preprocess_sentence_1)"
   ],
   "id": "a5e04ab22b40c3c9",
   "outputs": [],
   "execution_count": 39
  },
  {
   "metadata": {
    "ExecuteTime": {
     "end_time": "2025-04-06T18:40:03.909223Z",
     "start_time": "2025-04-06T18:40:03.903549Z"
    }
   },
   "cell_type": "code",
   "source": "df.head(100)",
   "id": "d4d29af6fc250cce",
   "outputs": [
    {
     "data": {
      "text/plain": [
       "                                                  fon  \\\n",
       "0         xota ðò akpà ɔ jí é etɛwu mǐ ðó nɔ ðɔ nugbǒ   \n",
       "1         hitoshi nɔ ɖò tɔn ɖò nɔ nú mɛ é ɖé ɖò japon   \n",
       "2   hwenu é ɖò akwɛzinzan ɖé xá gǎn tɔn wɛ é ɔ gǎn...   \n",
       "3   hitoshi tinmɛ ɖɔ ayixa emitɔn kún yí gbè bonu ...   \n",
       "4   é sín enɛ wu bɔ gǎn ɔ adǎn ɖɔ emi nya ɛ sín bɔ...   \n",
       "..                                                ...   \n",
       "95       mawu sín nyikɔ wɛ nɔ nyí jehovah ɖò biblu mɛ   \n",
       "96                         biblu nɔ huzu gbɛzán mɛtɔn   \n",
       "97                                nyikɔ alain broggio   \n",
       "98                                         è jì mì ðò   \n",
       "99                                          tò france   \n",
       "\n",
       "                                               french  \n",
       "0                    couverture pourquoi etre honnete  \n",
       "1   hitoshi travaillait dans le comptabilite agenc...  \n",
       "2   alors examinait avec responsable celui ci lui ...  \n",
       "3   hitoshi explique que lui permettait pas malhon...  \n",
       "4                    il alors ete menace licenciement  \n",
       "..                                                ...  \n",
       "95          jehovah est le nom dieu revele dans bible  \n",
       "96                          bible transforme des vies  \n",
       "97                                      alain broggio  \n",
       "98                                              annee  \n",
       "99                                        pays france  \n",
       "\n",
       "[100 rows x 2 columns]"
      ],
      "text/html": [
       "<div>\n",
       "<style scoped>\n",
       "    .dataframe tbody tr th:only-of-type {\n",
       "        vertical-align: middle;\n",
       "    }\n",
       "\n",
       "    .dataframe tbody tr th {\n",
       "        vertical-align: top;\n",
       "    }\n",
       "\n",
       "    .dataframe thead th {\n",
       "        text-align: right;\n",
       "    }\n",
       "</style>\n",
       "<table border=\"1\" class=\"dataframe\">\n",
       "  <thead>\n",
       "    <tr style=\"text-align: right;\">\n",
       "      <th></th>\n",
       "      <th>fon</th>\n",
       "      <th>french</th>\n",
       "    </tr>\n",
       "  </thead>\n",
       "  <tbody>\n",
       "    <tr>\n",
       "      <th>0</th>\n",
       "      <td>xota ðò akpà ɔ jí é etɛwu mǐ ðó nɔ ðɔ nugbǒ</td>\n",
       "      <td>couverture pourquoi etre honnete</td>\n",
       "    </tr>\n",
       "    <tr>\n",
       "      <th>1</th>\n",
       "      <td>hitoshi nɔ ɖò tɔn ɖò nɔ nú mɛ é ɖé ɖò japon</td>\n",
       "      <td>hitoshi travaillait dans le comptabilite agenc...</td>\n",
       "    </tr>\n",
       "    <tr>\n",
       "      <th>2</th>\n",
       "      <td>hwenu é ɖò akwɛzinzan ɖé xá gǎn tɔn wɛ é ɔ gǎn...</td>\n",
       "      <td>alors examinait avec responsable celui ci lui ...</td>\n",
       "    </tr>\n",
       "    <tr>\n",
       "      <th>3</th>\n",
       "      <td>hitoshi tinmɛ ɖɔ ayixa emitɔn kún yí gbè bonu ...</td>\n",
       "      <td>hitoshi explique que lui permettait pas malhon...</td>\n",
       "    </tr>\n",
       "    <tr>\n",
       "      <th>4</th>\n",
       "      <td>é sín enɛ wu bɔ gǎn ɔ adǎn ɖɔ emi nya ɛ sín bɔ...</td>\n",
       "      <td>il alors ete menace licenciement</td>\n",
       "    </tr>\n",
       "    <tr>\n",
       "      <th>...</th>\n",
       "      <td>...</td>\n",
       "      <td>...</td>\n",
       "    </tr>\n",
       "    <tr>\n",
       "      <th>95</th>\n",
       "      <td>mawu sín nyikɔ wɛ nɔ nyí jehovah ɖò biblu mɛ</td>\n",
       "      <td>jehovah est le nom dieu revele dans bible</td>\n",
       "    </tr>\n",
       "    <tr>\n",
       "      <th>96</th>\n",
       "      <td>biblu nɔ huzu gbɛzán mɛtɔn</td>\n",
       "      <td>bible transforme des vies</td>\n",
       "    </tr>\n",
       "    <tr>\n",
       "      <th>97</th>\n",
       "      <td>nyikɔ alain broggio</td>\n",
       "      <td>alain broggio</td>\n",
       "    </tr>\n",
       "    <tr>\n",
       "      <th>98</th>\n",
       "      <td>è jì mì ðò</td>\n",
       "      <td>annee</td>\n",
       "    </tr>\n",
       "    <tr>\n",
       "      <th>99</th>\n",
       "      <td>tò france</td>\n",
       "      <td>pays france</td>\n",
       "    </tr>\n",
       "  </tbody>\n",
       "</table>\n",
       "<p>100 rows × 2 columns</p>\n",
       "</div>"
      ]
     },
     "execution_count": 42,
     "metadata": {},
     "output_type": "execute_result"
    }
   ],
   "execution_count": 42
  },
  {
   "metadata": {
    "ExecuteTime": {
     "end_time": "2025-04-06T18:40:43.274649Z",
     "start_time": "2025-04-06T18:40:43.258927Z"
    }
   },
   "cell_type": "code",
   "source": [
    "# Split the data into train, test, and validation sets\n",
    "train, test = train_test_split(df, test_size=0.2, random_state=42)\n",
    "train, val = train_test_split(train, test_size=0.2, random_state=42)"
   ],
   "id": "d71cf6096d9f90a5",
   "outputs": [],
   "execution_count": 43
  },
  {
   "metadata": {
    "ExecuteTime": {
     "end_time": "2025-04-06T18:40:43.687963Z",
     "start_time": "2025-04-06T18:40:43.679916Z"
    }
   },
   "cell_type": "code",
   "source": [
    "#  Delete the index column\n",
    "train = train.reset_index(drop=True)\n",
    "test = test.reset_index(drop=True)\n",
    "val = val.reset_index(drop=True)"
   ],
   "id": "7a6959cd70903574",
   "outputs": [],
   "execution_count": 44
  },
  {
   "metadata": {
    "ExecuteTime": {
     "end_time": "2025-04-06T18:40:59.289539Z",
     "start_time": "2025-04-06T18:40:44.116409Z"
    }
   },
   "cell_type": "code",
   "source": [
    "# Publish the datasets(train, test, val) to the huggingface hub\n",
    "train_dataset = Dataset.from_pandas(train)\n",
    "test_dataset = Dataset.from_pandas(test)\n",
    "val_dataset = Dataset.from_pandas(val)\n",
    "dataset_dict = DatasetDict({\"train\": train_dataset, \"test\": test_dataset, \"validation\": val_dataset})\n",
    "dataset_dict.push_to_hub(\"jonathansuru/fr_fon\")"
   ],
   "id": "ade0c93dc2fd6a22",
   "outputs": [
    {
     "data": {
      "text/plain": [
       "Uploading the dataset shards:   0%|          | 0/1 [00:00<?, ?it/s]"
      ],
      "application/vnd.jupyter.widget-view+json": {
       "version_major": 2,
       "version_minor": 0,
       "model_id": "dbc7267e063841ee9e70f6f373ddfb1e"
      }
     },
     "metadata": {},
     "output_type": "display_data"
    },
    {
     "data": {
      "text/plain": [
       "Creating parquet from Arrow format:   0%|          | 0/36 [00:00<?, ?ba/s]"
      ],
      "application/vnd.jupyter.widget-view+json": {
       "version_major": 2,
       "version_minor": 0,
       "model_id": "d05d36d93cc34da49fafa96d36255454"
      }
     },
     "metadata": {},
     "output_type": "display_data"
    },
    {
     "data": {
      "text/plain": [
       "Uploading the dataset shards:   0%|          | 0/1 [00:00<?, ?it/s]"
      ],
      "application/vnd.jupyter.widget-view+json": {
       "version_major": 2,
       "version_minor": 0,
       "model_id": "3333c388bbda45a580108c8677794353"
      }
     },
     "metadata": {},
     "output_type": "display_data"
    },
    {
     "data": {
      "text/plain": [
       "Creating parquet from Arrow format:   0%|          | 0/11 [00:00<?, ?ba/s]"
      ],
      "application/vnd.jupyter.widget-view+json": {
       "version_major": 2,
       "version_minor": 0,
       "model_id": "fa52ba8b01264ed593e391cf24ca6267"
      }
     },
     "metadata": {},
     "output_type": "display_data"
    },
    {
     "data": {
      "text/plain": [
       "Uploading the dataset shards:   0%|          | 0/1 [00:00<?, ?it/s]"
      ],
      "application/vnd.jupyter.widget-view+json": {
       "version_major": 2,
       "version_minor": 0,
       "model_id": "c796a38537bc41a1b88cc71272d902cb"
      }
     },
     "metadata": {},
     "output_type": "display_data"
    },
    {
     "data": {
      "text/plain": [
       "Creating parquet from Arrow format:   0%|          | 0/9 [00:00<?, ?ba/s]"
      ],
      "application/vnd.jupyter.widget-view+json": {
       "version_major": 2,
       "version_minor": 0,
       "model_id": "a69e76e1247344c8aa80a1837c3fd631"
      }
     },
     "metadata": {},
     "output_type": "display_data"
    },
    {
     "data": {
      "text/plain": [
       "README.md:   0%|          | 0.00/854 [00:00<?, ?B/s]"
      ],
      "application/vnd.jupyter.widget-view+json": {
       "version_major": 2,
       "version_minor": 0,
       "model_id": "cfc75c2613c44d1b8e46de50664a8bea"
      }
     },
     "metadata": {},
     "output_type": "display_data"
    },
    {
     "data": {
      "text/plain": [
       "CommitInfo(commit_url='https://huggingface.co/datasets/jonathansuru/fr_fon/commit/04d6346fb9bc122e0de2b0ff8973f050d6166ab0', commit_message='Upload dataset', commit_description='', oid='04d6346fb9bc122e0de2b0ff8973f050d6166ab0', pr_url=None, repo_url=RepoUrl('https://huggingface.co/datasets/jonathansuru/fr_fon', endpoint='https://huggingface.co', repo_type='dataset', repo_id='jonathansuru/fr_fon'), pr_revision=None, pr_num=None)"
      ]
     },
     "execution_count": 45,
     "metadata": {},
     "output_type": "execute_result"
    }
   ],
   "execution_count": 45
  },
  {
   "metadata": {},
   "cell_type": "code",
   "outputs": [],
   "execution_count": null,
   "source": "",
   "id": "c8f284577b0048d8"
  }
 ],
 "metadata": {
  "kernelspec": {
   "display_name": "Python 3",
   "language": "python",
   "name": "python3"
  },
  "language_info": {
   "codemirror_mode": {
    "name": "ipython",
    "version": 2
   },
   "file_extension": ".py",
   "mimetype": "text/x-python",
   "name": "python",
   "nbconvert_exporter": "python",
   "pygments_lexer": "ipython2",
   "version": "2.7.6"
  }
 },
 "nbformat": 4,
 "nbformat_minor": 5
}
