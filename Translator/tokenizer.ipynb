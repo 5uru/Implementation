{
 "cells": [
  {
   "cell_type": "code",
   "id": "initial_id",
   "metadata": {
    "collapsed": true,
    "ExecuteTime": {
     "end_time": "2025-04-10T16:27:54.112478Z",
     "start_time": "2025-04-10T16:27:54.082232Z"
    }
   },
   "source": [
    "import jax.numpy as jnp\n",
    "from semhash import SemHash\n",
    "from datasets import load_dataset"
   ],
   "outputs": [],
   "execution_count": 44
  },
  {
   "metadata": {
    "ExecuteTime": {
     "end_time": "2025-04-10T16:06:05.979501Z",
     "start_time": "2025-04-10T16:05:59.854381Z"
    }
   },
   "cell_type": "code",
   "source": "ds = load_dataset(\"jonathansuru/fr_fon\")",
   "id": "a621ddbd75254776",
   "outputs": [],
   "execution_count": 13
  },
  {
   "metadata": {
    "ExecuteTime": {
     "end_time": "2025-04-10T16:06:05.986706Z",
     "start_time": "2025-04-10T16:06:05.983878Z"
    }
   },
   "cell_type": "code",
   "source": [
    "def data_to_pairs(data):\n",
    "    text_pairs = []\n",
    "    for line in data:\n",
    "        fon = line[\"fon\"]\n",
    "        french = line[\"french\"]\n",
    "        french = \"[start] \" + french + \" [end]\"\n",
    "        text_pairs.append((fon, french))\n",
    "    return text_pairs"
   ],
   "id": "d57d10ca01f6f987",
   "outputs": [],
   "execution_count": 14
  },
  {
   "metadata": {
    "ExecuteTime": {
     "end_time": "2025-04-10T16:06:12.865941Z",
     "start_time": "2025-04-10T16:06:12.240756Z"
    }
   },
   "cell_type": "code",
   "source": [
    "# Create train/validation/test pairs\n",
    "train_pairs = data_to_pairs(ds[\"train\"])\n",
    "val_pairs = data_to_pairs(ds[\"validation\"])\n",
    "test_pairs = data_to_pairs(ds[\"test\"])"
   ],
   "id": "ee4b8f42b58634b9",
   "outputs": [],
   "execution_count": 15
  },
  {
   "metadata": {
    "ExecuteTime": {
     "end_time": "2025-04-10T16:28:05.069015Z",
     "start_time": "2025-04-10T16:27:56.652731Z"
    }
   },
   "cell_type": "code",
   "source": [
    "# Convert the dataset to a list of dictionaries\n",
    "records = [dict(row) for row in ds[\"train\"]]\n",
    "\n",
    "# Initialize SemHash with the columns to deduplicate\n",
    "semhash = SemHash.from_records(records=records, columns=[\"fon\", \"french\"])"
   ],
   "id": "2b8b311141a5be00",
   "outputs": [],
   "execution_count": 45
  },
  {
   "metadata": {
    "ExecuteTime": {
     "end_time": "2025-04-10T16:30:28.505726Z",
     "start_time": "2025-04-10T16:30:26.730693Z"
    }
   },
   "cell_type": "code",
   "source": [
    "# Deduplicate the test data against the training data\n",
    "deduplicated_test_texts = semhash.deduplicate(records=ds[\"test\"]).deduplicated"
   ],
   "id": "5c0b03356139e099",
   "outputs": [],
   "execution_count": 50
  },
  {
   "metadata": {
    "ExecuteTime": {
     "end_time": "2025-04-10T16:30:40.422763Z",
     "start_time": "2025-04-10T16:30:40.419475Z"
    }
   },
   "cell_type": "code",
   "source": "len(deduplicated_test_texts)",
   "id": "293881a888f11f0d",
   "outputs": [
    {
     "data": {
      "text/plain": [
       "9624"
      ]
     },
     "execution_count": 52,
     "metadata": {},
     "output_type": "execute_result"
    }
   ],
   "execution_count": 52
  },
  {
   "metadata": {
    "ExecuteTime": {
     "end_time": "2025-04-10T16:30:56.181669Z",
     "start_time": "2025-04-10T16:30:56.178381Z"
    }
   },
   "cell_type": "code",
   "source": "len(ds[\"test\"])",
   "id": "287e3d10af3fda89",
   "outputs": [
    {
     "data": {
      "text/plain": [
       "10950"
      ]
     },
     "execution_count": 53,
     "metadata": {},
     "output_type": "execute_result"
    }
   ],
   "execution_count": 53
  },
  {
   "metadata": {},
   "cell_type": "code",
   "outputs": [],
   "execution_count": null,
   "source": "",
   "id": "bdc45fa23d4af70a"
  }
 ],
 "metadata": {
  "kernelspec": {
   "display_name": "Python 3",
   "language": "python",
   "name": "python3"
  },
  "language_info": {
   "codemirror_mode": {
    "name": "ipython",
    "version": 2
   },
   "file_extension": ".py",
   "mimetype": "text/x-python",
   "name": "python",
   "nbconvert_exporter": "python",
   "pygments_lexer": "ipython2",
   "version": "2.7.6"
  }
 },
 "nbformat": 4,
 "nbformat_minor": 5
}
