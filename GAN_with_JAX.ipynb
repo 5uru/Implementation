{
 "cells": [
  {
   "cell_type": "code",
   "id": "initial_id",
   "metadata": {
    "collapsed": true,
    "ExecuteTime": {
     "end_time": "2025-03-01T20:02:24.466154Z",
     "start_time": "2025-03-01T20:02:18.676036Z"
    }
   },
   "source": [
    "import jax.tools.colab_tpu\n",
    "try:\n",
    "    jax.tools.colab_tpu.setup_tpu()\n",
    "except:\n",
    "    pass"
   ],
   "outputs": [],
   "execution_count": 1
  },
  {
   "metadata": {
    "ExecuteTime": {
     "end_time": "2025-03-01T21:57:39.729614Z",
     "start_time": "2025-03-01T21:57:39.725725Z"
    }
   },
   "cell_type": "code",
   "source": [
    "import jax\n",
    "import jax.numpy as jnp\n",
    "from jax.nn.initializers import normal as normal_init\n",
    "from flax.training import train_state\n",
    "from flax import linen as nn\n",
    "import optax"
   ],
   "id": "80ee28f583eab935",
   "outputs": [],
   "execution_count": 45
  },
  {
   "metadata": {
    "ExecuteTime": {
     "end_time": "2025-03-01T20:17:48.158074Z",
     "start_time": "2025-03-01T20:17:48.155639Z"
    }
   },
   "cell_type": "code",
   "source": [
    "import tensorflow_datasets as tfds\n",
    "import matplotlib.pyplot as plt"
   ],
   "id": "ec7ab6728851b3c1",
   "outputs": [],
   "execution_count": 29
  },
  {
   "metadata": {},
   "cell_type": "markdown",
   "source": "Load the Fashion MNIST dataset",
   "id": "e00b3a5759190eba"
  },
  {
   "metadata": {
    "ExecuteTime": {
     "end_time": "2025-03-01T20:17:54.120832Z",
     "start_time": "2025-03-01T20:17:53.341787Z"
    }
   },
   "cell_type": "code",
   "source": [
    "# Load the Fashion MNIST dataset\n",
    "def load_fashion_mnist():\n",
    "    ds_builder = tfds.builder('fashion_mnist')\n",
    "    ds_builder.download_and_prepare()\n",
    "    train_ds = tfds.as_numpy(ds_builder.as_dataset(split='train', batch_size=-1))\n",
    "    test_ds = tfds.as_numpy(ds_builder.as_dataset(split='test', batch_size=-1))\n",
    "\n",
    "    train_images, train_labels = train_ds['image'], train_ds['label']\n",
    "    test_images, test_labels = test_ds['image'], test_ds['label']\n",
    "\n",
    "\n",
    "    return (train_images, train_labels), (test_images, test_labels)\n",
    "\n",
    "(train_images, train_labels), (test_images, test_labels) = load_fashion_mnist()\n",
    "print(f\"Train images shape: {train_images.shape}, Train labels shape: {train_labels.shape}\")\n",
    "print(f\"Test images shape: {test_images.shape}, Test labels shape: {test_labels.shape}\")"
   ],
   "id": "81914495db53fe15",
   "outputs": [
    {
     "name": "stdout",
     "output_type": "stream",
     "text": [
      "Train images shape: (60000, 28, 28, 1), Train labels shape: (60000,)\n",
      "Test images shape: (10000, 28, 28, 1), Test labels shape: (10000,)\n"
     ]
    }
   ],
   "execution_count": 30
  },
  {
   "metadata": {
    "ExecuteTime": {
     "end_time": "2025-03-01T20:17:58.912454Z",
     "start_time": "2025-03-01T20:17:58.840951Z"
    }
   },
   "cell_type": "code",
   "source": [
    "# Select only the images with labels 5, 7, and 9\n",
    "selected_labels = jnp.array([5, 7, 9])\n",
    "selected_images = train_images[jnp.isin(train_labels, selected_labels)]\n",
    "\n",
    "# Display the first 10 images with labels 5, 7, and 9\n",
    "fig, axes = plt.subplots(1, 10, figsize=(20, 2))\n",
    "for i, ax in enumerate(axes):\n",
    "    ax.imshow(selected_images[i], cmap='gray')\n",
    "    ax.axis('off')\n",
    "plt.show()"
   ],
   "id": "5cef2f20ab76a07",
   "outputs": [
    {
     "data": {
      "text/plain": [
       "<Figure size 2000x200 with 10 Axes>"
      ],
      "image/png": "[encoded data removed]"
     },
     "metadata": {},
     "output_type": "display_data"
    }
   ],
   "execution_count": 31
  },
  {
   "metadata": {},
   "cell_type": "markdown",
   "source": "Hyperparameters",
   "id": "c4c6d7c1452702d1"
  },
  {
   "metadata": {
    "ExecuteTime": {
     "end_time": "2025-03-01T21:53:56.218198Z",
     "start_time": "2025-03-01T21:53:56.192312Z"
    }
   },
   "cell_type": "code",
   "source": [
    "BATCH_SIZE = 256\n",
    "SEED = 42\n",
    "EPOCHS = 100\n",
    "Z_DIM = 64\n",
    "\n",
    "key = jax.random.PRNGKey(SEED)\n"
   ],
   "id": "aaa370e050e81383",
   "outputs": [],
   "execution_count": 40
  },
  {
   "metadata": {},
   "cell_type": "markdown",
   "source": "Architecture of the Generator",
   "id": "e8f374443f907b4a"
  },
  {
   "metadata": {
    "ExecuteTime": {
     "end_time": "2025-03-01T21:53:12.718594Z",
     "start_time": "2025-03-01T21:53:12.692915Z"
    }
   },
   "cell_type": "code",
   "source": [
    "class Generator(nn.Module):\n",
    "    features: int = 64\n",
    "\n",
    "    @nn.compact\n",
    "    def __call__(self, x, train: bool = True):\n",
    "        x = x.reshape((BATCH_SIZE, 1, 1, Z_DIM))\n",
    "        x = nn.ConvTranspose(self.features*4, kernel_size=(3, 3), strides=(2, 2), padding='VALID',\n",
    "                             kernel_init=normal_init(0.02), dtype=jnp.float32)(x)\n",
    "        x = nn.BatchNorm(use_running_average=not train, dtype=jnp.float32, axis=-1,scale_init=normal_init(0.02))(x)\n",
    "        x = nn.relu(x)\n",
    "        x = nn.ConvTranspose(self.features*4, kernel_size=(4, 4), strides=(1, 1), padding='VALID',\n",
    "                             kernel_init=normal_init(0.02), dtype=jnp.float32)(x)\n",
    "        x = nn.BatchNorm(use_running_average=not train, dtype=jnp.float32, axis=-1,scale_init=normal_init(0.02))(x)\n",
    "        x = nn.relu(x)\n",
    "        x = nn.ConvTranspose(self.features*2, kernel_size=(3, 3), strides=(2, 2), padding='VALID',\n",
    "                             kernel_init=normal_init(0.02), dtype=jnp.float32)(x)\n",
    "        x = nn.BatchNorm(use_running_average=not train, dtype=jnp.float32, axis=-1,scale_init=normal_init(0.02))(x)\n",
    "        x = nn.relu(x)\n",
    "        x = nn.ConvTranspose(1, kernel_size=(4, 4), strides=(2, 2), padding='VALID',\n",
    "                             kernel_init=normal_init(0.02), dtype=jnp.float32)(x)\n",
    "        x = jnp.tanh(x)\n",
    "        return x"
   ],
   "id": "40529a6c88ac7cc",
   "outputs": [],
   "execution_count": 39
  },
  {
   "metadata": {
    "ExecuteTime": {
     "end_time": "2025-03-01T21:54:13.449907Z",
     "start_time": "2025-03-01T21:54:11.200175Z"
    }
   },
   "cell_type": "code",
   "source": [
    "generator = Generator()\n",
    "params_generator = generator.init(key, jnp.ones((BATCH_SIZE, Z_DIM), jnp.float32), train=False)"
   ],
   "id": "c46461f414506279",
   "outputs": [],
   "execution_count": 41
  },
  {
   "metadata": {},
   "cell_type": "markdown",
   "source": "Architecture of the Discriminator",
   "id": "40b40969c1e3d5ad"
  },
  {
   "metadata": {
    "ExecuteTime": {
     "end_time": "2025-03-01T21:56:57.606127Z",
     "start_time": "2025-03-01T21:56:57.589307Z"
    }
   },
   "cell_type": "code",
   "source": [
    "class Discriminator(nn.Module):\n",
    "    features: int = 64\n",
    "\n",
    "    @nn.compact\n",
    "    def __call__(self, x, train: bool = True):\n",
    "        x = nn.Conv(self.features, kernel_size=(4, 4), strides=(2, 2), padding='VALID',\n",
    "                    kernel_init=normal_init(0.02), dtype=jnp.float32)(x)\n",
    "        x = nn.BatchNorm(use_running_average=not train, dtype=jnp.float32, axis=-1,scale_init=normal_init(0.02))(x)\n",
    "        x = nn.leaky_relu(x, negative_slope=0.2)\n",
    "        x = nn.Conv(self.features*2, kernel_size=(4, 4), strides=(2, 2), padding='VALID',\n",
    "                    kernel_init=normal_init(0.02), dtype=jnp.float32)(x)\n",
    "        x = nn.BatchNorm(use_running_average=not train, dtype=jnp.float32, axis=-1,scale_init=normal_init(0.02))(x)\n",
    "        x = nn.leaky_relu(x, negative_slope=0.2)\n",
    "        x = nn.Conv(1, kernel_size=(4, 4), strides=(2, 2), padding='VALID',\n",
    "                    kernel_init=normal_init(0.02), dtype=jnp.float32)(x)\n",
    "        x = x.reshape((BATCH_SIZE, -1))\n",
    "        return x"
   ],
   "id": "91a5c2c77297674e",
   "outputs": [],
   "execution_count": 43
  },
  {
   "metadata": {
    "ExecuteTime": {
     "end_time": "2025-03-01T21:57:10.941133Z",
     "start_time": "2025-03-01T21:57:09.902739Z"
    }
   },
   "cell_type": "code",
   "source": [
    "discriminator = Discriminator()\n",
    "params_discriminator = discriminator.init(key, jnp.ones((BATCH_SIZE, 28, 28, 1), jnp.float32), train=False)"
   ],
   "id": "15840b9539801b7d",
   "outputs": [],
   "execution_count": 44
  },
  {
   "metadata": {
    "ExecuteTime": {
     "end_time": "2025-03-01T22:05:06.358198Z",
     "start_time": "2025-03-01T22:05:06.346777Z"
    }
   },
   "cell_type": "code",
   "source": [
    "def generator_step(generator_state,\n",
    "                   discriminator_state,\n",
    "                   key):\n",
    "    input_noise = jax.random.normal(key, (BATCH_SIZE, Z_DIM))\n",
    "\n",
    "    def loss_fn(params):\n",
    "        generated_data, mutables = generator_state.apply_fn(\n",
    "                {'params': params, 'batch_stats': generator_state.batch_stats},\n",
    "                input_noise, mutable=['batch_stats'])\n",
    "        logits_fake = discriminator_state.apply_fn({'params': discriminator_state.params,\n",
    "                                                    'batch_stats': discriminator_state.batch_stats},\n",
    "                                                   generated_data, mutable=['batch_stats'])\n",
    "        loss = -jnp.mean(jnp.log(nn.sigmoid(logits)))\n",
    "        return loss, mutables\n",
    "\n",
    "    grad_fn = jax.value_and_grad(loss_fn, has_aux=True)\n",
    "    (loss, mutables), grad = grad_fn(generator_state.params)\n",
    "    # Average across the devices.\n",
    "    grads = jax.lax.pmean(grads, axis_name='num_devices')\n",
    "    loss = jax.lax.pmean(loss, axis_name='num_devices')\n",
    "\n",
    "    # Update the Generator through gradient descent.\n",
    "    new_generator_state = generator_state.apply_gradients(\n",
    "            grads=grads, batch_stats=mutables['batch_stats'])\n",
    "\n",
    "    return new_generator_state, loss"
   ],
   "id": "a4a9f642bbf2533",
   "outputs": [],
   "execution_count": 46
  },
  {
   "metadata": {},
   "cell_type": "code",
   "outputs": [],
   "execution_count": null,
   "source": "",
   "id": "48d28b8f2ba4d7a6"
  }
 ],
 "metadata": {
  "kernelspec": {
   "display_name": "Python 3",
   "language": "python",
   "name": "python3"
  },
  "language_info": {
   "codemirror_mode": {
    "name": "ipython",
    "version": 2
   },
   "file_extension": ".py",
   "mimetype": "text/x-python",
   "name": "python",
   "nbconvert_exporter": "python",
   "pygments_lexer": "ipython2",
   "version": "2.7.6"
  }
 },
 "nbformat": 4,
 "nbformat_minor": 5
}
