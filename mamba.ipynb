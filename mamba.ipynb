{
 "cells": [
  {
   "cell_type": "code",
   "execution_count": null,
   "id": "initial_id",
   "metadata": {
    "collapsed": true
   },
   "outputs": [],
   "source": [
    "# https://github.com/johnma2006/candle/tree/main/candle/models/mamba\n",
    "# https://github.com/PeaBrane/mamba-tiny\n",
    "# https://github.com/vedant-jumle/Mamba-tf/tree/main\n",
    "# https://medium.com/data-science/mamba-ssm-theory-and-implementation-in-keras-and-tensorflow-32d6d4b32546\n",
    "# https://scholarqa.allen.ai/chat/43312fa8-7f2c-4267-b237-3a07d2fe78e0?code=0qrg58wHRsAVXM0YSd91UVml8YDdw0b29uXPv5fGzGhaw&state=dmxJLnVpUkdXdG1sWHlQVXZkQ1FBX2YxNGt4aXBYZ3lOWXBCTklZQWEtVg%3D%3D&profile=corpus-qa-only\n",
    "# https://www.maartengrootendorst.com/blog/mamba/\n",
    "# https://github.com/state-spaces/mamba/blob/main/mamba_ssm/modules/mamba2_simple.py"
   ]
  }
 ],
 "metadata": {
  "kernelspec": {
   "display_name": "Python 3",
   "language": "python",
   "name": "python3"
  },
  "language_info": {
   "codemirror_mode": {
    "name": "ipython",
    "version": 2
   },
   "file_extension": ".py",
   "mimetype": "text/x-python",
   "name": "python",
   "nbconvert_exporter": "python",
   "pygments_lexer": "ipython2",
   "version": "2.7.6"
  }
 },
 "nbformat": 4,
 "nbformat_minor": 5
}
