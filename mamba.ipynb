{
 "cells": [
  {
   "cell_type": "code",
   "execution_count": null,
   "id": "initial_id",
   "metadata": {
    "collapsed": true
   },
   "outputs": [],
   "source": [
    "# https://github.com/johnma2006/candle/tree/main/candle/models/mamba\n",
    "# https://github.com/PeaBrane/mamba-tiny\n",
    "# https://github.com/vedant-jumle/Mamba-tf/tree/main\n",
    "# https://medium.com/data-science/mamba-ssm-theory-and-implementation-in-keras-and-tensorflow-32d6d4b32546\n",
    "# https://scholarqa.allen.ai/chat/43312fa8-7f2c-4267-b237-3a07d2fe78e0?code=0qrg58wHRsAVXM0YSd91UVml8YDdw0b29uXPv5fGzGhaw&state=dmxJLnVpUkdXdG1sWHlQVXZkQ1FBX2YxNGt4aXBYZ3lOWXBCTklZQWEtVg%3D%3D&profile=corpus-qa-only\n",
    "# https://www.maartengrootendorst.com/blog/mamba/\n",
    "# https://github.com/state-spaces/mamba/blob/main/mamba_ssm/modules/mamba2_simple.py\n",
    "# https://towardsdatascience.com/mamba-ssm-theory-and-implementation-in-keras-and-tensorflow-32d6d4b32546/\n",
    "# https://srush.github.io/annotated-s4/"
   ]
  },
  {
   "metadata": {
    "ExecuteTime": {
     "end_time": "2025-04-07T19:19:24.627188Z",
     "start_time": "2025-04-07T19:19:24.624478Z"
    }
   },
   "cell_type": "code",
   "source": [
    "import jax.numpy as jnp\n",
    "import optax\n",
    "import math\n",
    "from flax import nnx\n",
    "import numpy as np\n",
    "from einops import einsum, rearrange\n",
    "import jax\n"
   ],
   "id": "aa11c4206f504bd",
   "outputs": [],
   "execution_count": 25
  },
  {
   "metadata": {
    "ExecuteTime": {
     "end_time": "2025-04-07T19:17:14.594380Z",
     "start_time": "2025-04-07T19:17:14.590986Z"
    }
   },
   "cell_type": "code",
   "source": [
    "def selective_scan(\n",
    "        u: jnp.ndarray,\n",
    "        delta: jnp.ndarray,\n",
    "        A: jnp.ndarray,\n",
    "        B: jnp.ndarray,\n",
    "        C: jnp.ndarray,\n",
    "        D: jnp.ndarray,\n",
    ") -> jnp.ndarray:\n",
    "\n",
    "    (b, l, d_in) = u.shape\n",
    "    n = A.shape[1]\n",
    "    # Discretize continuous parameters (A, B)\n",
    "    deltaA = jnp.exp(einsum(delta, A, \"b l d_in, d_in n -> b l d_in n\"))\n",
    "    deltaB_u = einsum(\n",
    "            delta, B, u, \"b l d_in, b l n, b l d_in -> b l d_in n\"\n",
    "    )\n",
    "\n",
    "    # Perform selective scan (see scan_SSM() in The Annotated S4 [2])\n",
    "    # Note that the below is sequential, while the official implementation does a much faster parallel scan that is additionally hardware-aware (like FlashAttention). # noqa: E501\n",
    "    x = jnp.zeros((b, d_in, n))\n",
    "    ys = []\n",
    "    for i in range(l):\n",
    "        x = deltaA[:, i] * x + deltaB_u[:, i]\n",
    "        y = einsum(x, C[:, i, :], \"b d_in n, b n -> b d_in\")\n",
    "        ys.append(y)\n",
    "\n",
    "    y = jnp.stack(ys, axis=1)  # shape (b, l, d_in)\n",
    "\n",
    "    y = y + u * D\n",
    "\n",
    "    return y\n",
    "\n",
    "\n",
    "\n"
   ],
   "id": "4cce4735ff231950",
   "outputs": [],
   "execution_count": 22
  },
  {
   "metadata": {
    "ExecuteTime": {
     "end_time": "2025-04-07T19:18:19.046957Z",
     "start_time": "2025-04-07T19:18:19.043741Z"
    }
   },
   "cell_type": "code",
   "source": [
    "def softplus(x: jnp.ndarray) -> jnp.ndarray:\n",
    "    \"\"\"\n",
    "    Applies the Softplus activation function to the input tensor.\n",
    "\n",
    "    Args:\n",
    "        x (np.ndarray): Input tensor.\n",
    "\n",
    "    Returns:\n",
    "        np.ndarray: Output tensor after applying Softplus.\n",
    "    \"\"\"\n",
    "    return jnp.log(1 + jnp.exp(x))"
   ],
   "id": "eef4c6c6b8108f60",
   "outputs": [],
   "execution_count": 23
  },
  {
   "metadata": {
    "ExecuteTime": {
     "end_time": "2025-04-07T19:18:44.901977Z",
     "start_time": "2025-04-07T19:18:44.898202Z"
    }
   },
   "cell_type": "code",
   "source": [
    "def ssm(self, x: np.ndarray) -> np.ndarray:\n",
    "    \"\"\"\n",
    "    Runs the SSM. See:\n",
    "        - Algorithm 2 in Section 3.2 in the Mamba paper [1] [1].\n",
    "        - run_SSM(A, B, C, u) in The Annotated S4 [2]\n",
    "\n",
    "    Args:\n",
    "        x (np.ndarray): shape (b, l, d_in).\n",
    "\n",
    "    Returns:\n",
    "        np.ndarray: shape (b, l, d_in).\n",
    "\n",
    "    Official Implementation:\n",
    "        mamba_inner_ref(), see https://github.com/state-spaces/mamba/blob/main/mamba_ssm/ops/selective_scan_interface.py#L311\n",
    "\n",
    "    References:\n",
    "        [1] Mamba paper: https://arxiv.org/abs/2106.16067\n",
    "        [2] The Annotated S4: https://github.com/state-spaces/mamba/blob/main/mamba_ssm/modules/mamba_simple.py#L119\n",
    "    \"\"\" # noqa: E501\n",
    "    (d_in, n) = self.A_log.shape\n",
    "\n",
    "    # Compute ∆, A, B, C, D (state space parameters)\n",
    "    # A and D are input-independent (see Mamba paper [1], Section 3.5.2 for A's interpretation) # noqa: E501\n",
    "    # ∆, B, C are input-dependent (a key difference between Mamba and linear time-invariant S4) # noqa: E501\n",
    "\n",
    "    A = -jnp.exp(self.A_log.astype(float))  # shape (d_in, n)\n",
    "    D = self.D.astype(float)\n",
    "\n",
    "    x_dbl = self.x_proj(x)  # (b, l, dt_rank + 2*n)\n",
    "    (delta, B, C) = jnp.split(\n",
    "            x_dbl,\n",
    "            indices_or_sections=(\n",
    "                    self.args.dt_rank,\n",
    "                    self.args.dt_rank + n,\n",
    "                    self.args.dt_rank + 2 * n,\n",
    "            ),\n",
    "            axis=-1,\n",
    "    )[\n",
    "                    :-1\n",
    "                    ]  # delta: (b, l, dt_rank). B, C: (b, l, n)\n",
    "    delta = softplus(self.dt_proj(delta))  # (b, l, d_in)\n",
    "\n",
    "    y = self.selective_scan(\n",
    "            x, delta, A, B, C, D\n",
    "    )  # Similar to run_SSM(A, B, C, u) in The Annotated S4 [2]\n",
    "\n",
    "    return y"
   ],
   "id": "2c9d93419b3f9032",
   "outputs": [],
   "execution_count": 24
  },
  {
   "metadata": {
    "ExecuteTime": {
     "end_time": "2025-04-07T19:21:55.562483Z",
     "start_time": "2025-04-07T19:21:55.560629Z"
    }
   },
   "cell_type": "code",
   "source": "",
   "id": "ff92f1e117a59fac",
   "outputs": [],
   "execution_count": null
  },
  {
   "metadata": {
    "ExecuteTime": {
     "end_time": "2025-04-07T19:21:55.721Z",
     "start_time": "2025-04-07T19:21:55.719537Z"
    }
   },
   "cell_type": "code",
   "source": "",
   "id": "e2d1ade2ee39738c",
   "outputs": [],
   "execution_count": null
  },
  {
   "metadata": {},
   "cell_type": "code",
   "outputs": [],
   "execution_count": null,
   "source": [
    "class MambaBlock(nnx.Module):\n",
    "    def __init__(\n",
    "            self,\n",
    "            in_proj,\n",
    "            conv1d,\n",
    "            x_proj,\n",
    "            dt_proj,\n",
    "            A_log: jnp.ndarray,\n",
    "            D: jnp.ndarray,\n",
    "            out_proj,\n",
    "\n",
    "    ):\n",
    "\n"
   ],
   "id": "97c35bc6c4885c75"
  }
 ],
 "metadata": {
  "kernelspec": {
   "display_name": "Python 3",
   "language": "python",
   "name": "python3"
  },
  "language_info": {
   "codemirror_mode": {
    "name": "ipython",
    "version": 2
   },
   "file_extension": ".py",
   "mimetype": "text/x-python",
   "name": "python",
   "nbconvert_exporter": "python",
   "pygments_lexer": "ipython2",
   "version": "2.7.6"
  }
 },
 "nbformat": 4,
 "nbformat_minor": 5
}
