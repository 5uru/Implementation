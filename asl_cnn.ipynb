{
 "cells": [
  {
   "cell_type": "code",
   "id": "initial_id",
   "metadata": {
    "collapsed": true,
    "ExecuteTime": {
     "end_time": "2025-02-11T18:10:01.040383Z",
     "start_time": "2025-02-11T18:10:01.018212Z"
    }
   },
   "source": [
    "import jax\n",
    "import numpy as np\n",
    "import matplotlib.pyplot as plt\n",
    "import pandas as pd\n",
    "import os,sys\n",
    "import optax\n",
    "from flax.training.train_state import TrainState\n",
    "from flax import linen as nn\n",
    "from jax import numpy as jnp"
   ],
   "outputs": [],
   "execution_count": 42
  },
  {
   "metadata": {
    "ExecuteTime": {
     "end_time": "2025-02-11T18:10:02.345830Z",
     "start_time": "2025-02-11T18:10:01.250435Z"
    }
   },
   "cell_type": "code",
   "source": [
    "# Reading in the Data\n",
    "train_df = pd.read_csv(\"data/sign_mnist_train.csv\")\n",
    "valid_df = pd.read_csv(\"data/sign_mnist_test.csv\")"
   ],
   "id": "1e36a2584a06f408",
   "outputs": [],
   "execution_count": 43
  },
  {
   "metadata": {
    "ExecuteTime": {
     "end_time": "2025-02-11T18:10:02.368460Z",
     "start_time": "2025-02-11T18:10:02.357069Z"
    }
   },
   "cell_type": "code",
   "source": [
    "sample_df = train_df.head().copy()  # Grab the top 5 rows\n",
    "sample_df.pop('label')\n",
    "sample_x = sample_df.values\n",
    "sample_x"
   ],
   "id": "50c4f7fb3f24b1f5",
   "outputs": [
    {
     "data": {
      "text/plain": [
       "array([[107, 118, 127, ..., 204, 203, 202],\n",
       "       [155, 157, 156, ..., 103, 135, 149],\n",
       "       [187, 188, 188, ..., 195, 194, 195],\n",
       "       [211, 211, 212, ..., 222, 229, 163],\n",
       "       [164, 167, 170, ..., 163, 164, 179]], shape=(5, 784))"
      ]
     },
     "execution_count": 44,
     "metadata": {},
     "output_type": "execute_result"
    }
   ],
   "execution_count": 44
  },
  {
   "metadata": {
    "ExecuteTime": {
     "end_time": "2025-02-11T18:10:02.419846Z",
     "start_time": "2025-02-11T18:10:02.416416Z"
    }
   },
   "cell_type": "code",
   "source": "sample_x.shape",
   "id": "cad00d6b25257a99",
   "outputs": [
    {
     "data": {
      "text/plain": [
       "(5, 784)"
      ]
     },
     "execution_count": 45,
     "metadata": {},
     "output_type": "execute_result"
    }
   ],
   "execution_count": 45
  },
  {
   "metadata": {
    "ExecuteTime": {
     "end_time": "2025-02-11T18:10:02.559653Z",
     "start_time": "2025-02-11T18:10:02.556093Z"
    }
   },
   "cell_type": "code",
   "source": [
    "IMG_HEIGHT = 28\n",
    "IMG_WIDTH = 28\n",
    "IMG_CHS = 1\n",
    "\n",
    "sample_x = sample_x.reshape(-1, IMG_CHS, IMG_HEIGHT, IMG_WIDTH)\n",
    "sample_x.shape"
   ],
   "id": "6aa100c884bd762d",
   "outputs": [
    {
     "data": {
      "text/plain": [
       "(5, 1, 28, 28)"
      ]
     },
     "execution_count": 46,
     "metadata": {},
     "output_type": "execute_result"
    }
   ],
   "execution_count": 46
  },
  {
   "metadata": {
    "ExecuteTime": {
     "end_time": "2025-02-11T18:10:03.092505Z",
     "start_time": "2025-02-11T18:10:03.088832Z"
    }
   },
   "cell_type": "code",
   "source": [
    "# SOLUTION\n",
    "class MyDataset:\n",
    "    def __init__(self, base_df):\n",
    "        x_df = base_df.copy()  # Some operations below are in-place\n",
    "        y_df = x_df.pop('label')\n",
    "        x_df = x_df.values / 255  # Normalize values from 0 to 1\n",
    "        x_df = x_df.reshape(-1, IMG_CHS, IMG_WIDTH, IMG_HEIGHT)\n",
    "        self.xs = jnp.array(x_df)\n",
    "        self.ys = jnp.array(y_df)\n",
    "\n",
    "    def __getitem__(self, idx):\n",
    "        x = self.xs[idx]\n",
    "        y = self.ys[idx]\n",
    "        return x, y\n",
    "\n",
    "    def __len__(self):\n",
    "        return len(self.xs)"
   ],
   "id": "b7dffe2d276db3a9",
   "outputs": [],
   "execution_count": 47
  },
  {
   "metadata": {
    "ExecuteTime": {
     "end_time": "2025-02-11T18:10:03.181740Z",
     "start_time": "2025-02-11T18:10:03.178808Z"
    }
   },
   "cell_type": "code",
   "source": [
    "def create_batches(dataset, batch_size):\n",
    "    num_batches = len(dataset) // batch_size\n",
    "    for i in range(num_batches):\n",
    "        yield dataset[i * batch_size:(i + 1) * batch_size]"
   ],
   "id": "d90a1a95db39baab",
   "outputs": [],
   "execution_count": 48
  },
  {
   "metadata": {
    "ExecuteTime": {
     "end_time": "2025-02-11T18:10:03.588292Z",
     "start_time": "2025-02-11T18:10:03.306146Z"
    }
   },
   "cell_type": "code",
   "source": [
    "BATCH_SIZE = 32\n",
    "\n",
    "train_data = MyDataset(train_df)\n",
    "# Creating batches\n",
    "train_batches = list(create_batches(train_data, BATCH_SIZE))\n",
    "\n",
    "# Putting the data on the device\n",
    "train_loader = [jax.device_put(batch) for batch in train_batches]\n"
   ],
   "id": "f224d6fc7258435c",
   "outputs": [],
   "execution_count": 49
  },
  {
   "metadata": {
    "ExecuteTime": {
     "end_time": "2025-02-11T18:10:03.981793Z",
     "start_time": "2025-02-11T18:10:03.873755Z"
    }
   },
   "cell_type": "code",
   "source": [
    "valid_data = MyDataset(valid_df)\n",
    "valid_batches = list(create_batches(valid_data, BATCH_SIZE))\n",
    "valid_loader = [jax.device_put(batch) for batch in valid_batches]"
   ],
   "id": "18f9edfde45122f8",
   "outputs": [],
   "execution_count": 50
  },
  {
   "metadata": {
    "ExecuteTime": {
     "end_time": "2025-02-11T18:10:04.449393Z",
     "start_time": "2025-02-11T18:10:04.447070Z"
    }
   },
   "cell_type": "code",
   "source": [
    "train_N = len(train_loader)\n",
    "valid_N = len(valid_loader)"
   ],
   "id": "f55728f977c78724",
   "outputs": [],
   "execution_count": 51
  },
  {
   "metadata": {
    "ExecuteTime": {
     "end_time": "2025-02-11T18:10:05.219803Z",
     "start_time": "2025-02-11T18:10:05.215668Z"
    }
   },
   "cell_type": "code",
   "source": [
    "batch = next(iter(train_loader))\n",
    "batch"
   ],
   "id": "456da1d66889eec6",
   "outputs": [
    {
     "data": {
      "text/plain": [
       "(Array([[[[0.41960785, 0.4627451 , 0.49803922, ..., 0.6666667 ,\n",
       "           0.6666667 , 0.6627451 ],\n",
       "          [0.43529412, 0.4745098 , 0.5058824 , ..., 0.67058825,\n",
       "           0.67058825, 0.6666667 ],\n",
       "          [0.44313726, 0.48235294, 0.5137255 , ..., 0.67058825,\n",
       "           0.67058825, 0.67058825],\n",
       "          ...,\n",
       "          [0.5568628 , 0.5882353 , 0.62352943, ..., 0.7921569 ,\n",
       "           0.7882353 , 0.78431374],\n",
       "          [0.5568628 , 0.5921569 , 0.627451  , ..., 0.8       ,\n",
       "           0.79607844, 0.7921569 ],\n",
       "          [0.5568628 , 0.5921569 , 0.627451  , ..., 0.8       ,\n",
       "           0.79607844, 0.7921569 ]]],\n",
       " \n",
       " \n",
       "        [[[0.60784316, 0.6156863 , 0.6117647 , ..., 0.5411765 ,\n",
       "           0.36078432, 0.42352942],\n",
       "          [0.61960787, 0.62352943, 0.62352943, ..., 0.5568628 ,\n",
       "           0.45490196, 0.56078434],\n",
       "          [0.6313726 , 0.6313726 , 0.6313726 , ..., 0.5764706 ,\n",
       "           0.49019608, 0.54901963],\n",
       "          ...,\n",
       "          [0.63529414, 0.62352943, 0.5686275 , ..., 0.35686275,\n",
       "           0.39607844, 0.36862746],\n",
       "          [0.6       , 0.54509807, 0.4509804 , ..., 0.38039216,\n",
       "           0.37254903, 0.47058824],\n",
       "          [0.5294118 , 0.45490196, 0.37254903, ..., 0.40392157,\n",
       "           0.5294118 , 0.58431375]]],\n",
       " \n",
       " \n",
       "        [[[0.73333335, 0.7372549 , 0.7372549 , ..., 0.25882354,\n",
       "           0.3019608 , 0.3254902 ],\n",
       "          [0.7372549 , 0.7411765 , 0.7411765 , ..., 0.28627452,\n",
       "           0.28627452, 0.2784314 ],\n",
       "          [0.74509805, 0.74509805, 0.74509805, ..., 0.2901961 ,\n",
       "           0.26666668, 0.23921569],\n",
       "          ...,\n",
       "          [0.83137256, 0.7764706 , 0.6862745 , ..., 0.7647059 ,\n",
       "           0.75686276, 0.7529412 ],\n",
       "          [0.7921569 , 0.7019608 , 0.59607846, ..., 0.7647059 ,\n",
       "           0.7607843 , 0.75686276],\n",
       "          [0.7764706 , 0.6509804 , 0.5176471 , ..., 0.7647059 ,\n",
       "           0.7607843 , 0.7647059 ]]],\n",
       " \n",
       " \n",
       "        ...,\n",
       " \n",
       " \n",
       "        [[[0.57254905, 0.58431375, 0.5882353 , ..., 0.5882353 ,\n",
       "           0.5882353 , 0.5882353 ],\n",
       "          [0.5921569 , 0.59607846, 0.59607846, ..., 0.6       ,\n",
       "           0.6       , 0.6       ],\n",
       "          [0.6       , 0.60784316, 0.6117647 , ..., 0.6117647 ,\n",
       "           0.60784316, 0.6039216 ],\n",
       "          ...,\n",
       "          [0.7294118 , 0.73333335, 0.7372549 , ..., 0.7647059 ,\n",
       "           0.7607843 , 0.75686276],\n",
       "          [0.7294118 , 0.7372549 , 0.7411765 , ..., 0.7529412 ,\n",
       "           0.7529412 , 0.75686276],\n",
       "          [0.72156864, 0.7372549 , 0.7490196 , ..., 0.7607843 ,\n",
       "           0.74509805, 0.73333335]]],\n",
       " \n",
       " \n",
       "        [[[0.5254902 , 0.53333336, 0.54509807, ..., 0.54901963,\n",
       "           0.5411765 , 0.53333336],\n",
       "          [0.5294118 , 0.54509807, 0.54901963, ..., 0.5529412 ,\n",
       "           0.54901963, 0.54509807],\n",
       "          [0.5411765 , 0.54509807, 0.5529412 , ..., 0.5568628 ,\n",
       "           0.54901963, 0.54901963],\n",
       "          ...,\n",
       "          [0.6156863 , 0.62352943, 0.6313726 , ..., 0.62352943,\n",
       "           0.63529414, 0.6509804 ],\n",
       "          [0.6156863 , 0.62352943, 0.63529414, ..., 0.6627451 ,\n",
       "           0.6509804 , 0.6156863 ],\n",
       "          [0.6       , 0.6117647 , 0.6156863 , ..., 0.6156863 ,\n",
       "           0.58431375, 0.5529412 ]]],\n",
       " \n",
       " \n",
       "        [[[0.5803922 , 0.5921569 , 0.6156863 , ..., 0.8156863 ,\n",
       "           0.8156863 , 0.8117647 ],\n",
       "          [0.5882353 , 0.59607846, 0.62352943, ..., 0.8235294 ,\n",
       "           0.8235294 , 0.81960785],\n",
       "          [0.5921569 , 0.6       , 0.6313726 , ..., 0.827451  ,\n",
       "           0.827451  , 0.827451  ],\n",
       "          ...,\n",
       "          [0.5137255 , 0.5137255 , 0.5176471 , ..., 0.5176471 ,\n",
       "           0.6784314 , 0.75686276],\n",
       "          [0.5176471 , 0.52156866, 0.52156866, ..., 0.4627451 ,\n",
       "           0.45490196, 0.50980395],\n",
       "          [0.5137255 , 0.52156866, 0.52156866, ..., 0.44313726,\n",
       "           0.50980395, 0.4862745 ]]]], dtype=float32),\n",
       " Array([ 3,  6,  2,  2, 13, 16,  8, 22,  3,  3, 18, 10, 16, 22, 20, 16, 17,\n",
       "        13, 13, 19, 18, 21, 16, 23,  3, 23, 24, 18, 22,  1,  1, 12],      dtype=int32))"
      ]
     },
     "execution_count": 52,
     "metadata": {},
     "output_type": "execute_result"
    }
   ],
   "execution_count": 52
  },
  {
   "metadata": {
    "ExecuteTime": {
     "end_time": "2025-02-11T18:10:05.766834Z",
     "start_time": "2025-02-11T18:10:05.764020Z"
    }
   },
   "cell_type": "code",
   "source": "batch[0].shape",
   "id": "8fa77d3c0223017e",
   "outputs": [
    {
     "data": {
      "text/plain": [
       "(32, 1, 28, 28)"
      ]
     },
     "execution_count": 53,
     "metadata": {},
     "output_type": "execute_result"
    }
   ],
   "execution_count": 53
  },
  {
   "metadata": {
    "ExecuteTime": {
     "end_time": "2025-02-11T18:10:06.128652Z",
     "start_time": "2025-02-11T18:10:06.126019Z"
    }
   },
   "cell_type": "code",
   "source": "batch[1].shape",
   "id": "f43ff63e622b1e3f",
   "outputs": [
    {
     "data": {
      "text/plain": [
       "(32,)"
      ]
     },
     "execution_count": 54,
     "metadata": {},
     "output_type": "execute_result"
    }
   ],
   "execution_count": 54
  },
  {
   "metadata": {
    "ExecuteTime": {
     "end_time": "2025-02-11T18:12:35.489223Z",
     "start_time": "2025-02-11T18:12:35.485613Z"
    }
   },
   "cell_type": "code",
   "source": [
    "# model\n",
    "n_classes = 24\n",
    "kernel_size = 3\n",
    "flattened_img_size = 75 * 3 * 3\n",
    "\n",
    "class CNN(nn.Module):\n",
    "\n",
    "    @nn.compact\n",
    "    def __call__(self, x):\n",
    "        x = nn.Conv(features=28,  kernel_size=(kernel_size,kernel_size))(x)\n",
    "        x = nn.relu(x)\n",
    "        x =nn.max_pool(x, window_shape=(2,2), strides=(2,2))\n",
    "\n",
    "        return x"
   ],
   "id": "5edbcae708318203",
   "outputs": [],
   "execution_count": 76
  },
  {
   "metadata": {
    "ExecuteTime": {
     "end_time": "2025-02-11T18:12:35.656099Z",
     "start_time": "2025-02-11T18:12:35.654066Z"
    }
   },
   "cell_type": "code",
   "source": [
    "# Initializing the Model\n",
    "rng = jax.random.PRNGKey(0)\n",
    "model = CNN()"
   ],
   "id": "ad6dd6daeb8331c1",
   "outputs": [],
   "execution_count": 77
  },
  {
   "metadata": {
    "ExecuteTime": {
     "end_time": "2025-02-11T18:12:35.918941Z",
     "start_time": "2025-02-11T18:12:35.910959Z"
    }
   },
   "cell_type": "code",
   "source": [
    "# initialize the parameters\n",
    "params = model.init(jax.random.PRNGKey(0), batch[0])\n",
    "# forward pass\n",
    "y_pred = model.apply(params, batch[0])"
   ],
   "id": "bee8fc31f85d09b7",
   "outputs": [],
   "execution_count": 78
  },
  {
   "metadata": {
    "ExecuteTime": {
     "end_time": "2025-02-11T18:12:36.361921Z",
     "start_time": "2025-02-11T18:12:36.359112Z"
    }
   },
   "cell_type": "code",
   "source": "y_pred.shape",
   "id": "62b633b36ebfc41d",
   "outputs": [
    {
     "data": {
      "text/plain": [
       "(32, 0, 14, 28)"
      ]
     },
     "execution_count": 79,
     "metadata": {},
     "output_type": "execute_result"
    }
   ],
   "execution_count": 79
  },
  {
   "metadata": {
    "ExecuteTime": {
     "end_time": "2025-02-10T20:33:25.894697Z",
     "start_time": "2025-02-10T20:33:25.892997Z"
    }
   },
   "cell_type": "code",
   "source": "",
   "id": "6f7c6db0c155e5be",
   "outputs": [],
   "execution_count": null
  },
  {
   "metadata": {},
   "cell_type": "code",
   "outputs": [],
   "execution_count": null,
   "source": "",
   "id": "7267cfddba375cea"
  }
 ],
 "metadata": {
  "kernelspec": {
   "display_name": "Python 3",
   "language": "python",
   "name": "python3"
  },
  "language_info": {
   "codemirror_mode": {
    "name": "ipython",
    "version": 2
   },
   "file_extension": ".py",
   "mimetype": "text/x-python",
   "name": "python",
   "nbconvert_exporter": "python",
   "pygments_lexer": "ipython2",
   "version": "2.7.6"
  }
 },
 "nbformat": 4,
 "nbformat_minor": 5
}
