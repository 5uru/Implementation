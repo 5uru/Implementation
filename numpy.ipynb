{
 "cells": [
  {
   "cell_type": "code",
   "id": "initial_id",
   "metadata": {
    "collapsed": true,
    "ExecuteTime": {
     "end_time": "2025-01-23T20:38:45.506235Z",
     "start_time": "2025-01-23T20:38:41.394549Z"
    }
   },
   "source": "from jax import numpy as jnp",
   "outputs": [],
   "execution_count": 1
  },
  {
   "metadata": {
    "ExecuteTime": {
     "end_time": "2025-01-23T20:39:17.938120Z",
     "start_time": "2025-01-23T20:39:17.785573Z"
    }
   },
   "cell_type": "code",
   "source": [
    "l = [10, 20, 30, 12, 23, 34]\n",
    "jnp.array(l)"
   ],
   "id": "64939d9f2f75d8b7",
   "outputs": [
    {
     "data": {
      "text/plain": [
       "Array([10, 20, 30, 12, 23, 34], dtype=int32)"
      ]
     },
     "execution_count": 2,
     "metadata": {},
     "output_type": "execute_result"
    }
   ],
   "execution_count": 2
  },
  {
   "metadata": {
    "ExecuteTime": {
     "end_time": "2025-01-23T20:39:53.774690Z",
     "start_time": "2025-01-23T20:39:53.762014Z"
    }
   },
   "cell_type": "code",
   "source": "jnp.empty(4)",
   "id": "1bc112c85e4b4113",
   "outputs": [
    {
     "data": {
      "text/plain": [
       "Array([0., 0., 0., 0.], dtype=float32)"
      ]
     },
     "execution_count": 4,
     "metadata": {},
     "output_type": "execute_result"
    }
   ],
   "execution_count": 4
  },
  {
   "metadata": {
    "ExecuteTime": {
     "end_time": "2025-01-23T20:40:14.095742Z",
     "start_time": "2025-01-23T20:40:14.059563Z"
    }
   },
   "cell_type": "code",
   "source": "jnp.zeros([2, 3])",
   "id": "e684c652a5083ad2",
   "outputs": [
    {
     "data": {
      "text/plain": [
       "Array([[0., 0., 0.],\n",
       "       [0., 0., 0.]], dtype=float32)"
      ]
     },
     "execution_count": 5,
     "metadata": {},
     "output_type": "execute_result"
    }
   ],
   "execution_count": 5
  },
  {
   "metadata": {
    "ExecuteTime": {
     "end_time": "2025-01-23T20:41:45.735102Z",
     "start_time": "2025-01-23T20:41:45.730580Z"
    }
   },
   "cell_type": "code",
   "source": [
    "a = jnp.ones([2, 3, 4])\n",
    "print(a.shape, a.dtype, a.size)\n",
    "a"
   ],
   "id": "981d72ea8f33c628",
   "outputs": [
    {
     "name": "stdout",
     "output_type": "stream",
     "text": [
      "(2, 3, 4) float32 24\n"
     ]
    },
    {
     "data": {
      "text/plain": [
       "Array([[[1., 1., 1., 1.],\n",
       "        [1., 1., 1., 1.],\n",
       "        [1., 1., 1., 1.]],\n",
       "\n",
       "       [[1., 1., 1., 1.],\n",
       "        [1., 1., 1., 1.],\n",
       "        [1., 1., 1., 1.]]], dtype=float32)"
      ]
     },
     "execution_count": 7,
     "metadata": {},
     "output_type": "execute_result"
    }
   ],
   "execution_count": 7
  },
  {
   "metadata": {
    "ExecuteTime": {
     "end_time": "2025-01-23T20:42:01.054220Z",
     "start_time": "2025-01-23T20:42:01.021264Z"
    }
   },
   "cell_type": "code",
   "source": "jnp.arange(10)",
   "id": "fac6ceea134de5b5",
   "outputs": [
    {
     "data": {
      "text/plain": [
       "Array([0, 1, 2, 3, 4, 5, 6, 7, 8, 9], dtype=int32)"
      ]
     },
     "execution_count": 8,
     "metadata": {},
     "output_type": "execute_result"
    }
   ],
   "execution_count": 8
  },
  {
   "metadata": {
    "ExecuteTime": {
     "end_time": "2025-01-23T20:42:13.335809Z",
     "start_time": "2025-01-23T20:42:13.297882Z"
    }
   },
   "cell_type": "code",
   "source": "jnp.linspace(0, 1, 5)",
   "id": "e98f9f414ccdce5e",
   "outputs": [
    {
     "data": {
      "text/plain": [
       "Array([0.  , 0.25, 0.5 , 0.75, 1.  ], dtype=float32)"
      ]
     },
     "execution_count": 9,
     "metadata": {},
     "output_type": "execute_result"
    }
   ],
   "execution_count": 9
  },
  {
   "metadata": {
    "ExecuteTime": {
     "end_time": "2025-01-23T20:42:49.155850Z",
     "start_time": "2025-01-23T20:42:49.123702Z"
    }
   },
   "cell_type": "code",
   "source": "list(jnp.linspace(0, 1, 5))",
   "id": "f66f71e0b7dee199",
   "outputs": [
    {
     "data": {
      "text/plain": [
       "[Array(0., dtype=float32),\n",
       " Array(0.25, dtype=float32),\n",
       " Array(0.5, dtype=float32),\n",
       " Array(0.75, dtype=float32),\n",
       " Array(1., dtype=float32)]"
      ]
     },
     "execution_count": 10,
     "metadata": {},
     "output_type": "execute_result"
    }
   ],
   "execution_count": 10
  },
  {
   "metadata": {
    "ExecuteTime": {
     "end_time": "2025-01-23T20:51:13.816464Z",
     "start_time": "2025-01-23T20:51:13.760165Z"
    }
   },
   "cell_type": "code",
   "source": [
    "import jax.random as jrandom\n",
    "\n",
    "key = jrandom.PRNGKey(0)\n",
    "A = jrandom.uniform(key, (4, 5))\n",
    "print(A)"
   ],
   "id": "15f42908e704f3ec",
   "outputs": [
    {
     "name": "stdout",
     "output_type": "stream",
     "text": [
      "[[0.85417664 0.16620052 0.27605474 0.48728156 0.9920441 ]\n",
      " [0.03015983 0.21629429 0.37687123 0.63070035 0.96144474]\n",
      " [0.15203023 0.92090297 0.30555236 0.29931295 0.6925707 ]\n",
      " [0.8542826  0.46517384 0.7869307  0.99605286 0.28018546]]\n"
     ]
    }
   ],
   "execution_count": 13
  },
  {
   "metadata": {
    "ExecuteTime": {
     "end_time": "2025-01-23T20:51:30.336132Z",
     "start_time": "2025-01-23T20:51:30.304250Z"
    }
   },
   "cell_type": "code",
   "source": "A[:2, :3]",
   "id": "879022e828cde6a2",
   "outputs": [
    {
     "data": {
      "text/plain": [
       "Array([[0.85417664, 0.16620052, 0.27605474],\n",
       "       [0.03015983, 0.21629429, 0.37687123]], dtype=float32)"
      ]
     },
     "execution_count": 14,
     "metadata": {},
     "output_type": "execute_result"
    }
   ],
   "execution_count": 14
  },
  {
   "metadata": {
    "ExecuteTime": {
     "end_time": "2025-01-23T20:51:55.554223Z",
     "start_time": "2025-01-23T20:51:55.406667Z"
    }
   },
   "cell_type": "code",
   "source": [
    "cond = A > 0.5\n",
    "print(cond)\n",
    "print(A[cond])"
   ],
   "id": "37d5b208626505fa",
   "outputs": [
    {
     "name": "stdout",
     "output_type": "stream",
     "text": [
      "[[ True False False False  True]\n",
      " [False False False  True  True]\n",
      " [False  True False False  True]\n",
      " [ True False  True  True False]]\n",
      "[0.85417664 0.9920441  0.63070035 0.96144474 0.92090297 0.6925707\n",
      " 0.8542826  0.7869307  0.99605286]\n"
     ]
    }
   ],
   "execution_count": 15
  },
  {
   "metadata": {
    "ExecuteTime": {
     "end_time": "2025-01-23T20:52:31.446125Z",
     "start_time": "2025-01-23T20:52:31.400204Z"
    }
   },
   "cell_type": "code",
   "source": "(A + 5)**2",
   "id": "d5fb20ed1dfccfab",
   "outputs": [
    {
     "data": {
      "text/plain": [
       "Array([[34.27138 , 26.689629, 27.836756, 30.110262, 35.90459 ],\n",
       "       [25.30251 , 27.209726, 28.910744, 31.704784, 35.538826],\n",
       "       [26.543413, 35.057095, 28.148888, 28.08272 , 32.40536 ],\n",
       "       [34.27262 , 29.868124, 33.488564, 35.95265 , 27.880362]],      dtype=float32)"
      ]
     },
     "execution_count": 16,
     "metadata": {},
     "output_type": "execute_result"
    }
   ],
   "execution_count": 16
  },
  {
   "metadata": {
    "ExecuteTime": {
     "end_time": "2025-01-23T20:52:41.066726Z",
     "start_time": "2025-01-23T20:52:41.038521Z"
    }
   },
   "cell_type": "code",
   "source": "jnp.exp(A)",
   "id": "57b783940201a5b0",
   "outputs": [
    {
     "data": {
      "text/plain": [
       "Array([[2.3494391, 1.1808099, 1.31792  , 1.6278849, 2.696741 ],\n",
       "       [1.0306193, 1.2414677, 1.4577166, 1.878926 , 2.6154723],\n",
       "       [1.1641954, 2.511557 , 1.3573745, 1.3489317, 1.9988474],\n",
       "       [2.349688 , 1.592291 , 2.1966438, 2.7075734, 1.3233752]],      dtype=float32)"
      ]
     },
     "execution_count": 17,
     "metadata": {},
     "output_type": "execute_result"
    }
   ],
   "execution_count": 17
  },
  {
   "metadata": {
    "ExecuteTime": {
     "end_time": "2025-01-23T20:53:36.191823Z",
     "start_time": "2025-01-23T20:53:36.187340Z"
    }
   },
   "cell_type": "code",
   "source": [
    "A = A.at[:, 0].set(0)\n",
    "print(A)"
   ],
   "id": "a3dddfd5ebae72b9",
   "outputs": [
    {
     "name": "stdout",
     "output_type": "stream",
     "text": [
      "[[0.         0.16620052 0.27605474 0.48728156 0.9920441 ]\n",
      " [0.         0.21629429 0.37687123 0.63070035 0.96144474]\n",
      " [0.         0.92090297 0.30555236 0.29931295 0.6925707 ]\n",
      " [0.         0.46517384 0.7869307  0.99605286 0.28018546]]\n"
     ]
    }
   ],
   "execution_count": 20
  },
  {
   "metadata": {
    "ExecuteTime": {
     "end_time": "2025-01-23T20:54:39.818537Z",
     "start_time": "2025-01-23T20:54:39.595008Z"
    }
   },
   "cell_type": "code",
   "source": [
    "cond = (A != 0)\n",
    "A = A.at[cond].set(1/A[cond])\n",
    "print(A)"
   ],
   "id": "21b9ed59356a594a",
   "outputs": [
    {
     "name": "stdout",
     "output_type": "stream",
     "text": [
      "[[0.        6.0168285 3.62247   2.0522015 1.0080197]\n",
      " [0.        4.6233306 2.6534262 1.585539  1.0401014]\n",
      " [0.        1.0858908 3.2727613 3.3409848 1.4438959]\n",
      " [0.        2.149734  1.2707599 1.0039628 3.5690646]]\n"
     ]
    }
   ],
   "execution_count": 21
  },
  {
   "metadata": {
    "ExecuteTime": {
     "end_time": "2025-01-23T20:56:41.153477Z",
     "start_time": "2025-01-23T20:56:41.148109Z"
    }
   },
   "cell_type": "code",
   "source": [
    "for i, v in enumerate( [s for s in dir(jnp) if not s.startswith('_')]):\n",
    "    print(f\"{i+1:16}. {v}\")\n",
    "    if (i+1) % 6 == 0:print(\"\")"
   ],
   "id": "45ad6b15090c56e3",
   "outputs": [
    {
     "name": "stdout",
     "output_type": "stream",
     "text": [
      "               1. ComplexWarning\n",
      "               2. abs\n",
      "               3. absolute\n",
      "               4. acos\n",
      "               5. acosh\n",
      "               6. add\n",
      "\n",
      "               7. all\n",
      "               8. allclose\n",
      "               9. amax\n",
      "              10. amin\n",
      "              11. angle\n",
      "              12. any\n",
      "\n",
      "              13. append\n",
      "              14. apply_along_axis\n",
      "              15. apply_over_axes\n",
      "              16. arange\n",
      "              17. arccos\n",
      "              18. arccosh\n",
      "\n",
      "              19. arcsin\n",
      "              20. arcsinh\n",
      "              21. arctan\n",
      "              22. arctan2\n",
      "              23. arctanh\n",
      "              24. argmax\n",
      "\n",
      "              25. argmin\n",
      "              26. argpartition\n",
      "              27. argsort\n",
      "              28. argwhere\n",
      "              29. around\n",
      "              30. array\n",
      "\n",
      "              31. array_equal\n",
      "              32. array_equiv\n",
      "              33. array_repr\n",
      "              34. array_split\n",
      "              35. array_str\n",
      "              36. asarray\n",
      "\n",
      "              37. asin\n",
      "              38. asinh\n",
      "              39. astype\n",
      "              40. atan\n",
      "              41. atan2\n",
      "              42. atanh\n",
      "\n",
      "              43. atleast_1d\n",
      "              44. atleast_2d\n",
      "              45. atleast_3d\n",
      "              46. average\n",
      "              47. bartlett\n",
      "              48. bfloat16\n",
      "\n",
      "              49. bincount\n",
      "              50. bitwise_and\n",
      "              51. bitwise_count\n",
      "              52. bitwise_invert\n",
      "              53. bitwise_left_shift\n",
      "              54. bitwise_not\n",
      "\n",
      "              55. bitwise_or\n",
      "              56. bitwise_right_shift\n",
      "              57. bitwise_xor\n",
      "              58. blackman\n",
      "              59. block\n",
      "              60. bool\n",
      "\n",
      "              61. bool_\n",
      "              62. broadcast_arrays\n",
      "              63. broadcast_shapes\n",
      "              64. broadcast_to\n",
      "              65. c_\n",
      "              66. can_cast\n",
      "\n",
      "              67. cbrt\n",
      "              68. cdouble\n",
      "              69. ceil\n",
      "              70. character\n",
      "              71. choose\n",
      "              72. clip\n",
      "\n",
      "              73. column_stack\n",
      "              74. complex128\n",
      "              75. complex64\n",
      "              76. complex_\n",
      "              77. complexfloating\n",
      "              78. compress\n",
      "\n",
      "              79. concat\n",
      "              80. concatenate\n",
      "              81. conj\n",
      "              82. conjugate\n",
      "              83. convolve\n",
      "              84. copy\n",
      "\n",
      "              85. copysign\n",
      "              86. corrcoef\n",
      "              87. correlate\n",
      "              88. cos\n",
      "              89. cosh\n",
      "              90. count_nonzero\n",
      "\n",
      "              91. cov\n",
      "              92. cross\n",
      "              93. csingle\n",
      "              94. cumprod\n",
      "              95. cumsum\n",
      "              96. cumulative_prod\n",
      "\n",
      "              97. cumulative_sum\n",
      "              98. deg2rad\n",
      "              99. degrees\n",
      "             100. delete\n",
      "             101. diag\n",
      "             102. diag_indices\n",
      "\n",
      "             103. diag_indices_from\n",
      "             104. diagflat\n",
      "             105. diagonal\n",
      "             106. diff\n",
      "             107. digitize\n",
      "             108. divide\n",
      "\n",
      "             109. divmod\n",
      "             110. dot\n",
      "             111. double\n",
      "             112. dsplit\n",
      "             113. dstack\n",
      "             114. dtype\n",
      "\n",
      "             115. e\n",
      "             116. ediff1d\n",
      "             117. einsum\n",
      "             118. einsum_path\n",
      "             119. empty\n",
      "             120. empty_like\n",
      "\n",
      "             121. equal\n",
      "             122. euler_gamma\n",
      "             123. exp\n",
      "             124. exp2\n",
      "             125. expand_dims\n",
      "             126. expm1\n",
      "\n",
      "             127. extract\n",
      "             128. eye\n",
      "             129. fabs\n",
      "             130. fft\n",
      "             131. fill_diagonal\n",
      "             132. finfo\n",
      "\n",
      "             133. fix\n",
      "             134. flatnonzero\n",
      "             135. flexible\n",
      "             136. flip\n",
      "             137. fliplr\n",
      "             138. flipud\n",
      "\n",
      "             139. float16\n",
      "             140. float32\n",
      "             141. float64\n",
      "             142. float8_e3m4\n",
      "             143. float8_e4m3\n",
      "             144. float8_e4m3b11fnuz\n",
      "\n",
      "             145. float8_e4m3fn\n",
      "             146. float8_e4m3fnuz\n",
      "             147. float8_e5m2\n",
      "             148. float8_e5m2fnuz\n",
      "             149. float_\n",
      "             150. float_power\n",
      "\n",
      "             151. floating\n",
      "             152. floor\n",
      "             153. floor_divide\n",
      "             154. fmax\n",
      "             155. fmin\n",
      "             156. fmod\n",
      "\n",
      "             157. frexp\n",
      "             158. from_dlpack\n",
      "             159. frombuffer\n",
      "             160. fromfile\n",
      "             161. fromfunction\n",
      "             162. fromiter\n",
      "\n",
      "             163. frompyfunc\n",
      "             164. fromstring\n",
      "             165. full\n",
      "             166. full_like\n",
      "             167. gcd\n",
      "             168. generic\n",
      "\n",
      "             169. geomspace\n",
      "             170. get_printoptions\n",
      "             171. gradient\n",
      "             172. greater\n",
      "             173. greater_equal\n",
      "             174. hamming\n",
      "\n",
      "             175. hanning\n",
      "             176. heaviside\n",
      "             177. histogram\n",
      "             178. histogram2d\n",
      "             179. histogram_bin_edges\n",
      "             180. histogramdd\n",
      "\n",
      "             181. hsplit\n",
      "             182. hstack\n",
      "             183. hypot\n",
      "             184. i0\n",
      "             185. identity\n",
      "             186. iinfo\n",
      "\n",
      "             187. imag\n",
      "             188. index_exp\n",
      "             189. indices\n",
      "             190. inexact\n",
      "             191. inf\n",
      "             192. inner\n",
      "\n",
      "             193. insert\n",
      "             194. int16\n",
      "             195. int2\n",
      "             196. int32\n",
      "             197. int4\n",
      "             198. int64\n",
      "\n",
      "             199. int8\n",
      "             200. int_\n",
      "             201. integer\n",
      "             202. interp\n",
      "             203. intersect1d\n",
      "             204. invert\n",
      "\n",
      "             205. isclose\n",
      "             206. iscomplex\n",
      "             207. iscomplexobj\n",
      "             208. isdtype\n",
      "             209. isfinite\n",
      "             210. isin\n",
      "\n",
      "             211. isinf\n",
      "             212. isnan\n",
      "             213. isneginf\n",
      "             214. isposinf\n",
      "             215. isreal\n",
      "             216. isrealobj\n",
      "\n",
      "             217. isscalar\n",
      "             218. issubdtype\n",
      "             219. iterable\n",
      "             220. ix_\n",
      "             221. kaiser\n",
      "             222. kron\n",
      "\n",
      "             223. lcm\n",
      "             224. ldexp\n",
      "             225. left_shift\n",
      "             226. less\n",
      "             227. less_equal\n",
      "             228. lexsort\n",
      "\n",
      "             229. linalg\n",
      "             230. linspace\n",
      "             231. load\n",
      "             232. log\n",
      "             233. log10\n",
      "             234. log1p\n",
      "\n",
      "             235. log2\n",
      "             236. logaddexp\n",
      "             237. logaddexp2\n",
      "             238. logical_and\n",
      "             239. logical_not\n",
      "             240. logical_or\n",
      "\n",
      "             241. logical_xor\n",
      "             242. logspace\n",
      "             243. mask_indices\n",
      "             244. matmul\n",
      "             245. matrix_transpose\n",
      "             246. matvec\n",
      "\n",
      "             247. max\n",
      "             248. maximum\n",
      "             249. mean\n",
      "             250. median\n",
      "             251. meshgrid\n",
      "             252. mgrid\n",
      "\n",
      "             253. min\n",
      "             254. minimum\n",
      "             255. mod\n",
      "             256. modf\n",
      "             257. moveaxis\n",
      "             258. multiply\n",
      "\n",
      "             259. nan\n",
      "             260. nan_to_num\n",
      "             261. nanargmax\n",
      "             262. nanargmin\n",
      "             263. nancumprod\n",
      "             264. nancumsum\n",
      "\n",
      "             265. nanmax\n",
      "             266. nanmean\n",
      "             267. nanmedian\n",
      "             268. nanmin\n",
      "             269. nanpercentile\n",
      "             270. nanprod\n",
      "\n",
      "             271. nanquantile\n",
      "             272. nanstd\n",
      "             273. nansum\n",
      "             274. nanvar\n",
      "             275. ndarray\n",
      "             276. ndim\n",
      "\n",
      "             277. negative\n",
      "             278. newaxis\n",
      "             279. nextafter\n",
      "             280. nonzero\n",
      "             281. not_equal\n",
      "             282. number\n",
      "\n",
      "             283. object_\n",
      "             284. ogrid\n",
      "             285. ones\n",
      "             286. ones_like\n",
      "             287. outer\n",
      "             288. packbits\n",
      "\n",
      "             289. pad\n",
      "             290. partition\n",
      "             291. percentile\n",
      "             292. permute_dims\n",
      "             293. pi\n",
      "             294. piecewise\n",
      "\n",
      "             295. place\n",
      "             296. poly\n",
      "             297. polyadd\n",
      "             298. polyder\n",
      "             299. polydiv\n",
      "             300. polyfit\n",
      "\n",
      "             301. polyint\n",
      "             302. polymul\n",
      "             303. polysub\n",
      "             304. polyval\n",
      "             305. positive\n",
      "             306. pow\n",
      "\n",
      "             307. power\n",
      "             308. printoptions\n",
      "             309. prod\n",
      "             310. promote_types\n",
      "             311. ptp\n",
      "             312. put\n",
      "\n",
      "             313. put_along_axis\n",
      "             314. quantile\n",
      "             315. r_\n",
      "             316. rad2deg\n",
      "             317. radians\n",
      "             318. ravel\n",
      "\n",
      "             319. ravel_multi_index\n",
      "             320. real\n",
      "             321. reciprocal\n",
      "             322. remainder\n",
      "             323. repeat\n",
      "             324. reshape\n",
      "\n",
      "             325. resize\n",
      "             326. result_type\n",
      "             327. right_shift\n",
      "             328. rint\n",
      "             329. roll\n",
      "             330. rollaxis\n",
      "\n",
      "             331. roots\n",
      "             332. rot90\n",
      "             333. round\n",
      "             334. s_\n",
      "             335. save\n",
      "             336. savez\n",
      "\n",
      "             337. searchsorted\n",
      "             338. select\n",
      "             339. set_printoptions\n",
      "             340. setdiff1d\n",
      "             341. setxor1d\n",
      "             342. shape\n",
      "\n",
      "             343. sign\n",
      "             344. signbit\n",
      "             345. signedinteger\n",
      "             346. sin\n",
      "             347. sinc\n",
      "             348. single\n",
      "\n",
      "             349. sinh\n",
      "             350. size\n",
      "             351. sort\n",
      "             352. sort_complex\n",
      "             353. spacing\n",
      "             354. split\n",
      "\n",
      "             355. sqrt\n",
      "             356. square\n",
      "             357. squeeze\n",
      "             358. stack\n",
      "             359. std\n",
      "             360. subtract\n",
      "\n",
      "             361. sum\n",
      "             362. swapaxes\n",
      "             363. take\n",
      "             364. take_along_axis\n",
      "             365. tan\n",
      "             366. tanh\n",
      "\n",
      "             367. tensordot\n",
      "             368. tile\n",
      "             369. trace\n",
      "             370. transpose\n",
      "             371. trapezoid\n",
      "             372. tri\n",
      "\n",
      "             373. tril\n",
      "             374. tril_indices\n",
      "             375. tril_indices_from\n",
      "             376. trim_zeros\n",
      "             377. triu\n",
      "             378. triu_indices\n",
      "\n",
      "             379. triu_indices_from\n",
      "             380. true_divide\n",
      "             381. trunc\n",
      "             382. ufunc\n",
      "             383. uint\n",
      "             384. uint16\n",
      "\n",
      "             385. uint2\n",
      "             386. uint32\n",
      "             387. uint4\n",
      "             388. uint64\n",
      "             389. uint8\n",
      "             390. union1d\n",
      "\n",
      "             391. unique\n",
      "             392. unique_all\n",
      "             393. unique_counts\n",
      "             394. unique_inverse\n",
      "             395. unique_values\n",
      "             396. unpackbits\n",
      "\n",
      "             397. unravel_index\n",
      "             398. unsignedinteger\n",
      "             399. unstack\n",
      "             400. unwrap\n",
      "             401. vander\n",
      "             402. var\n",
      "\n",
      "             403. vdot\n",
      "             404. vecdot\n",
      "             405. vecmat\n",
      "             406. vectorize\n",
      "             407. vsplit\n",
      "             408. vstack\n",
      "\n",
      "             409. where\n",
      "             410. zeros\n",
      "             411. zeros_like\n"
     ]
    }
   ],
   "execution_count": 23
  },
  {
   "metadata": {
    "ExecuteTime": {
     "end_time": "2025-01-23T20:57:30.898033Z",
     "start_time": "2025-01-23T20:57:30.875851Z"
    }
   },
   "cell_type": "code",
   "source": [
    "print(A)\n",
    "print(A.shape)\n",
    "A_flatten = A.flatten()\n",
    "print(A_flatten, A_flatten.shape)"
   ],
   "id": "445d33b0c7d57f1a",
   "outputs": [
    {
     "name": "stdout",
     "output_type": "stream",
     "text": [
      "[[0.        6.0168285 3.62247   2.0522015 1.0080197]\n",
      " [0.        4.6233306 2.6534262 1.585539  1.0401014]\n",
      " [0.        1.0858908 3.2727613 3.3409848 1.4438959]\n",
      " [0.        2.149734  1.2707599 1.0039628 3.5690646]]\n",
      "(4, 5)\n",
      "[0.        6.0168285 3.62247   2.0522015 1.0080197 0.        4.6233306\n",
      " 2.6534262 1.585539  1.0401014 0.        1.0858908 3.2727613 3.3409848\n",
      " 1.4438959 0.        2.149734  1.2707599 1.0039628 3.5690646] (20,)\n"
     ]
    }
   ],
   "execution_count": 24
  },
  {
   "metadata": {},
   "cell_type": "code",
   "outputs": [],
   "execution_count": null,
   "source": "",
   "id": "df6faaef3eea2963"
  }
 ],
 "metadata": {
  "kernelspec": {
   "display_name": "Python 3",
   "language": "python",
   "name": "python3"
  },
  "language_info": {
   "codemirror_mode": {
    "name": "ipython",
    "version": 2
   },
   "file_extension": ".py",
   "mimetype": "text/x-python",
   "name": "python",
   "nbconvert_exporter": "python",
   "pygments_lexer": "ipython2",
   "version": "2.7.6"
  }
 },
 "nbformat": 4,
 "nbformat_minor": 5
}
