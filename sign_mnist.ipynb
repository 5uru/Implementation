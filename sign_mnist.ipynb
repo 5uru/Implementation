{
 "cells": [
  {
   "cell_type": "code",
   "id": "initial_id",
   "metadata": {
    "collapsed": true,
    "ExecuteTime": {
     "end_time": "2025-02-09T16:18:46.738083Z",
     "start_time": "2025-02-09T16:18:46.707483Z"
    }
   },
   "source": [
    "import jax\n",
    "import matplotlib.pyplot as plt\n",
    "import pandas as pd\n",
    "import optax\n",
    "from flax.training.train_state import TrainState\n",
    "from flax import linen as nn\n",
    "from jax import numpy as jnp"
   ],
   "outputs": [],
   "execution_count": 71
  },
  {
   "metadata": {
    "ExecuteTime": {
     "end_time": "2025-02-09T16:18:48.660407Z",
     "start_time": "2025-02-09T16:18:47.219239Z"
    }
   },
   "cell_type": "code",
   "source": [
    "# Reading in the Data\n",
    "train_df = pd.read_csv(\"data/sign_mnist_train.csv\")\n",
    "valid_df = pd.read_csv(\"data/sign_mnist_test.csv\")"
   ],
   "id": "26c1896dee4fba1e",
   "outputs": [],
   "execution_count": 72
  },
  {
   "metadata": {
    "ExecuteTime": {
     "end_time": "2025-02-09T11:13:46.404749Z",
     "start_time": "2025-02-09T11:13:46.395081Z"
    }
   },
   "cell_type": "code",
   "source": [
    "# Exploring the Data\n",
    "train_df.head()"
   ],
   "id": "7a7477fdb6b735a6",
   "outputs": [
    {
     "data": {
      "text/plain": [
       "   label  pixel1  pixel2  pixel3  pixel4  pixel5  pixel6  pixel7  pixel8  \\\n",
       "0      3     107     118     127     134     139     143     146     150   \n",
       "1      6     155     157     156     156     156     157     156     158   \n",
       "2      2     187     188     188     187     187     186     187     188   \n",
       "3      2     211     211     212     212     211     210     211     210   \n",
       "4     13     164     167     170     172     176     179     180     184   \n",
       "\n",
       "   pixel9  ...  pixel775  pixel776  pixel777  pixel778  pixel779  pixel780  \\\n",
       "0     153  ...       207       207       207       207       206       206   \n",
       "1     158  ...        69       149       128        87        94       163   \n",
       "2     187  ...       202       201       200       199       198       199   \n",
       "3     210  ...       235       234       233       231       230       226   \n",
       "4     185  ...        92       105       105       108       133       163   \n",
       "\n",
       "   pixel781  pixel782  pixel783  pixel784  \n",
       "0       206       204       203       202  \n",
       "1       175       103       135       149  \n",
       "2       198       195       194       195  \n",
       "3       225       222       229       163  \n",
       "4       157       163       164       179  \n",
       "\n",
       "[5 rows x 785 columns]"
      ],
      "text/html": [
       "<div>\n",
       "<style scoped>\n",
       "    .dataframe tbody tr th:only-of-type {\n",
       "        vertical-align: middle;\n",
       "    }\n",
       "\n",
       "    .dataframe tbody tr th {\n",
       "        vertical-align: top;\n",
       "    }\n",
       "\n",
       "    .dataframe thead th {\n",
       "        text-align: right;\n",
       "    }\n",
       "</style>\n",
       "<table border=\"1\" class=\"dataframe\">\n",
       "  <thead>\n",
       "    <tr style=\"text-align: right;\">\n",
       "      <th></th>\n",
       "      <th>label</th>\n",
       "      <th>pixel1</th>\n",
       "      <th>pixel2</th>\n",
       "      <th>pixel3</th>\n",
       "      <th>pixel4</th>\n",
       "      <th>pixel5</th>\n",
       "      <th>pixel6</th>\n",
       "      <th>pixel7</th>\n",
       "      <th>pixel8</th>\n",
       "      <th>pixel9</th>\n",
       "      <th>...</th>\n",
       "      <th>pixel775</th>\n",
       "      <th>pixel776</th>\n",
       "      <th>pixel777</th>\n",
       "      <th>pixel778</th>\n",
       "      <th>pixel779</th>\n",
       "      <th>pixel780</th>\n",
       "      <th>pixel781</th>\n",
       "      <th>pixel782</th>\n",
       "      <th>pixel783</th>\n",
       "      <th>pixel784</th>\n",
       "    </tr>\n",
       "  </thead>\n",
       "  <tbody>\n",
       "    <tr>\n",
       "      <th>0</th>\n",
       "      <td>3</td>\n",
       "      <td>107</td>\n",
       "      <td>118</td>\n",
       "      <td>127</td>\n",
       "      <td>134</td>\n",
       "      <td>139</td>\n",
       "      <td>143</td>\n",
       "      <td>146</td>\n",
       "      <td>150</td>\n",
       "      <td>153</td>\n",
       "      <td>...</td>\n",
       "      <td>207</td>\n",
       "      <td>207</td>\n",
       "      <td>207</td>\n",
       "      <td>207</td>\n",
       "      <td>206</td>\n",
       "      <td>206</td>\n",
       "      <td>206</td>\n",
       "      <td>204</td>\n",
       "      <td>203</td>\n",
       "      <td>202</td>\n",
       "    </tr>\n",
       "    <tr>\n",
       "      <th>1</th>\n",
       "      <td>6</td>\n",
       "      <td>155</td>\n",
       "      <td>157</td>\n",
       "      <td>156</td>\n",
       "      <td>156</td>\n",
       "      <td>156</td>\n",
       "      <td>157</td>\n",
       "      <td>156</td>\n",
       "      <td>158</td>\n",
       "      <td>158</td>\n",
       "      <td>...</td>\n",
       "      <td>69</td>\n",
       "      <td>149</td>\n",
       "      <td>128</td>\n",
       "      <td>87</td>\n",
       "      <td>94</td>\n",
       "      <td>163</td>\n",
       "      <td>175</td>\n",
       "      <td>103</td>\n",
       "      <td>135</td>\n",
       "      <td>149</td>\n",
       "    </tr>\n",
       "    <tr>\n",
       "      <th>2</th>\n",
       "      <td>2</td>\n",
       "      <td>187</td>\n",
       "      <td>188</td>\n",
       "      <td>188</td>\n",
       "      <td>187</td>\n",
       "      <td>187</td>\n",
       "      <td>186</td>\n",
       "      <td>187</td>\n",
       "      <td>188</td>\n",
       "      <td>187</td>\n",
       "      <td>...</td>\n",
       "      <td>202</td>\n",
       "      <td>201</td>\n",
       "      <td>200</td>\n",
       "      <td>199</td>\n",
       "      <td>198</td>\n",
       "      <td>199</td>\n",
       "      <td>198</td>\n",
       "      <td>195</td>\n",
       "      <td>194</td>\n",
       "      <td>195</td>\n",
       "    </tr>\n",
       "    <tr>\n",
       "      <th>3</th>\n",
       "      <td>2</td>\n",
       "      <td>211</td>\n",
       "      <td>211</td>\n",
       "      <td>212</td>\n",
       "      <td>212</td>\n",
       "      <td>211</td>\n",
       "      <td>210</td>\n",
       "      <td>211</td>\n",
       "      <td>210</td>\n",
       "      <td>210</td>\n",
       "      <td>...</td>\n",
       "      <td>235</td>\n",
       "      <td>234</td>\n",
       "      <td>233</td>\n",
       "      <td>231</td>\n",
       "      <td>230</td>\n",
       "      <td>226</td>\n",
       "      <td>225</td>\n",
       "      <td>222</td>\n",
       "      <td>229</td>\n",
       "      <td>163</td>\n",
       "    </tr>\n",
       "    <tr>\n",
       "      <th>4</th>\n",
       "      <td>13</td>\n",
       "      <td>164</td>\n",
       "      <td>167</td>\n",
       "      <td>170</td>\n",
       "      <td>172</td>\n",
       "      <td>176</td>\n",
       "      <td>179</td>\n",
       "      <td>180</td>\n",
       "      <td>184</td>\n",
       "      <td>185</td>\n",
       "      <td>...</td>\n",
       "      <td>92</td>\n",
       "      <td>105</td>\n",
       "      <td>105</td>\n",
       "      <td>108</td>\n",
       "      <td>133</td>\n",
       "      <td>163</td>\n",
       "      <td>157</td>\n",
       "      <td>163</td>\n",
       "      <td>164</td>\n",
       "      <td>179</td>\n",
       "    </tr>\n",
       "  </tbody>\n",
       "</table>\n",
       "<p>5 rows × 785 columns</p>\n",
       "</div>"
      ]
     },
     "execution_count": 3,
     "metadata": {},
     "output_type": "execute_result"
    }
   ],
   "execution_count": 3
  },
  {
   "metadata": {
    "ExecuteTime": {
     "end_time": "2025-02-09T11:13:46.476231Z",
     "start_time": "2025-02-09T11:13:46.410915Z"
    }
   },
   "cell_type": "code",
   "source": [
    "# Extracting the Labels and Images\n",
    "y_train = train_df.pop('label')\n",
    "y_valid = valid_df.pop('label')\n",
    "\n",
    "x_train = train_df.values\n",
    "x_valid = valid_df.values"
   ],
   "id": "f9eeb7fefd463217",
   "outputs": [],
   "execution_count": 4
  },
  {
   "metadata": {
    "ExecuteTime": {
     "end_time": "2025-02-09T11:13:46.527006Z",
     "start_time": "2025-02-09T11:13:46.524037Z"
    }
   },
   "cell_type": "code",
   "source": "x_train.shape",
   "id": "9a75cef2d890cbc3",
   "outputs": [
    {
     "data": {
      "text/plain": [
       "(27455, 784)"
      ]
     },
     "execution_count": 5,
     "metadata": {},
     "output_type": "execute_result"
    }
   ],
   "execution_count": 5
  },
  {
   "metadata": {
    "ExecuteTime": {
     "end_time": "2025-02-09T11:13:46.555467Z",
     "start_time": "2025-02-09T11:13:46.550944Z"
    }
   },
   "cell_type": "code",
   "source": "y_train.shape",
   "id": "f7b0c559b1c9576",
   "outputs": [
    {
     "data": {
      "text/plain": [
       "(27455,)"
      ]
     },
     "execution_count": 6,
     "metadata": {},
     "output_type": "execute_result"
    }
   ],
   "execution_count": 6
  },
  {
   "metadata": {
    "ExecuteTime": {
     "end_time": "2025-02-09T11:13:46.944734Z",
     "start_time": "2025-02-09T11:13:46.605601Z"
    }
   },
   "cell_type": "code",
   "source": [
    "# Visualizing the Data\n",
    "plt.figure(figsize=(40,40))\n",
    "\n",
    "num_images = 20\n",
    "for i in range(num_images):\n",
    "    row = x_train[i]\n",
    "    label = y_train[i]\n",
    "\n",
    "    image = row.reshape(28,28)\n",
    "    plt.subplot(1, num_images, i+1)\n",
    "    plt.title(label, fontdict={'fontsize': 30})\n",
    "    plt.axis('off')\n",
    "    plt.imshow(image, cmap='gray')"
   ],
   "id": "b4b21a14fa9c11fd",
   "outputs": [
    {
     "data": {
      "text/plain": [
       "<Figure size 4000x4000 with 20 Axes>"
      ],
      "image/png": "[encoded data removed]"
     },
     "metadata": {},
     "output_type": "display_data"
    }
   ],
   "execution_count": 7
  },
  {
   "metadata": {
    "ExecuteTime": {
     "end_time": "2025-02-09T11:13:47.120817Z",
     "start_time": "2025-02-09T11:13:47.102022Z"
    }
   },
   "cell_type": "code",
   "source": "x_train.min()",
   "id": "72821ae395338015",
   "outputs": [
    {
     "data": {
      "text/plain": [
       "np.int64(0)"
      ]
     },
     "execution_count": 8,
     "metadata": {},
     "output_type": "execute_result"
    }
   ],
   "execution_count": 8
  },
  {
   "metadata": {
    "ExecuteTime": {
     "end_time": "2025-02-09T11:13:47.197318Z",
     "start_time": "2025-02-09T11:13:47.190712Z"
    }
   },
   "cell_type": "code",
   "source": "x_train.max()",
   "id": "c4abf88ecf9b6c60",
   "outputs": [
    {
     "data": {
      "text/plain": [
       "np.int64(255)"
      ]
     },
     "execution_count": 9,
     "metadata": {},
     "output_type": "execute_result"
    }
   ],
   "execution_count": 9
  },
  {
   "metadata": {
    "ExecuteTime": {
     "end_time": "2025-02-09T11:13:47.319167Z",
     "start_time": "2025-02-09T11:13:47.268495Z"
    }
   },
   "cell_type": "code",
   "source": [
    "# Normalizing the Data\n",
    "x_train = x_train / 255\n",
    "x_valid = x_valid / 255"
   ],
   "id": "a402ae11120e2d77",
   "outputs": [],
   "execution_count": 10
  },
  {
   "metadata": {
    "ExecuteTime": {
     "end_time": "2025-02-09T11:13:47.409678Z",
     "start_time": "2025-02-09T11:13:47.406998Z"
    }
   },
   "cell_type": "code",
   "source": [
    "class MyDataset:\n",
    "    def __init__(self, x_df, y_df):\n",
    "        self.xs = jnp.array(x_df)\n",
    "        self.ys = jnp.array(y_df)\n",
    "\n",
    "    def __getitem__(self, idx):\n",
    "        x = self.xs[idx]\n",
    "        y = self.ys[idx]\n",
    "        return x, y\n",
    "\n",
    "    def __len__(self):\n",
    "        return len(self.xs)"
   ],
   "id": "5730cb28ef5d2dbd",
   "outputs": [],
   "execution_count": 11
  },
  {
   "metadata": {
    "ExecuteTime": {
     "end_time": "2025-02-09T11:13:47.550781Z",
     "start_time": "2025-02-09T11:13:47.420735Z"
    }
   },
   "cell_type": "code",
   "source": [
    "BATCH_SIZE = 32\n",
    "\n",
    "train_data = MyDataset(x_train, y_train)"
   ],
   "id": "6a3b913e4aad5e41",
   "outputs": [],
   "execution_count": 12
  },
  {
   "metadata": {
    "ExecuteTime": {
     "end_time": "2025-02-09T11:13:47.671170Z",
     "start_time": "2025-02-09T11:13:47.562458Z"
    }
   },
   "cell_type": "code",
   "source": [
    "# Batching the data\n",
    "def create_batches(dataset, batch_size):\n",
    "    num_batches = len(dataset) // batch_size\n",
    "    for i in range(num_batches):\n",
    "        yield dataset[i * batch_size:(i + 1) * batch_size]\n",
    "\n",
    "# Creating batches\n",
    "train_batches = list(create_batches(train_data, BATCH_SIZE))\n",
    "\n",
    "# Putting the data on the device\n",
    "train_loader = [jax.device_put(batch) for batch in train_batches]"
   ],
   "id": "50a44fb9bbaf918d",
   "outputs": [],
   "execution_count": 13
  },
  {
   "metadata": {
    "ExecuteTime": {
     "end_time": "2025-02-09T11:13:47.779754Z",
     "start_time": "2025-02-09T11:13:47.683337Z"
    }
   },
   "cell_type": "code",
   "source": [
    "valid_data = MyDataset(x_valid, y_valid)\n",
    "valid_batches = list(create_batches(valid_data, BATCH_SIZE))\n",
    "valid_loader = [jax.device_put(batch) for batch in valid_batches]"
   ],
   "id": "9d74e9f0984eb4e3",
   "outputs": [],
   "execution_count": 14
  },
  {
   "metadata": {
    "ExecuteTime": {
     "end_time": "2025-02-09T11:13:47.795963Z",
     "start_time": "2025-02-09T11:13:47.794196Z"
    }
   },
   "cell_type": "code",
   "source": [
    "train_N = len(train_loader)\n",
    "valid_N = len(valid_loader)"
   ],
   "id": "85c735522056bce9",
   "outputs": [],
   "execution_count": 15
  },
  {
   "metadata": {
    "ExecuteTime": {
     "end_time": "2025-02-09T11:13:47.813853Z",
     "start_time": "2025-02-09T11:13:47.810302Z"
    }
   },
   "cell_type": "code",
   "source": [
    "batch = next(iter(train_loader))\n",
    "batch"
   ],
   "id": "5a77caa4255ce413",
   "outputs": [
    {
     "data": {
      "text/plain": [
       "(Array([[0.41960785, 0.4627451 , 0.49803922, ..., 0.8       , 0.79607844,\n",
       "         0.7921569 ],\n",
       "        [0.60784316, 0.6156863 , 0.6117647 , ..., 0.40392157, 0.5294118 ,\n",
       "         0.58431375],\n",
       "        [0.73333335, 0.7372549 , 0.7372549 , ..., 0.7647059 , 0.7607843 ,\n",
       "         0.7647059 ],\n",
       "        ...,\n",
       "        [0.57254905, 0.58431375, 0.5882353 , ..., 0.7607843 , 0.74509805,\n",
       "         0.73333335],\n",
       "        [0.5254902 , 0.53333336, 0.54509807, ..., 0.6156863 , 0.58431375,\n",
       "         0.5529412 ],\n",
       "        [0.5803922 , 0.5921569 , 0.6156863 , ..., 0.44313726, 0.50980395,\n",
       "         0.4862745 ]], dtype=float32),\n",
       " Array([ 3,  6,  2,  2, 13, 16,  8, 22,  3,  3, 18, 10, 16, 22, 20, 16, 17,\n",
       "        13, 13, 19, 18, 21, 16, 23,  3, 23, 24, 18, 22,  1,  1, 12],      dtype=int32))"
      ]
     },
     "execution_count": 16,
     "metadata": {},
     "output_type": "execute_result"
    }
   ],
   "execution_count": 16
  },
  {
   "metadata": {
    "ExecuteTime": {
     "end_time": "2025-02-09T11:13:47.905798Z",
     "start_time": "2025-02-09T11:13:47.902686Z"
    }
   },
   "cell_type": "code",
   "source": "batch[0].shape",
   "id": "cf48fd5353384901",
   "outputs": [
    {
     "data": {
      "text/plain": [
       "(32, 784)"
      ]
     },
     "execution_count": 17,
     "metadata": {},
     "output_type": "execute_result"
    }
   ],
   "execution_count": 17
  },
  {
   "metadata": {
    "ExecuteTime": {
     "end_time": "2025-02-09T11:13:47.988939Z",
     "start_time": "2025-02-09T11:13:47.986898Z"
    }
   },
   "cell_type": "code",
   "source": [
    "# Build the Model\n",
    "input_size = 28 * 28\n",
    "n_classes = 26"
   ],
   "id": "ddf40fa4e58373ae",
   "outputs": [],
   "execution_count": 18
  },
  {
   "metadata": {
    "ExecuteTime": {
     "end_time": "2025-02-09T11:18:19.081999Z",
     "start_time": "2025-02-09T11:18:19.070458Z"
    }
   },
   "cell_type": "code",
   "source": [
    "class SimpleModel(nn.Module):\n",
    "    features: int\n",
    "\n",
    "    @nn.compact\n",
    "    def __call__(self, x):\n",
    "        x = nn.Dense(features=self.features)(x)\n",
    "        x = nn.relu(x)\n",
    "        x = nn.Dense(features=self.features)(x)\n",
    "        x = nn.relu(x)\n",
    "        x = nn.Dense(features=n_classes)(x)\n",
    "        x = nn.log_softmax(x)\n",
    "        return x"
   ],
   "id": "b3cc5aa7d11f5b51",
   "outputs": [],
   "execution_count": 35
  },
  {
   "metadata": {
    "ExecuteTime": {
     "end_time": "2025-02-09T11:18:19.420908Z",
     "start_time": "2025-02-09T11:18:19.413158Z"
    }
   },
   "cell_type": "code",
   "source": [
    "# Initializing the Model\n",
    "rng = jax.random.PRNGKey(0)\n",
    "model = SimpleModel(features=512)\n"
   ],
   "id": "789c39aa6d2ba2df",
   "outputs": [],
   "execution_count": 36
  },
  {
   "metadata": {
    "ExecuteTime": {
     "end_time": "2025-02-09T11:18:19.631811Z",
     "start_time": "2025-02-09T11:18:19.572440Z"
    }
   },
   "cell_type": "code",
   "source": [
    "# initialize the parameters\n",
    "params = model.init(jax.random.PRNGKey(0), batch[0])\n",
    "# forward pass\n",
    "y_pred = model.apply(params, batch[0])"
   ],
   "id": "160a268d286582d6",
   "outputs": [],
   "execution_count": 37
  },
  {
   "metadata": {
    "ExecuteTime": {
     "end_time": "2025-02-09T11:18:19.766021Z",
     "start_time": "2025-02-09T11:18:19.761923Z"
    }
   },
   "cell_type": "code",
   "source": "y_pred[0]",
   "id": "6301711922036a2",
   "outputs": [
    {
     "data": {
      "text/plain": [
       "Array([-3.3545861, -3.4645586, -3.8202145, -3.3521147, -2.8612044,\n",
       "       -2.841241 , -3.4064667, -3.2638159, -3.30827  , -3.6876001,\n",
       "       -3.4105215, -3.669836 , -3.5486255, -3.4766665, -3.1873283,\n",
       "       -2.9187403, -3.6971486, -3.152741 , -3.5459042, -3.2010598,\n",
       "       -2.7745152, -3.1388752, -2.814304 , -2.9584491, -3.597043 ,\n",
       "       -3.4180439], dtype=float32)"
      ]
     },
     "execution_count": 38,
     "metadata": {},
     "output_type": "execute_result"
    }
   ],
   "execution_count": 38
  },
  {
   "metadata": {
    "ExecuteTime": {
     "end_time": "2025-02-09T11:18:20.023742Z",
     "start_time": "2025-02-09T11:18:20.018956Z"
    }
   },
   "cell_type": "code",
   "source": [
    "# Optimizer\n",
    "optimizer = optax.adam(1e-3)\n",
    "opt_state = optimizer.init(params)"
   ],
   "id": "20d73cc3f807873a",
   "outputs": [],
   "execution_count": 39
  },
  {
   "metadata": {
    "ExecuteTime": {
     "end_time": "2025-02-09T11:18:20.446221Z",
     "start_time": "2025-02-09T11:18:20.440485Z"
    }
   },
   "cell_type": "code",
   "source": "model_state = TrainState.create(apply_fn=model.apply, params=params, tx=optimizer,)",
   "id": "eca634aae26f827",
   "outputs": [],
   "execution_count": 40
  },
  {
   "metadata": {
    "ExecuteTime": {
     "end_time": "2025-02-09T11:22:26.736976Z",
     "start_time": "2025-02-09T11:22:26.730784Z"
    }
   },
   "cell_type": "code",
   "source": [
    "def calculate_loss(state, params, batch):\n",
    "    data_input, labels = batch\n",
    "    logits = state.apply_fn(params, data_input)\n",
    "    loss = optax.softmax_cross_entropy_with_integer_labels(logits, labels)\n",
    "    loss = jnp.mean(loss)\n",
    "    return loss"
   ],
   "id": "2472afef83ebcfe",
   "outputs": [],
   "execution_count": 56
  },
  {
   "metadata": {
    "ExecuteTime": {
     "end_time": "2025-02-09T11:22:27.072987Z",
     "start_time": "2025-02-09T11:22:27.070455Z"
    }
   },
   "cell_type": "code",
   "source": "grad_fn = jax.value_and_grad(calculate_loss, argnums=1)",
   "id": "bc06902d7aac76c5",
   "outputs": [],
   "execution_count": 57
  },
  {
   "metadata": {
    "ExecuteTime": {
     "end_time": "2025-02-09T12:10:49.149757Z",
     "start_time": "2025-02-09T12:10:49.135463Z"
    }
   },
   "cell_type": "code",
   "source": [
    "# Accuracy\n",
    "def accuracy(y_true, y_pred):\n",
    "    y_true = jnp.array(y_true)\n",
    "    y_pred = jnp.argmax(y_pred, axis=1)\n",
    "    return jnp.mean(y_true == y_pred)"
   ],
   "id": "a98b0fd361c4c1ac",
   "outputs": [],
   "execution_count": 61
  },
  {
   "metadata": {
    "ExecuteTime": {
     "end_time": "2025-02-09T11:22:27.238038Z",
     "start_time": "2025-02-09T11:22:27.235193Z"
    }
   },
   "cell_type": "code",
   "source": [
    "@jax.jit\n",
    "def train_step(state, batch):\n",
    "    loss, grads = grad_fn(state, state.params, batch)\n",
    "    state = state.apply_gradients(grads=grads)\n",
    "    return state, loss"
   ],
   "id": "a0827eedd59e4caf",
   "outputs": [],
   "execution_count": 58
  },
  {
   "metadata": {
    "ExecuteTime": {
     "end_time": "2025-02-09T12:18:14.846809Z",
     "start_time": "2025-02-09T12:18:14.844078Z"
    }
   },
   "cell_type": "code",
   "source": [
    "def train_model(state, loader, epochs):\n",
    "    loss = 0\n",
    "    for epoch in range(epochs):\n",
    "        for batch in loader:\n",
    "            state, loss = train_step(state, batch)\n",
    "        print(f\"Epoch: {epoch}, Loss: {loss}\")\n",
    "        # accuracy\n",
    "        acc = 0\n",
    "        for batch in valid_loader:\n",
    "\n",
    "            data_input, labels = batch\n",
    "            logits = state.apply_fn(state.params, data_input)\n",
    "            acc += accuracy(labels, logits)\n",
    "        print(f\"Accuracy: {acc / valid_N}\")\n",
    "    return state"
   ],
   "id": "78047808c2cefaec",
   "outputs": [],
   "execution_count": 66
  },
  {
   "metadata": {
    "ExecuteTime": {
     "end_time": "2025-02-09T12:35:12.779642Z",
     "start_time": "2025-02-09T12:31:36.589520Z"
    }
   },
   "cell_type": "code",
   "source": "model_state = train_model(model_state, train_loader, 100)",
   "id": "768739e5bb0bf98f",
   "outputs": [
    {
     "name": "stdout",
     "output_type": "stream",
     "text": [
      "Epoch: 0, Loss: 1.0921701192855835\n",
      "Accuracy: 0.5378069281578064\n",
      "Epoch: 1, Loss: 0.5400298833847046\n",
      "Accuracy: 0.6943359375\n",
      "Epoch: 2, Loss: 0.3492923378944397\n",
      "Accuracy: 0.7509765625\n",
      "Epoch: 3, Loss: 0.17155691981315613\n",
      "Accuracy: 0.7739955186843872\n",
      "Epoch: 4, Loss: 0.04591194912791252\n",
      "Accuracy: 0.8058035969734192\n",
      "Epoch: 5, Loss: 0.21125072240829468\n",
      "Accuracy: 0.7370256781578064\n",
      "Epoch: 6, Loss: 0.003443292109295726\n",
      "Accuracy: 0.814453125\n",
      "Epoch: 7, Loss: 0.0466872863471508\n",
      "Accuracy: 0.7721819281578064\n",
      "Epoch: 8, Loss: 0.002055163960903883\n",
      "Accuracy: 0.8307756781578064\n",
      "Epoch: 9, Loss: 0.0007953073363751173\n",
      "Accuracy: 0.8307756781578064\n",
      "Epoch: 10, Loss: 0.024701770395040512\n",
      "Accuracy: 0.7882254719734192\n",
      "Epoch: 11, Loss: 0.002936303848400712\n",
      "Accuracy: 0.8243582844734192\n",
      "Epoch: 12, Loss: 0.0012725630076602101\n",
      "Accuracy: 0.8247767686843872\n",
      "Epoch: 13, Loss: 0.003641835181042552\n",
      "Accuracy: 0.8258928656578064\n",
      "Epoch: 14, Loss: 0.17931389808654785\n",
      "Accuracy: 0.736328125\n",
      "Epoch: 15, Loss: 0.0011275552678853273\n",
      "Accuracy: 0.8207310438156128\n",
      "Epoch: 16, Loss: 0.0006990343099460006\n",
      "Accuracy: 0.8251953125\n",
      "Epoch: 17, Loss: 0.0005182190798223019\n",
      "Accuracy: 0.8265904188156128\n",
      "Epoch: 18, Loss: 0.0003467551141511649\n",
      "Accuracy: 0.8274274468421936\n",
      "Epoch: 19, Loss: 0.00023725828214082867\n",
      "Accuracy: 0.8263114094734192\n",
      "Epoch: 20, Loss: 0.01831018179655075\n",
      "Accuracy: 0.7625557780265808\n",
      "Epoch: 21, Loss: 0.0020533897913992405\n",
      "Accuracy: 0.8091517686843872\n",
      "Epoch: 22, Loss: 0.001459009712561965\n",
      "Accuracy: 0.8247767686843872\n",
      "Epoch: 23, Loss: 0.000744903925806284\n",
      "Accuracy: 0.8265904188156128\n",
      "Epoch: 24, Loss: 0.00036527059273794293\n",
      "Accuracy: 0.8330078125\n",
      "Epoch: 25, Loss: 0.015589375980198383\n",
      "Accuracy: 0.7177734375\n",
      "Epoch: 26, Loss: 0.001213944866321981\n",
      "Accuracy: 0.8239397406578064\n",
      "Epoch: 27, Loss: 0.0006897362181916833\n",
      "Accuracy: 0.8284040093421936\n",
      "Epoch: 28, Loss: 0.00042908283649012446\n",
      "Accuracy: 0.8302176594734192\n",
      "Epoch: 29, Loss: 0.0002944587613455951\n",
      "Accuracy: 0.8303571343421936\n",
      "Epoch: 30, Loss: 0.00023860286455601454\n",
      "Accuracy: 0.8292410969734192\n",
      "Epoch: 31, Loss: 0.002764658536761999\n",
      "Accuracy: 0.8045479655265808\n",
      "Epoch: 32, Loss: 0.001219264231622219\n",
      "Accuracy: 0.8065010905265808\n",
      "Epoch: 33, Loss: 0.0007557427743449807\n",
      "Accuracy: 0.8119419813156128\n",
      "Epoch: 34, Loss: 0.00047252565855160356\n",
      "Accuracy: 0.8122209906578064\n",
      "Epoch: 35, Loss: 0.010935507714748383\n",
      "Accuracy: 0.8069196343421936\n",
      "Epoch: 36, Loss: 0.0015143153723329306\n",
      "Accuracy: 0.8158482313156128\n",
      "Epoch: 37, Loss: 0.0010153859620913863\n",
      "Accuracy: 0.8247767686843872\n",
      "Epoch: 38, Loss: 0.0007327630883082747\n",
      "Accuracy: 0.8258928656578064\n",
      "Epoch: 39, Loss: 0.0005829381407238543\n",
      "Accuracy: 0.8306361436843872\n",
      "Epoch: 40, Loss: 0.00037119435728527606\n",
      "Accuracy: 0.8331473469734192\n",
      "Epoch: 41, Loss: 0.00883702002465725\n",
      "Accuracy: 0.8207310438156128\n",
      "Epoch: 42, Loss: 0.0017027397407218814\n",
      "Accuracy: 0.8258928656578064\n",
      "Epoch: 43, Loss: 0.0010028345277532935\n",
      "Accuracy: 0.8330078125\n",
      "Epoch: 44, Loss: 0.0007117558270692825\n",
      "Accuracy: 0.8355189561843872\n",
      "Epoch: 45, Loss: 0.0004089492140337825\n",
      "Accuracy: 0.8388671875\n",
      "Epoch: 46, Loss: 0.00024672335712239146\n",
      "Accuracy: 0.8394252061843872\n",
      "Epoch: 47, Loss: 0.00014410912990570068\n",
      "Accuracy: 0.8387276530265808\n",
      "Epoch: 48, Loss: 0.0008874343475326896\n",
      "Accuracy: 0.8324497938156128\n",
      "Epoch: 49, Loss: 0.000557871360797435\n",
      "Accuracy: 0.8353794813156128\n",
      "Epoch: 50, Loss: 0.00040931516559794545\n",
      "Accuracy: 0.8346819281578064\n",
      "Epoch: 51, Loss: 0.0002951001515612006\n",
      "Accuracy: 0.8316127061843872\n",
      "Epoch: 52, Loss: 0.0002178530558012426\n",
      "Accuracy: 0.8331473469734192\n",
      "Epoch: 53, Loss: 0.0001786277280189097\n",
      "Accuracy: 0.8367745280265808\n",
      "Epoch: 54, Loss: 0.00015415124653372914\n",
      "Accuracy: 0.8362165093421936\n",
      "Epoch: 55, Loss: 0.036445342004299164\n",
      "Accuracy: 0.7643694281578064\n",
      "Epoch: 56, Loss: 0.0009009214700199664\n",
      "Accuracy: 0.8291015625\n",
      "Epoch: 57, Loss: 0.0006145096849650145\n",
      "Accuracy: 0.8285435438156128\n",
      "Epoch: 58, Loss: 0.0004347502253949642\n",
      "Accuracy: 0.8303571343421936\n",
      "Epoch: 59, Loss: 0.0002774024032987654\n",
      "Accuracy: 0.8330078125\n",
      "Epoch: 60, Loss: 0.0001893100270535797\n",
      "Accuracy: 0.8332868218421936\n",
      "Epoch: 61, Loss: 0.00013217238301876932\n",
      "Accuracy: 0.8327288031578064\n",
      "Epoch: 62, Loss: 8.306395466206595e-05\n",
      "Accuracy: 0.8342633843421936\n",
      "Epoch: 63, Loss: 0.003302908269688487\n",
      "Accuracy: 0.8127790093421936\n",
      "Epoch: 64, Loss: 0.0005771316937170923\n",
      "Accuracy: 0.8341239094734192\n",
      "Epoch: 65, Loss: 0.0002449784951750189\n",
      "Accuracy: 0.8348214030265808\n",
      "Epoch: 66, Loss: 0.0001569773885421455\n",
      "Accuracy: 0.8377510905265808\n",
      "Epoch: 67, Loss: 0.00010685624147299677\n",
      "Accuracy: 0.8384486436843872\n",
      "Epoch: 68, Loss: 7.401807670248672e-05\n",
      "Accuracy: 0.8408203125\n",
      "Epoch: 69, Loss: 4.877759056398645e-05\n",
      "Accuracy: 0.8441685438156128\n",
      "Epoch: 70, Loss: 3.185466266586445e-05\n",
      "Accuracy: 0.8452845811843872\n",
      "Epoch: 71, Loss: 1.890094245027285e-05\n",
      "Accuracy: 0.8450055718421936\n",
      "Epoch: 72, Loss: 1.5220764908008277e-05\n",
      "Accuracy: 0.8454241156578064\n",
      "Epoch: 73, Loss: 0.004410147666931152\n",
      "Accuracy: 0.7762276530265808\n",
      "Epoch: 74, Loss: 0.0001489327842136845\n",
      "Accuracy: 0.8278459906578064\n",
      "Epoch: 75, Loss: 8.010733290575445e-05\n",
      "Accuracy: 0.8327288031578064\n",
      "Epoch: 76, Loss: 5.4298623581416905e-05\n",
      "Accuracy: 0.8314732313156128\n",
      "Epoch: 77, Loss: 5.0686321628745645e-05\n",
      "Accuracy: 0.8377510905265808\n",
      "Epoch: 78, Loss: 3.514804120641202e-05\n",
      "Accuracy: 0.8324497938156128\n",
      "Epoch: 79, Loss: 2.591074735391885e-05\n",
      "Accuracy: 0.8328682780265808\n",
      "Epoch: 80, Loss: 2.385077823419124e-05\n",
      "Accuracy: 0.8316127061843872\n",
      "Epoch: 81, Loss: 1.7984293663175777e-05\n",
      "Accuracy: 0.8282645344734192\n",
      "Epoch: 82, Loss: 1.4848033970338292e-05\n",
      "Accuracy: 0.8302176594734192\n",
      "Epoch: 83, Loss: 1.0951840522466227e-05\n",
      "Accuracy: 0.833984375\n",
      "Epoch: 84, Loss: 0.004154989495873451\n",
      "Accuracy: 0.8191964030265808\n",
      "Epoch: 85, Loss: 0.0003158982435707003\n",
      "Accuracy: 0.8429129719734192\n",
      "Epoch: 86, Loss: 0.0001615264918655157\n",
      "Accuracy: 0.8408203125\n",
      "Epoch: 87, Loss: 0.00016250554472208023\n",
      "Accuracy: 0.8454241156578064\n",
      "Epoch: 88, Loss: 0.00011301260383334011\n",
      "Accuracy: 0.8490513563156128\n",
      "Epoch: 89, Loss: 6.887616473250091e-05\n",
      "Accuracy: 0.8504464030265808\n",
      "Epoch: 90, Loss: 4.010562406620011e-05\n",
      "Accuracy: 0.8507254719734192\n",
      "Epoch: 91, Loss: 2.2944568627281114e-05\n",
      "Accuracy: 0.8494698405265808\n",
      "Epoch: 92, Loss: 1.2519776646513492e-05\n",
      "Accuracy: 0.8489118218421936\n",
      "Epoch: 93, Loss: 7.643949174962472e-06\n",
      "Accuracy: 0.8487723469734192\n",
      "Epoch: 94, Loss: 6.1576465668622404e-06\n",
      "Accuracy: 0.8444475531578064\n",
      "Epoch: 95, Loss: 4.24297240897431e-06\n",
      "Accuracy: 0.8429129719734192\n",
      "Epoch: 96, Loss: 0.08076055347919464\n",
      "Accuracy: 0.7405133843421936\n",
      "Epoch: 97, Loss: 0.0008731277193874121\n",
      "Accuracy: 0.8046875\n",
      "Epoch: 98, Loss: 0.0003926654171664268\n",
      "Accuracy: 0.8087332844734192\n",
      "Epoch: 99, Loss: 0.00021554171689786017\n",
      "Accuracy: 0.8111048936843872\n"
     ]
    }
   ],
   "execution_count": 68
  },
  {
   "metadata": {},
   "cell_type": "code",
   "outputs": [],
   "execution_count": null,
   "source": "",
   "id": "90a40c59a41dde1a"
  }
 ],
 "metadata": {
  "kernelspec": {
   "display_name": "Python 3",
   "language": "python",
   "name": "python3"
  },
  "language_info": {
   "codemirror_mode": {
    "name": "ipython",
    "version": 2
   },
   "file_extension": ".py",
   "mimetype": "text/x-python",
   "name": "python",
   "nbconvert_exporter": "python",
   "pygments_lexer": "ipython2",
   "version": "2.7.6"
  }
 },
 "nbformat": 4,
 "nbformat_minor": 5
}
